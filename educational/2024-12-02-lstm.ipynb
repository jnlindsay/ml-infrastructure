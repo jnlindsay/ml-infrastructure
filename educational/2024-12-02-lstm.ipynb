{
 "cells": [
  {
   "cell_type": "code",
   "execution_count": 1,
   "metadata": {},
   "outputs": [],
   "source": [
    "import torch\n",
    "from torch import nn\n",
    "from torch import optim"
   ]
  },
  {
   "cell_type": "code",
   "execution_count": 2,
   "metadata": {},
   "outputs": [],
   "source": [
    "class LSTM(nn.Module):\n",
    "    def __init__(self, input_size, hidden_size, sigma=0.01):\n",
    "        super(LSTM, self).__init__()\n",
    "        \n",
    "        self.input_size = input_size\n",
    "        self.hidden_size = hidden_size\n",
    "        init_weight = lambda *shape: nn.Parameter(torch.randn(*shape) * sigma)\n",
    "        triple = lambda: (init_weight(input_size, hidden_size),\n",
    "                         init_weight(hidden_size, hidden_size),\n",
    "                         nn.Parameter(torch.zeros(hidden_size)))\n",
    "\n",
    "        self.W_xi, self.W_hi, self.b_i = triple()  # input gate\n",
    "        self.W_xf, self.W_hf, self.b_f = triple()  # forget gate\n",
    "        self.W_xo, self.W_ho, self.b_o = triple()  # output gate\n",
    "        self.W_xc, self.W_hc, self.b_c = triple()  # input node\n",
    "\n",
    "    def forward(self, inputs, H_C=None):\n",
    "        if H_C is None:\n",
    "            # initial state with shape: (batch_size, hidden_size)\n",
    "            H = torch.zeros((inputs.shape[1], self.hidden_size),\n",
    "                device=inputs.device)\n",
    "            C = torch.zeros((inputs.shape[1], self.hidden_size),\n",
    "                device=inputs.device)\n",
    "        \n",
    "        else:\n",
    "            H, C = H_C\n",
    "        \n",
    "        outputs = []\n",
    "        for X in inputs:\n",
    "            I = torch.sigmoid(torch.matmul(X, self.W_xi) +\n",
    "                        torch.matmul(H, self.W_hi) + self.b_i)\n",
    "            F = torch.sigmoid(torch.matmul(X, self.W_xf) +\n",
    "                            torch.matmul(H, self.W_hf) + self.b_f)\n",
    "            O = torch.sigmoid(torch.matmul(X, self.W_xo) +\n",
    "                            torch.matmul(H, self.W_ho) + self.b_o)\n",
    "            C_tilde = torch.tanh(torch.matmul(X, self.W_xc) +\n",
    "                            torch.matmul(H, self.W_hc) + self.b_c)\n",
    "            C = F * C + I * C_tilde\n",
    "            H = O * torch.tanh(C)\n",
    "\n",
    "            outputs.append(H)\n",
    "\n",
    "        return outputs, (H, C)"
   ]
  },
  {
   "cell_type": "code",
   "execution_count": 3,
   "metadata": {},
   "outputs": [],
   "source": [
    "torch.manual_seed(42)\n",
    "sequence_length = 10\n",
    "input_size = 5\n",
    "hidden_size = 16\n",
    "batch_size = 32\n",
    "num_classes = 2\n",
    "\n",
    "# random input sequences\n",
    "X = torch.randn(sequence_length, batch_size, input_size)\n",
    "\n",
    "# random target outputs for many-to-one classification\n",
    "y = torch.randint(0, num_classes, (batch_size,))"
   ]
  },
  {
   "cell_type": "code",
   "execution_count": 4,
   "metadata": {},
   "outputs": [
    {
     "name": "stdout",
     "output_type": "stream",
     "text": [
      "Epoch 1/20, Loss: 0.6888551115989685\n",
      "Epoch 2/20, Loss: 0.6884186267852783\n",
      "Epoch 3/20, Loss: 0.687986433506012\n",
      "Epoch 4/20, Loss: 0.6875566244125366\n",
      "Epoch 5/20, Loss: 0.6871271729469299\n",
      "Epoch 6/20, Loss: 0.6866956353187561\n",
      "Epoch 7/20, Loss: 0.6862595677375793\n",
      "Epoch 8/20, Loss: 0.6858169436454773\n",
      "Epoch 9/20, Loss: 0.6853659749031067\n",
      "Epoch 10/20, Loss: 0.6849049925804138\n",
      "Epoch 11/20, Loss: 0.6844324469566345\n",
      "Epoch 12/20, Loss: 0.6839473247528076\n",
      "Epoch 13/20, Loss: 0.6834484338760376\n",
      "Epoch 14/20, Loss: 0.6829347014427185\n",
      "Epoch 15/20, Loss: 0.682405412197113\n",
      "Epoch 16/20, Loss: 0.6818597316741943\n",
      "Epoch 17/20, Loss: 0.6812968254089355\n",
      "Epoch 18/20, Loss: 0.680715799331665\n",
      "Epoch 19/20, Loss: 0.6801159977912903\n",
      "Epoch 20/20, Loss: 0.6794965267181396\n"
     ]
    }
   ],
   "source": [
    "# define model and output layer for classification\n",
    "hidden_size = 16\n",
    "output_size = num_classes\n",
    "\n",
    "model = LSTM(input_size=input_size, hidden_size=hidden_size)\n",
    "fc = nn.Linear(hidden_size, output_size)\n",
    "\n",
    "# Define loss and optimiser\n",
    "criterion = nn.CrossEntropyLoss()\n",
    "optimiser = optim.Adam(list(model.parameters()) + list(fc.parameters()), lr=0.001)\n",
    "\n",
    "# Training loop\n",
    "num_epochs = 20\n",
    "for epoch in range(num_epochs):\n",
    "    # reset gradients\n",
    "    optimiser.zero_grad()\n",
    "\n",
    "    # forward pass\n",
    "    outputs, (H, C) = model(X)\n",
    "    logits = fc(H)  # Use the last hidden state for many-to-one classification\n",
    "    loss = criterion(logits, y)\n",
    "\n",
    "    # backward pass\n",
    "    loss.backward()\n",
    "    optimiser.step()\n",
    "\n",
    "    print(f\"Epoch {epoch + 1}/{num_epochs}, Loss: {loss.item()}\")"
   ]
  },
  {
   "cell_type": "code",
   "execution_count": 5,
   "metadata": {},
   "outputs": [
    {
     "name": "stdout",
     "output_type": "stream",
     "text": [
      "Predictions: tensor([0, 0, 0, 0, 0, 0, 0, 0, 0, 0, 0, 0, 0, 0, 0, 0, 0, 0, 0, 0, 0, 0, 0, 0,\n",
      "        0, 0, 0, 0, 0, 0, 0, 0])\n",
      "Ground Truth: tensor([1, 0, 1, 0, 1, 0, 1, 0, 1, 0, 0, 1, 1, 0, 1, 0, 0, 0, 1, 0, 0, 1, 1, 1,\n",
      "        1, 0, 0, 0, 0, 1, 0, 0])\n"
     ]
    }
   ],
   "source": [
    "# test\n",
    "with torch.no_grad():\n",
    "    outputs, (H, C) = model(X)\n",
    "    logits = fc(H)\n",
    "    predictions = torch.argmax(logits, dim=1)\n",
    "    print(f\"Predictions: {predictions}\")\n",
    "    print(f\"Ground Truth: {y}\")"
   ]
  }
 ],
 "metadata": {
  "kernelspec": {
   "display_name": "venv",
   "language": "python",
   "name": "python3"
  },
  "language_info": {
   "codemirror_mode": {
    "name": "ipython",
    "version": 3
   },
   "file_extension": ".py",
   "mimetype": "text/x-python",
   "name": "python",
   "nbconvert_exporter": "python",
   "pygments_lexer": "ipython3",
   "version": "3.12.7"
  }
 },
 "nbformat": 4,
 "nbformat_minor": 2
}
