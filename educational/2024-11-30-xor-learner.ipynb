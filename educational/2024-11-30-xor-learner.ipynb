{
 "cells": [
  {
   "cell_type": "markdown",
   "metadata": {},
   "source": [
    "# Unnecessarily verbose PyTorch example\n",
    "\n",
    "- See the *Deep Learning* textbook for an explanation about why this model cannot learn the XOR function."
   ]
  },
  {
   "cell_type": "code",
   "execution_count": 25,
   "metadata": {},
   "outputs": [],
   "source": [
    "import torch\n",
    "import torch.nn as nn\n",
    "import torch.optim as optim\n",
    "from dataclasses import dataclass"
   ]
  },
  {
   "cell_type": "markdown",
   "metadata": {},
   "source": [
    "Define XOR dataset:"
   ]
  },
  {
   "cell_type": "code",
   "execution_count": 26,
   "metadata": {},
   "outputs": [],
   "source": [
    "X = torch.tensor([[0, 0], [0, 1], [1, 0], [1, 1]], dtype=torch.float32) # inputs\n",
    "y = torch.tensor([[0], [1], [1], [0]], dtype=torch.float32) # outputs"
   ]
  },
  {
   "cell_type": "markdown",
   "metadata": {},
   "source": [
    "Define model:"
   ]
  },
  {
   "cell_type": "code",
   "execution_count": 27,
   "metadata": {},
   "outputs": [],
   "source": [
    "class XorLearner(nn.Module):\n",
    "    def __init__(self, hidden_layer = False):\n",
    "        super().__init__()\n",
    "        self.hidden = nn.Linear(2, 2) if hidden_layer else None\n",
    "        self.output = nn.Linear(2, 1)\n",
    "\n",
    "    def forward(self, x):\n",
    "        if (self.hidden): x = torch.relu(self.hidden(x))\n",
    "        x = self.output(x)\n",
    "        return x"
   ]
  },
  {
   "cell_type": "markdown",
   "metadata": {},
   "source": [
    "Model wrapper class:"
   ]
  },
  {
   "cell_type": "code",
   "execution_count": 28,
   "metadata": {},
   "outputs": [],
   "source": [
    "@dataclass\n",
    "class ModelWrapper:\n",
    "    model: nn.Module\n",
    "    optimiser: optim.Optimizer"
   ]
  },
  {
   "cell_type": "markdown",
   "metadata": {},
   "source": [
    "Define and wrap models:"
   ]
  },
  {
   "cell_type": "code",
   "execution_count": 29,
   "metadata": {},
   "outputs": [
    {
     "name": "stdout",
     "output_type": "stream",
     "text": [
      "<bound method Module.parameters of XorLearner(\n",
      "  (output): Linear(in_features=2, out_features=1, bias=True)\n",
      ")>\n",
      "<bound method Module.parameters of XorLearner(\n",
      "  (hidden): Linear(in_features=2, out_features=2, bias=True)\n",
      "  (output): Linear(in_features=2, out_features=1, bias=True)\n",
      ")>\n"
     ]
    }
   ],
   "source": [
    "models = [XorLearner(), XorLearner(hidden_layer=True)]\n",
    "optimisers = [optim.SGD(model.parameters(), lr=0.1) for model in models]\n",
    "modelWrappers = [ModelWrapper(models[i], optimisers[i]) for i in range(2)]\n",
    "\n",
    "for wrapper in modelWrappers:\n",
    "    print(wrapper.model.parameters)"
   ]
  },
  {
   "cell_type": "markdown",
   "metadata": {},
   "source": [
    "Define loss and optimiser:\n",
    "- `lr` is learning rate"
   ]
  },
  {
   "cell_type": "code",
   "execution_count": 30,
   "metadata": {},
   "outputs": [],
   "source": [
    "criterion = nn.MSELoss()"
   ]
  },
  {
   "cell_type": "markdown",
   "metadata": {},
   "source": [
    "Train model\n",
    "- [`torch.optim.Optimizer.zero_grad()`](https://pytorch.org/docs/stable/generated/torch.optim.Optimizer.zero_grad.html)\n",
    "- [`torch.optim.Optimizer.step()`](https://pytorch.org/docs/stable/generated/torch.optim.Optimizer.step.html)\n",
    "- [`torch.Tensor.backward()`](https://pytorch.org/docs/stable/generated/torch.Tensor.backward.html)"
   ]
  },
  {
   "cell_type": "code",
   "execution_count": 31,
   "metadata": {},
   "outputs": [
    {
     "name": "stdout",
     "output_type": "stream",
     "text": [
      "Training model XorLearner(\n",
      "  (output): Linear(in_features=2, out_features=1, bias=True)\n",
      ")\n",
      "Epoch [0/1000], Loss: 1.47379469871521\n",
      "Epoch [100/1000], Loss: 0.25008296966552734\n",
      "Epoch [200/1000], Loss: 0.25000011920928955\n",
      "Epoch [300/1000], Loss: 0.25\n",
      "Epoch [400/1000], Loss: 0.2499999850988388\n",
      "Epoch [500/1000], Loss: 0.25\n",
      "Epoch [600/1000], Loss: 0.25\n",
      "Epoch [700/1000], Loss: 0.25\n",
      "Epoch [800/1000], Loss: 0.25\n",
      "Epoch [900/1000], Loss: 0.25\n",
      "\n",
      "Training model XorLearner(\n",
      "  (hidden): Linear(in_features=2, out_features=2, bias=True)\n",
      "  (output): Linear(in_features=2, out_features=1, bias=True)\n",
      ")\n",
      "Epoch [0/1000], Loss: 0.37634336948394775\n",
      "Epoch [100/1000], Loss: 0.17715170979499817\n",
      "Epoch [200/1000], Loss: 0.04685131460428238\n",
      "Epoch [300/1000], Loss: 5.050896288594231e-05\n",
      "Epoch [400/1000], Loss: 2.3386069969433265e-08\n",
      "Epoch [500/1000], Loss: 1.075414497037075e-11\n",
      "Epoch [600/1000], Loss: 3.393093098158495e-13\n",
      "Epoch [700/1000], Loss: 1.5818683168911107e-13\n",
      "Epoch [800/1000], Loss: 1.1001356076123514e-13\n",
      "Epoch [900/1000], Loss: 1.1220538387313184e-13\n",
      "\n"
     ]
    }
   ],
   "source": [
    "num_epochs = 1000\n",
    "for wrapper in modelWrappers:\n",
    "    print(f\"Training model {wrapper.model}\")\n",
    "\n",
    "    for epoch in range(num_epochs):\n",
    "        outputs = wrapper.model(X)\n",
    "        loss = criterion(outputs, y)\n",
    "        wrapper.optimiser.zero_grad()\n",
    "        loss.backward()\n",
    "        wrapper.optimiser.step()\n",
    "\n",
    "        if epoch % 100 == 0:\n",
    "            print(f\"Epoch [{epoch}/{num_epochs}], Loss: {loss.item()}\") \n",
    "\n",
    "    print(\"\")"
   ]
  },
  {
   "cell_type": "markdown",
   "metadata": {},
   "source": [
    "Test model"
   ]
  },
  {
   "cell_type": "code",
   "execution_count": 32,
   "metadata": {},
   "outputs": [
    {
     "name": "stdout",
     "output_type": "stream",
     "text": [
      "XorLearner(\n",
      "  (output): Linear(in_features=2, out_features=1, bias=True)\n",
      ")\n",
      "Predictions:\n",
      "tensor([[0.5000],\n",
      "        [0.5000],\n",
      "        [0.5000],\n",
      "        [0.5000]])\n",
      "\n",
      "XorLearner(\n",
      "  (hidden): Linear(in_features=2, out_features=2, bias=True)\n",
      "  (output): Linear(in_features=2, out_features=1, bias=True)\n",
      ")\n",
      "Predictions:\n",
      "tensor([[ 4.3586e-07],\n",
      "        [ 1.0000e+00],\n",
      "        [ 1.0000e+00],\n",
      "        [-1.8626e-09]])\n",
      "\n"
     ]
    }
   ],
   "source": [
    "for wrapper in modelWrappers:\n",
    "    print(wrapper.model)\n",
    "    with torch.no_grad():\n",
    "        predictions = wrapper.model(X)\n",
    "        print(\"Predictions:\")\n",
    "        print(predictions)\n",
    "        print(\"\")"
   ]
  }
 ],
 "metadata": {
  "kernelspec": {
   "display_name": "venv",
   "language": "python",
   "name": "python3"
  },
  "language_info": {
   "codemirror_mode": {
    "name": "ipython",
    "version": 3
   },
   "file_extension": ".py",
   "mimetype": "text/x-python",
   "name": "python",
   "nbconvert_exporter": "python",
   "pygments_lexer": "ipython3",
   "version": "3.12.7"
  }
 },
 "nbformat": 4,
 "nbformat_minor": 2
}
