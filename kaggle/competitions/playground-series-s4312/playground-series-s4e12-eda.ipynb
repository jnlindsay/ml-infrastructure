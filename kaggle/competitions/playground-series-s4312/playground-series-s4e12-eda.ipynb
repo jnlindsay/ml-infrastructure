{
 "cells": [
  {
   "cell_type": "markdown",
   "metadata": {},
   "source": [
    "- Download data: `kaggle competitions download -c playground-series-s4e12`"
   ]
  },
  {
   "cell_type": "code",
   "execution_count": null,
   "metadata": {},
   "outputs": [],
   "source": [
    "df = pl.scan_csv('../../data/playground-series-s4e12/train.csv')"
   ]
  }
 ],
 "metadata": {
  "language_info": {
   "name": "python"
  }
 },
 "nbformat": 4,
 "nbformat_minor": 2
}
