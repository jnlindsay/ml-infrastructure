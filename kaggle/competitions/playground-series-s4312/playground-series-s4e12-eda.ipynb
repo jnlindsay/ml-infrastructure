{
 "cells": [
  {
   "cell_type": "markdown",
   "metadata": {},
   "source": [
    "- Download data: `kaggle competitions download -c playground-series-s4e12`"
   ]
  },
  {
   "cell_type": "code",
   "execution_count": 1,
   "metadata": {},
   "outputs": [],
   "source": [
    "import polars as pl"
   ]
  },
  {
   "cell_type": "code",
   "execution_count": 2,
   "metadata": {
    "editable": true,
    "slideshow": {
     "slide_type": ""
    },
    "tags": []
   },
   "outputs": [
    {
     "name": "stdout",
     "output_type": "stream",
     "text": [
      "shape: (1_200_000, 21)\n",
      "┌─────────┬──────┬────────┬──────────────────┬───┬─────────┬───────────┬─────────────────┬─────────┐\n",
      "│ id      ┆ Age  ┆ Gender ┆ Annual Income    ┆ … ┆ Smoking ┆ Exercise  ┆ Property Type   ┆ Premium │\n",
      "│ ---     ┆ ---  ┆ ---    ┆ ---              ┆   ┆ Status  ┆ Frequency ┆ ---             ┆ Amount  │\n",
      "│ i64     ┆ f64  ┆ str    ┆ f64              ┆   ┆ ---     ┆ ---       ┆ str             ┆ ---     │\n",
      "│         ┆      ┆        ┆                  ┆   ┆ str     ┆ str       ┆                 ┆ f64     │\n",
      "╞═════════╪══════╪════════╪══════════════════╪═══╪═════════╪═══════════╪═════════════════╪═════════╡\n",
      "│ 0       ┆ 19.0 ┆ Female ┆ 10049.0          ┆ … ┆ No      ┆ Weekly    ┆ House           ┆ 2869.0  │\n",
      "│ 1       ┆ 39.0 ┆ Female ┆ 31678.0          ┆ … ┆ Yes     ┆ Monthly   ┆ House           ┆ 1483.0  │\n",
      "│ 2       ┆ 23.0 ┆ Male   ┆ 25602.0          ┆ … ┆ Yes     ┆ Weekly    ┆ House           ┆ 567.0   │\n",
      "│ 3       ┆ 21.0 ┆ Male   ┆ 141855.0         ┆ … ┆ Yes     ┆ Daily     ┆ Apartment       ┆ 765.0   │\n",
      "│ 4       ┆ 21.0 ┆ Male   ┆ 39651.0          ┆ … ┆ Yes     ┆ Weekly    ┆ House           ┆ 2022.0  │\n",
      "│ …       ┆ …    ┆ …      ┆ …                ┆ … ┆ …       ┆ …         ┆ …               ┆ …       │\n",
      "│ 1199995 ┆ 36.0 ┆ Female ┆ 27316.0          ┆ … ┆ No      ┆ Daily     ┆ Apartment       ┆ 1303.0  │\n",
      "│ 1199996 ┆ 54.0 ┆ Male   ┆ 35786.0          ┆ … ┆ No      ┆ Weekly    ┆ Apartment       ┆ 821.0   │\n",
      "│ 1199997 ┆ 19.0 ┆ Male   ┆ 51884.0          ┆ … ┆ No      ┆ Monthly   ┆ Condo           ┆ 371.0   │\n",
      "│ 1199998 ┆ 55.0 ┆ Male   ┆ null             ┆ … ┆ No      ┆ Daily     ┆ Apartment       ┆ 596.0   │\n",
      "│ 1199999 ┆ 21.0 ┆ Female ┆ null             ┆ … ┆ Yes     ┆ Monthly   ┆ House           ┆ 2480.0  │\n",
      "└─────────┴──────┴────────┴──────────────────┴───┴─────────┴───────────┴─────────────────┴─────────┘\n"
     ]
    }
   ],
   "source": [
    "df = pl.read_csv('../../data/playground-series-s4e12/train.csv')\n",
    "print(df)"
   ]
  }
 ],
 "metadata": {
  "kernelspec": {
   "display_name": "Python 3 (ipykernel)",
   "language": "python",
   "name": "python3"
  },
  "language_info": {
   "codemirror_mode": {
    "name": "ipython",
    "version": 3
   },
   "file_extension": ".py",
   "mimetype": "text/x-python",
   "name": "python",
   "nbconvert_exporter": "python",
   "pygments_lexer": "ipython3",
   "version": "3.12.8"
  }
 },
 "nbformat": 4,
 "nbformat_minor": 4
}
