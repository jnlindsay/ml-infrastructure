{
 "cells": [
  {
   "metadata": {},
   "cell_type": "markdown",
   "source": "# Model trainer runner\n",
   "id": "c5ef2baf69f2e26f"
  },
  {
   "metadata": {
    "ExecuteTime": {
     "end_time": "2024-12-22T04:12:50.459335Z",
     "start_time": "2024-12-22T04:12:49.649979Z"
    }
   },
   "cell_type": "code",
   "source": [
    "from trainers.grid_autoencoder_trainer import GridAutoencoderTrainer\n",
    "from trainers.grid_counter_trainer import GridCounterTrainer\n",
    "from trainers.xor_machine_trainer import XorMachineTrainer"
   ],
   "id": "3ccfb4be330c13d4",
   "outputs": [],
   "execution_count": 1
  },
  {
   "metadata": {},
   "cell_type": "markdown",
   "source": "## Grid Autoencoder",
   "id": "f10fe27fe0a7e18d"
  },
  {
   "metadata": {
    "ExecuteTime": {
     "end_time": "2024-12-22T04:12:51.320434Z",
     "start_time": "2024-12-22T04:12:51.309227Z"
    }
   },
   "cell_type": "code",
   "source": [
    "grid_autoencoder_trainer = GridAutoencoderTrainer(10, 10)\n",
    "\n",
    "training_phases = [\n",
    "    GridAutoencoderTrainer.TrainingPhase(\"random_lines\", 1000, 20),\n",
    "    GridAutoencoderTrainer.TrainingPhase(\"random\", 1000, 5),\n",
    "    GridAutoencoderTrainer.TrainingPhase(\"random_lines_mixin_0.1\", 1000, 50),\n",
    "    GridAutoencoderTrainer.TrainingPhase(\"random_lines\", 1000, 20),\n",
    "    GridAutoencoderTrainer.TrainingPhase(\"random_lines\", 1000, 1000)\n",
    "]\n",
    "\n",
    "grid_autoencoder_trainer.train(training_phases, force_retrain=False)\n",
    "grid_autoencoder_trainer.demonstrate(\"random_lines\")"
   ],
   "id": "11ac0a469f981f0e",
   "outputs": [
    {
     "name": "stdout",
     "output_type": "stream",
     "text": [
      "This model has already been trained. Loading file '/Users/jeremylindsay/Documents/Programming/ml-infrastructure/src/trainers/saved_models/grid_autoencoder.pth'...\n",
      "Original Grid:\n",
      "['0.00', '0.00', '0.00', '0.00', '0.00', '0.00', '0.00', '0.00', '0.00', '0.00']\n",
      "['0.00', '0.00', '0.00', '0.00', '0.00', '0.00', '0.00', '0.00', '0.00', '0.00']\n",
      "['0.00', '0.00', '0.00', '0.00', '0.00', '0.00', '0.00', '0.00', '0.00', '0.00']\n",
      "['0.00', '0.00', '0.00', '0.00', '0.00', '0.00', '0.00', '0.00', '0.00', '0.00']\n",
      "['0.00', '0.00', '0.00', '0.00', '0.00', '0.00', '0.00', '0.00', '0.00', '0.00']\n",
      "['0.00', '0.00', '0.00', '0.00', '0.00', '0.00', '0.00', '0.00', '0.00', '0.00']\n",
      "['0.00', '0.00', '0.00', '0.00', '0.00', '0.00', '0.00', '0.00', '0.00', '0.00']\n",
      "['0.00', '0.00', '0.00', '0.00', '0.00', '0.00', '0.00', '1.00', '1.00', '0.00']\n",
      "['0.00', '0.00', '0.00', '0.00', '0.00', '0.00', '0.00', '0.00', '0.00', '0.00']\n",
      "['0.00', '0.00', '0.00', '0.00', '0.00', '0.00', '0.00', '0.00', '0.00', '0.00']\n",
      "\n",
      "Reconstructed Grid:\n",
      "['0.00', '0.00', '0.00', '0.00', '0.00', '0.00', '0.00', '0.00', '0.00', '0.00']\n",
      "['0.00', '0.00', '0.00', '0.00', '0.00', '0.00', '0.00', '0.00', '0.00', '0.00']\n",
      "['0.00', '0.00', '0.00', '0.00', '0.00', '0.00', '0.00', '0.00', '0.00', '0.00']\n",
      "['0.00', '0.00', '0.00', '0.00', '0.00', '0.00', '0.00', '0.00', '0.00', '0.00']\n",
      "['0.00', '0.00', '0.00', '0.00', '0.00', '0.00', '0.00', '0.00', '0.00', '0.00']\n",
      "['0.00', '0.00', '0.00', '0.00', '0.00', '0.00', '0.00', '0.00', '0.00', '0.00']\n",
      "['0.00', '0.00', '0.00', '0.00', '0.00', '0.00', '0.00', '0.00', '0.00', '0.00']\n",
      "['0.00', '0.00', '0.00', '0.00', '0.00', '0.00', '0.00', '1.00', '1.00', '0.00']\n",
      "['0.00', '0.00', '0.00', '0.00', '0.00', '0.00', '0.00', '0.00', '0.00', '0.00']\n",
      "['0.00', '0.00', '0.00', '0.00', '0.00', '0.00', '0.00', '0.00', '0.00', '0.00']\n"
     ]
    }
   ],
   "execution_count": 2
  },
  {
   "metadata": {},
   "cell_type": "markdown",
   "source": "### Training type: random symmetrical grids",
   "id": "a1874e9e36c713a1"
  },
  {
   "metadata": {
    "ExecuteTime": {
     "end_time": "2024-12-22T04:12:56.605364Z",
     "start_time": "2024-12-22T04:12:56.597347Z"
    }
   },
   "cell_type": "code",
   "source": [
    "grid_autoencoder_trainer = GridAutoencoderTrainer(10, 10)\n",
    "\n",
    "training_phases = [\n",
    "    GridAutoencoderTrainer.TrainingPhase(\"random_symmetrical\", 1000, 100),\n",
    "]\n",
    "\n",
    "grid_autoencoder_trainer.train(training_phases, force_retrain=False)\n",
    "grid_autoencoder_trainer.demonstrate(\"random_symmetrical\")"
   ],
   "id": "4c0ce52b748b7732",
   "outputs": [
    {
     "name": "stdout",
     "output_type": "stream",
     "text": [
      "This model has already been trained. Loading file '/Users/jeremylindsay/Documents/Programming/ml-infrastructure/src/trainers/saved_models/grid_autoencoder.pth'...\n",
      "Original Grid:\n",
      "['0.11', '0.05', '0.10', '0.07', '0.45', '0.45', '0.07', '0.10', '0.05', '0.11']\n",
      "['0.97', '0.98', '0.67', '0.81', '0.47', '0.47', '0.81', '0.67', '0.98', '0.97']\n",
      "['0.53', '0.36', '0.31', '0.55', '0.90', '0.90', '0.55', '0.31', '0.36', '0.53']\n",
      "['0.35', '0.70', '0.49', '0.23', '0.59', '0.59', '0.23', '0.49', '0.70', '0.35']\n",
      "['0.43', '0.71', '0.41', '0.29', '0.78', '0.78', '0.29', '0.41', '0.71', '0.43']\n",
      "['0.44', '0.13', '0.13', '0.82', '0.82', '0.82', '0.82', '0.13', '0.13', '0.44']\n",
      "['0.21', '0.51', '0.41', '0.47', '0.75', '0.75', '0.47', '0.41', '0.51', '0.21']\n",
      "['0.75', '0.58', '0.11', '0.46', '0.54', '0.54', '0.46', '0.11', '0.58', '0.75']\n",
      "['0.66', '0.14', '0.94', '0.30', '0.63', '0.63', '0.30', '0.94', '0.14', '0.66']\n",
      "['0.13', '0.52', '0.80', '0.29', '0.01', '0.01', '0.29', '0.80', '0.52', '0.13']\n",
      "\n",
      "Reconstructed Grid:\n",
      "['0.00', '0.00', '0.00', '0.00', '0.99', '0.95', '0.00', '0.00', '0.00', '0.00']\n",
      "['1.00', '1.00', '0.00', '0.00', '0.00', '0.00', '0.00', '0.00', '1.00', '1.00']\n",
      "['0.00', '0.00', '0.00', '1.00', '0.75', '1.00', '0.00', '0.00', '0.00', '0.03']\n",
      "['0.00', '0.00', '0.00', '0.00', '0.00', '0.00', '0.04', '1.00', '0.33', '0.00']\n",
      "['0.00', '0.00', '0.00', '0.00', '0.00', '0.00', '0.00', '0.00', '0.00', '0.00']\n",
      "['0.00', '0.00', '0.00', '0.00', '1.00', '0.00', '0.00', '0.00', '0.00', '0.00']\n",
      "['0.00', '0.00', '0.00', '0.00', '0.00', '0.00', '0.00', '0.00', '0.00', '0.00']\n",
      "['0.00', '1.00', '0.00', '0.00', '0.00', '0.00', '0.00', '0.00', '0.00', '0.00']\n",
      "['0.83', '0.00', '0.00', '0.00', '0.00', '0.00', '0.00', '0.00', '0.00', '0.01']\n",
      "['1.00', '0.00', '0.00', '0.00', '0.00', '0.00', '0.00', '0.00', '0.23', '0.99']\n"
     ]
    }
   ],
   "execution_count": 3
  },
  {
   "metadata": {},
   "cell_type": "markdown",
   "source": "## Grid Counter",
   "id": "a4b1802b4410b160"
  },
  {
   "metadata": {
    "ExecuteTime": {
     "end_time": "2024-12-22T04:13:07.372632Z",
     "start_time": "2024-12-22T04:13:07.135796Z"
    }
   },
   "cell_type": "code",
   "source": [
    "grid_counter_trainer = GridCounterTrainer(32, 64, 10)\n",
    "grid_counter_trainer.train(force_retrain=False)\n",
    "grid_counter_trainer.demonstrate()"
   ],
   "id": "d8c7584bf1b627ad",
   "outputs": [
    {
     "name": "stdout",
     "output_type": "stream",
     "text": [
      "This model has already been trained. Loading file '/Users/jeremylindsay/Documents/Programming/ml-infrastructure/src/trainers/saved_models/grid_counter.pth'...\n",
      "tensor([[[[1., 0., 0., 0., 0., 0., 0., 0., 0., 0.],\n",
      "          [0., 0., 0., 0., 0., 0., 0., 0., 0., 0.],\n",
      "          [0., 0., 0., 0., 0., 0., 0., 0., 0., 0.],\n",
      "          [0., 0., 0., 1., 0., 0., 0., 0., 0., 0.],\n",
      "          [0., 0., 0., 0., 0., 0., 0., 0., 0., 0.],\n",
      "          [0., 1., 0., 0., 0., 1., 0., 0., 0., 0.],\n",
      "          [0., 0., 0., 0., 0., 0., 0., 0., 0., 0.],\n",
      "          [0., 0., 0., 0., 0., 0., 0., 0., 0., 1.],\n",
      "          [0., 0., 0., 0., 0., 0., 0., 0., 0., 0.],\n",
      "          [0., 0., 0., 0., 0., 0., 0., 0., 0., 0.]]]], device='mps:0')\n",
      "Target count: 5.0\n",
      "Predicted count: [4.55047607421875]\n",
      "Mask memory:\n",
      "tensor([[5.6819, 4.6998, 5.9509, 5.7251, 6.0075, 4.0254, 4.6894, 4.5105, 5.3087,\n",
      "         5.4190],\n",
      "        [3.9792, 6.3030, 6.1264, 6.7623, 5.7171, 6.6038, 3.4123, 5.1937, 5.1100,\n",
      "         5.9360],\n",
      "        [4.2989, 3.4895, 4.8264, 4.2594, 4.7458, 4.3590, 4.2055, 6.0729, 4.6335,\n",
      "         4.3606],\n",
      "        [6.5556, 4.7101, 3.2114, 4.3424, 5.0012, 3.6378, 6.1784, 3.2710, 6.1888,\n",
      "         5.9398],\n",
      "        [5.1049, 6.0931, 4.1550, 5.0172, 3.5100, 3.5992, 4.5665, 5.2971, 5.7685,\n",
      "         3.8587],\n",
      "        [4.7707, 6.1920, 5.2397, 6.7119, 5.3659, 4.6227, 4.7351, 4.6350, 4.6101,\n",
      "         5.6905],\n",
      "        [4.9353, 4.8748, 5.5017, 5.3152, 5.3891, 4.4691, 5.0875, 5.7724, 4.7344,\n",
      "         5.1874],\n",
      "        [6.3405, 6.2287, 4.2289, 5.8967, 4.2242, 5.0555, 6.4624, 4.6474, 2.5976,\n",
      "         5.6174],\n",
      "        [5.1588, 4.2983, 3.3729, 3.5766, 5.9013, 4.7586, 5.8461, 4.9556, 6.5405,\n",
      "         5.7457],\n",
      "        [4.7694, 4.1438, 5.8092, 6.3971, 4.5882, 4.8152, 5.2186, 5.6596, 4.2862,\n",
      "         5.7232]], device='mps:0')\n"
     ]
    }
   ],
   "execution_count": 4
  },
  {
   "metadata": {},
   "cell_type": "markdown",
   "source": "## XOR Machine",
   "id": "e9f1bb3fc74f9d11"
  },
  {
   "metadata": {
    "ExecuteTime": {
     "end_time": "2024-12-22T04:13:11.042001Z",
     "start_time": "2024-12-22T04:13:10.395201Z"
    }
   },
   "cell_type": "code",
   "source": [
    "xor_machine_trainer = XorMachineTrainer(hidden_layer=False)\n",
    "xor_machine_trainer.train()\n",
    "xor_machine_trainer.demonstrate()"
   ],
   "id": "3222b778bc46afc",
   "outputs": [
    {
     "name": "stdout",
     "output_type": "stream",
     "text": [
      "Epoch [0/1000], Loss: 1.0180448293685913\n",
      "Epoch [100/1000], Loss: 0.25015413761138916\n",
      "Epoch [200/1000], Loss: 0.2500002682209015\n",
      "Epoch [300/1000], Loss: 0.25\n",
      "Epoch [400/1000], Loss: 0.25\n",
      "Epoch [500/1000], Loss: 0.25\n",
      "Epoch [600/1000], Loss: 0.25\n",
      "Epoch [700/1000], Loss: 0.25\n",
      "Epoch [800/1000], Loss: 0.25\n",
      "Epoch [900/1000], Loss: 0.25\n",
      "\n",
      "Predictions:\n",
      "tensor([[0.5000],\n",
      "        [0.5000],\n",
      "        [0.5000],\n",
      "        [0.5000]])\n",
      "\n"
     ]
    }
   ],
   "execution_count": 5
  },
  {
   "metadata": {
    "ExecuteTime": {
     "end_time": "2024-12-22T04:13:12.556020Z",
     "start_time": "2024-12-22T04:13:12.462334Z"
    }
   },
   "cell_type": "code",
   "source": [
    "xor_machine_trainer = XorMachineTrainer(hidden_layer=True)\n",
    "xor_machine_trainer.train()\n",
    "xor_machine_trainer.demonstrate()"
   ],
   "id": "4ae30d1b8a664549",
   "outputs": [
    {
     "name": "stdout",
     "output_type": "stream",
     "text": [
      "Epoch [0/1000], Loss: 0.9869808554649353\n",
      "Epoch [100/1000], Loss: 0.1638801544904709\n",
      "Epoch [200/1000], Loss: 0.05774831026792526\n",
      "Epoch [300/1000], Loss: 0.004638003185391426\n",
      "Epoch [400/1000], Loss: 0.00016592929023317993\n",
      "Epoch [500/1000], Loss: 5.215838427830022e-06\n",
      "Epoch [600/1000], Loss: 1.5077043258315825e-07\n",
      "Epoch [700/1000], Loss: 4.166618161605129e-09\n",
      "Epoch [800/1000], Loss: 1.219957468379107e-10\n",
      "Epoch [900/1000], Loss: 3.869793374633446e-12\n",
      "\n",
      "Predictions:\n",
      "tensor([[6.5565e-07],\n",
      "        [1.0000e+00],\n",
      "        [1.0000e+00],\n",
      "        [7.1526e-07]])\n",
      "\n"
     ]
    }
   ],
   "execution_count": 6
  }
 ],
 "metadata": {
  "kernelspec": {
   "display_name": "Python 3",
   "language": "python",
   "name": "python3"
  },
  "language_info": {
   "codemirror_mode": {
    "name": "ipython",
    "version": 2
   },
   "file_extension": ".py",
   "mimetype": "text/x-python",
   "name": "python",
   "nbconvert_exporter": "python",
   "pygments_lexer": "ipython2",
   "version": "2.7.6"
  }
 },
 "nbformat": 4,
 "nbformat_minor": 5
}
