{
 "cells": [
  {
   "metadata": {},
   "cell_type": "markdown",
   "source": "# Model trainer runner\n",
   "id": "c5ef2baf69f2e26f"
  },
  {
   "metadata": {
    "ExecuteTime": {
     "end_time": "2024-12-22T00:12:23.808956Z",
     "start_time": "2024-12-22T00:12:23.181157Z"
    }
   },
   "cell_type": "code",
   "source": [
    "from trainers.grid_autoencoder_trainer import GridAutoencoderTrainer\n",
    "from trainers.grid_counter_trainer import GridCounterTrainer\n",
    "from trainers.xor_machine_trainer import XorMachineTrainer"
   ],
   "id": "3ccfb4be330c13d4",
   "outputs": [],
   "execution_count": 1
  },
  {
   "metadata": {},
   "cell_type": "markdown",
   "source": "## Grid Autoencoder",
   "id": "f10fe27fe0a7e18d"
  },
  {
   "metadata": {
    "ExecuteTime": {
     "end_time": "2024-12-22T00:12:23.818401Z",
     "start_time": "2024-12-22T00:12:23.812368Z"
    }
   },
   "cell_type": "code",
   "source": [
    "grid_autoencoder_trainer = GridAutoencoderTrainer(10, 10)\n",
    "\n",
    "training_phases = [\n",
    "    GridAutoencoderTrainer.TrainingPhase(\"random_lines\", 1000, 20),\n",
    "    GridAutoencoderTrainer.TrainingPhase(\"random\", 1000, 5),\n",
    "    GridAutoencoderTrainer.TrainingPhase(\"random_lines_mixin_0.1\", 1000, 50),\n",
    "    GridAutoencoderTrainer.TrainingPhase(\"random_lines\", 1000, 20),\n",
    "    GridAutoencoderTrainer.TrainingPhase(\"random_lines\", 1000, 1000)\n",
    "]\n",
    "\n",
    "grid_autoencoder_trainer.train(training_phases, force_retrain=False)\n",
    "grid_autoencoder_trainer.demonstrate()"
   ],
   "id": "11ac0a469f981f0e",
   "outputs": [
    {
     "name": "stdout",
     "output_type": "stream",
     "text": [
      "This model has already been trained. Loading file '/Users/jeremylindsay/Documents/Programming/ml-infrastructure/src/trainers/saved_models/grid_autoencoder.pth'...\n",
      "Original Grid:\n",
      "['0.00', '0.00', '0.00', '0.00', '0.00', '0.00', '0.00', '0.00', '0.00', '0.00']\n",
      "['0.00', '0.00', '0.00', '0.00', '0.00', '0.00', '0.00', '0.00', '0.00', '0.00']\n",
      "['0.00', '0.00', '0.00', '0.00', '0.00', '0.00', '0.00', '0.00', '0.00', '0.00']\n",
      "['0.00', '0.00', '0.00', '0.00', '1.00', '0.00', '0.00', '0.00', '0.00', '0.00']\n",
      "['0.00', '0.00', '0.00', '1.00', '0.00', '0.00', '0.00', '0.00', '0.00', '0.00']\n",
      "['0.00', '0.00', '0.00', '0.00', '0.00', '0.00', '0.00', '0.00', '0.00', '0.00']\n",
      "['0.00', '0.00', '0.00', '0.00', '0.00', '0.00', '0.00', '0.00', '0.00', '0.00']\n",
      "['0.00', '0.00', '0.00', '0.00', '0.00', '0.00', '0.00', '0.00', '0.00', '0.00']\n",
      "['0.00', '0.00', '0.00', '0.00', '0.00', '0.00', '0.00', '0.00', '0.00', '0.00']\n",
      "['0.00', '0.00', '0.00', '0.00', '0.00', '0.00', '0.00', '0.00', '0.00', '0.00']\n",
      "\n",
      "Reconstructed Grid:\n",
      "['0.00', '0.00', '0.00', '0.00', '0.00', '0.00', '0.00', '0.00', '0.00', '0.00']\n",
      "['0.00', '0.00', '0.00', '0.00', '0.00', '0.00', '0.00', '0.00', '0.00', '0.00']\n",
      "['0.00', '0.00', '0.00', '0.00', '0.00', '0.00', '0.00', '0.00', '0.00', '0.00']\n",
      "['0.00', '0.00', '0.00', '0.00', '1.00', '0.00', '0.00', '0.00', '0.00', '0.00']\n",
      "['0.00', '0.00', '0.00', '1.00', '0.00', '0.00', '0.00', '0.00', '0.00', '0.00']\n",
      "['0.00', '0.00', '0.00', '0.00', '0.00', '0.00', '0.00', '0.00', '0.00', '0.00']\n",
      "['0.00', '0.00', '0.00', '0.00', '0.00', '0.00', '0.00', '0.00', '0.00', '0.00']\n",
      "['0.00', '0.00', '0.00', '0.00', '0.00', '0.00', '0.00', '0.00', '0.00', '0.00']\n",
      "['0.00', '0.00', '0.00', '0.00', '0.00', '0.00', '0.00', '0.00', '0.00', '0.00']\n",
      "['0.00', '0.00', '0.00', '0.00', '0.00', '0.00', '0.00', '0.00', '0.00', '0.00']\n"
     ]
    }
   ],
   "execution_count": 2
  },
  {
   "metadata": {},
   "cell_type": "markdown",
   "source": "## Grid Counter",
   "id": "a4b1802b4410b160"
  },
  {
   "metadata": {
    "ExecuteTime": {
     "end_time": "2024-12-22T00:12:24.074337Z",
     "start_time": "2024-12-22T00:12:23.874259Z"
    }
   },
   "cell_type": "code",
   "source": [
    "grid_counter_trainer = GridCounterTrainer(32, 64, 10)\n",
    "grid_counter_trainer.train(force_retrain=False)\n",
    "grid_counter_trainer.demonstrate()"
   ],
   "id": "d8c7584bf1b627ad",
   "outputs": [
    {
     "name": "stdout",
     "output_type": "stream",
     "text": [
      "This model has already been trained. Loading file '/Users/jeremylindsay/Documents/Programming/ml-infrastructure/src/trainers/saved_models/grid_counter.pth'...\n",
      "tensor([[[[0., 0., 0., 0., 0., 0., 0., 0., 0., 1.],\n",
      "          [0., 0., 0., 0., 1., 0., 0., 0., 0., 0.],\n",
      "          [0., 0., 0., 0., 0., 0., 0., 0., 0., 0.],\n",
      "          [1., 0., 1., 0., 0., 0., 0., 1., 0., 0.],\n",
      "          [0., 0., 0., 0., 0., 0., 0., 0., 0., 0.],\n",
      "          [1., 0., 0., 0., 0., 1., 0., 0., 0., 0.],\n",
      "          [0., 0., 0., 0., 0., 0., 0., 0., 0., 0.],\n",
      "          [0., 0., 1., 0., 0., 0., 0., 0., 0., 0.],\n",
      "          [0., 0., 0., 0., 0., 0., 0., 0., 0., 0.],\n",
      "          [0., 0., 1., 0., 0., 1., 0., 0., 0., 0.]]]], device='mps:0')\n",
      "Target count: 10.0\n",
      "Predicted count: [9.97769546508789]\n",
      "Mask memory:\n",
      "tensor([[11.0178,  8.3829, 10.7121, 10.8712, 11.2690,  7.4356,  8.2880,  9.4342,\n",
      "          9.9867, 10.8198],\n",
      "        [ 6.7724, 11.4213, 11.3612, 12.8756, 10.7440, 12.5493,  6.3271,  8.7446,\n",
      "          9.0374, 11.2853],\n",
      "        [ 8.8204,  7.1374,  8.5543,  7.9364,  9.5122,  8.2243,  7.5931, 11.3258,\n",
      "          9.2196,  8.1294],\n",
      "        [13.1617,  8.5557,  6.4090,  8.4842,  9.2316,  7.4438, 12.4060,  6.2892,\n",
      "         12.0095, 12.3081],\n",
      "        [10.1683, 11.7304,  7.1214,  9.4041,  6.6369,  7.4032,  8.6050,  9.9899,\n",
      "         11.7133,  7.1811],\n",
      "        [ 9.1054, 11.8115,  9.5710, 12.6567,  9.5915,  9.5905,  9.6905,  8.5979,\n",
      "          9.0935, 11.3058],\n",
      "        [ 8.9162,  9.2083, 10.0030,  9.5882, 11.2583,  8.3564,  9.2317, 11.6592,\n",
      "          9.5952,  9.4915],\n",
      "        [11.7877, 12.1619,  7.3476, 12.3485,  8.8372,  9.6251, 12.1525,  9.4709,\n",
      "          4.5507, 10.2705],\n",
      "        [10.1763,  8.1643,  6.3033,  5.6650, 11.5690,  9.1288, 11.4803,  9.3593,\n",
      "         12.9622, 11.1906],\n",
      "        [ 8.4206,  7.6720, 10.2775, 12.1950,  8.9126,  9.9338, 10.5875, 10.4683,\n",
      "          8.4864, 10.8887]], device='mps:0')\n"
     ]
    }
   ],
   "execution_count": 3
  },
  {
   "metadata": {},
   "cell_type": "markdown",
   "source": "## XOR Machine",
   "id": "e9f1bb3fc74f9d11"
  },
  {
   "metadata": {
    "ExecuteTime": {
     "end_time": "2024-12-22T00:12:24.670361Z",
     "start_time": "2024-12-22T00:12:24.131131Z"
    }
   },
   "cell_type": "code",
   "source": [
    "xor_machine_trainer = XorMachineTrainer(hidden_layer=False)\n",
    "xor_machine_trainer.train()\n",
    "xor_machine_trainer.demonstrate()"
   ],
   "id": "3222b778bc46afc",
   "outputs": [
    {
     "name": "stdout",
     "output_type": "stream",
     "text": [
      "Epoch [0/1000], Loss: 0.689049482345581\n",
      "Epoch [100/1000], Loss: 0.25010454654693604\n",
      "Epoch [200/1000], Loss: 0.2500001788139343\n",
      "Epoch [300/1000], Loss: 0.2499999850988388\n",
      "Epoch [400/1000], Loss: 0.25\n",
      "Epoch [500/1000], Loss: 0.25\n",
      "Epoch [600/1000], Loss: 0.25\n",
      "Epoch [700/1000], Loss: 0.25\n",
      "Epoch [800/1000], Loss: 0.25\n",
      "Epoch [900/1000], Loss: 0.25\n",
      "\n",
      "Predictions:\n",
      "tensor([[0.5000],\n",
      "        [0.5000],\n",
      "        [0.5000],\n",
      "        [0.5000]])\n",
      "\n"
     ]
    }
   ],
   "execution_count": 4
  },
  {
   "metadata": {
    "ExecuteTime": {
     "end_time": "2024-12-22T00:12:24.815636Z",
     "start_time": "2024-12-22T00:12:24.733129Z"
    }
   },
   "cell_type": "code",
   "source": [
    "xor_machine_trainer = XorMachineTrainer(hidden_layer=True)\n",
    "xor_machine_trainer.train()\n",
    "xor_machine_trainer.demonstrate()"
   ],
   "id": "4ae30d1b8a664549",
   "outputs": [
    {
     "name": "stdout",
     "output_type": "stream",
     "text": [
      "Epoch [0/1000], Loss: 0.2801341116428375\n",
      "Epoch [100/1000], Loss: 0.004744746256619692\n",
      "Epoch [200/1000], Loss: 1.1473684025986586e-05\n",
      "Epoch [300/1000], Loss: 2.2614930372810704e-08\n",
      "Epoch [400/1000], Loss: 4.535114644932392e-11\n",
      "Epoch [500/1000], Loss: 2.967053415025428e-13\n",
      "Epoch [600/1000], Loss: 2.371261824049564e-13\n",
      "Epoch [700/1000], Loss: 2.2245294256824366e-13\n",
      "Epoch [800/1000], Loss: 2.2287040106223205e-13\n",
      "Epoch [900/1000], Loss: 2.3436314737848574e-13\n",
      "\n",
      "Predictions:\n",
      "tensor([[4.7435e-07],\n",
      "        [1.0000e+00],\n",
      "        [1.0000e+00],\n",
      "        [4.6345e-07]])\n",
      "\n"
     ]
    }
   ],
   "execution_count": 5
  }
 ],
 "metadata": {
  "kernelspec": {
   "display_name": "Python 3",
   "language": "python",
   "name": "python3"
  },
  "language_info": {
   "codemirror_mode": {
    "name": "ipython",
    "version": 2
   },
   "file_extension": ".py",
   "mimetype": "text/x-python",
   "name": "python",
   "nbconvert_exporter": "python",
   "pygments_lexer": "ipython2",
   "version": "2.7.6"
  }
 },
 "nbformat": 4,
 "nbformat_minor": 5
}
