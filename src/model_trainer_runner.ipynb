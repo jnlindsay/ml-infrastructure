{
 "cells": [
  {
   "metadata": {},
   "cell_type": "markdown",
   "source": "# Model trainer runner\n",
   "id": "c5ef2baf69f2e26f"
  },
  {
   "metadata": {
    "ExecuteTime": {
     "end_time": "2024-12-21T23:57:37.434323Z",
     "start_time": "2024-12-21T23:57:36.656159Z"
    }
   },
   "cell_type": "code",
   "source": [
    "from trainers.grid_autoencoder_trainer import GridAutoencoderTrainer\n",
    "from trainers.grid_counter_trainer import GridCounterTrainer"
   ],
   "id": "3ccfb4be330c13d4",
   "outputs": [],
   "execution_count": 1
  },
  {
   "metadata": {},
   "cell_type": "markdown",
   "source": "## Grid Autoencoder",
   "id": "f10fe27fe0a7e18d"
  },
  {
   "metadata": {
    "ExecuteTime": {
     "end_time": "2024-12-21T23:57:37.444995Z",
     "start_time": "2024-12-21T23:57:37.438567Z"
    }
   },
   "cell_type": "code",
   "source": [
    "grid_autoencoder_trainer = GridAutoencoderTrainer(10, 10)\n",
    "\n",
    "training_phases = [\n",
    "    GridAutoencoderTrainer.TrainingPhase(\"random_lines\", 1000, 20),\n",
    "    GridAutoencoderTrainer.TrainingPhase(\"random\", 1000, 5),\n",
    "    GridAutoencoderTrainer.TrainingPhase(\"random_lines_mixin_0.1\", 1000, 50),\n",
    "    GridAutoencoderTrainer.TrainingPhase(\"random_lines\", 1000, 20),\n",
    "    GridAutoencoderTrainer.TrainingPhase(\"random_lines\", 1000, 1000)\n",
    "]\n",
    "\n",
    "grid_autoencoder_trainer.train(training_phases, force_retrain=False)\n",
    "grid_autoencoder_trainer.demonstrate()"
   ],
   "id": "11ac0a469f981f0e",
   "outputs": [
    {
     "name": "stdout",
     "output_type": "stream",
     "text": [
      "This model has already been trained. Loading file '/Users/jeremylindsay/Documents/Programming/ml-infrastructure/src/trainers/saved_models/grid_autoencoder.pth'...\n",
      "Original Grid:\n",
      "['0.00', '0.00', '0.00', '0.00', '0.00', '0.00', '0.00', '0.00', '0.00', '0.00']\n",
      "['0.00', '0.00', '0.00', '0.00', '0.00', '0.00', '0.00', '0.00', '0.00', '0.00']\n",
      "['0.00', '0.00', '0.00', '0.00', '0.00', '0.00', '1.00', '0.00', '0.00', '0.00']\n",
      "['0.00', '0.00', '0.00', '0.00', '0.00', '0.00', '1.00', '0.00', '0.00', '0.00']\n",
      "['0.00', '0.00', '0.00', '0.00', '0.00', '0.00', '0.00', '1.00', '0.00', '0.00']\n",
      "['0.00', '0.00', '0.00', '0.00', '0.00', '0.00', '0.00', '1.00', '0.00', '0.00']\n",
      "['0.00', '0.00', '0.00', '0.00', '0.00', '0.00', '0.00', '0.00', '1.00', '0.00']\n",
      "['0.00', '0.00', '0.00', '0.00', '0.00', '0.00', '0.00', '0.00', '1.00', '0.00']\n",
      "['0.00', '0.00', '0.00', '0.00', '0.00', '0.00', '0.00', '0.00', '0.00', '1.00']\n",
      "['0.00', '0.00', '0.00', '0.00', '0.00', '0.00', '0.00', '0.00', '0.00', '1.00']\n",
      "\n",
      "Reconstructed Grid:\n",
      "['0.00', '0.00', '0.00', '0.00', '0.00', '0.00', '0.00', '0.00', '0.00', '0.00']\n",
      "['0.00', '0.00', '0.00', '0.00', '0.00', '0.00', '0.00', '0.00', '0.00', '0.00']\n",
      "['0.00', '0.00', '0.00', '0.00', '0.00', '0.00', '1.00', '0.00', '0.00', '0.00']\n",
      "['0.00', '0.00', '0.00', '0.00', '0.00', '0.00', '1.00', '0.00', '0.00', '0.00']\n",
      "['0.00', '0.00', '0.00', '0.00', '0.00', '0.00', '0.00', '1.00', '0.00', '0.00']\n",
      "['0.00', '0.00', '0.00', '0.00', '0.00', '0.00', '0.00', '1.00', '0.00', '0.00']\n",
      "['0.00', '0.00', '0.00', '0.00', '0.00', '0.00', '0.00', '0.00', '1.00', '0.00']\n",
      "['0.00', '0.00', '0.00', '0.00', '0.00', '0.00', '0.00', '0.00', '1.00', '0.00']\n",
      "['0.00', '0.00', '0.00', '0.00', '0.00', '0.00', '0.00', '0.00', '0.00', '1.00']\n",
      "['0.00', '0.00', '0.00', '0.00', '0.00', '0.00', '0.00', '0.00', '0.00', '1.00']\n"
     ]
    }
   ],
   "execution_count": 2
  },
  {
   "metadata": {},
   "cell_type": "markdown",
   "source": "## Grid Counter",
   "id": "a4b1802b4410b160"
  },
  {
   "metadata": {
    "ExecuteTime": {
     "end_time": "2024-12-21T23:57:37.740466Z",
     "start_time": "2024-12-21T23:57:37.514797Z"
    }
   },
   "cell_type": "code",
   "source": [
    "grid_counter_trainer = GridCounterTrainer(32, 64, 10)\n",
    "grid_counter_trainer.train(force_retrain=False)\n",
    "grid_counter_trainer.demonstrate()"
   ],
   "id": "d8c7584bf1b627ad",
   "outputs": [
    {
     "name": "stdout",
     "output_type": "stream",
     "text": [
      "This model has already been trained. Loading file '/Users/jeremylindsay/Documents/Programming/ml-infrastructure/src/trainers/saved_models/grid_counter.pth'...\n",
      "tensor([[[[0., 0., 0., 0., 0., 0., 0., 0., 0., 0.],\n",
      "          [1., 0., 0., 0., 0., 0., 1., 0., 0., 0.],\n",
      "          [0., 0., 0., 0., 0., 0., 0., 0., 0., 0.],\n",
      "          [0., 0., 0., 0., 0., 0., 0., 0., 0., 0.],\n",
      "          [0., 0., 0., 0., 0., 0., 1., 0., 0., 0.],\n",
      "          [0., 0., 0., 0., 0., 0., 0., 0., 0., 0.],\n",
      "          [0., 0., 0., 0., 0., 1., 0., 0., 0., 0.],\n",
      "          [0., 0., 0., 0., 0., 0., 0., 0., 0., 0.],\n",
      "          [0., 0., 0., 0., 0., 0., 0., 0., 0., 0.],\n",
      "          [0., 0., 0., 0., 0., 0., 0., 0., 0., 0.]]]], device='mps:0')\n",
      "Target count: 4.0\n",
      "Predicted count: [3.484706401824951]\n",
      "Mask memory:\n",
      "tensor([[4.4790, 3.7417, 4.8403, 4.5837, 4.7496, 3.3364, 3.7009, 3.4699, 4.4102,\n",
      "         4.2677],\n",
      "        [3.3533, 5.0820, 4.9419, 5.3830, 4.5563, 5.2843, 2.7833, 4.3193, 4.0963,\n",
      "         4.7343],\n",
      "        [3.4569, 2.7569, 3.8545, 3.4085, 3.7725, 3.4130, 3.4016, 4.8809, 3.7034,\n",
      "         3.4424],\n",
      "        [5.2203, 3.6753, 2.5670, 3.4143, 4.0961, 2.8617, 4.8802, 2.5938, 4.8647,\n",
      "         4.5190],\n",
      "        [4.0484, 4.7826, 3.3763, 4.1167, 2.7373, 2.8740, 3.6304, 4.2479, 4.5203,\n",
      "         3.0402],\n",
      "        [3.8481, 4.9207, 4.2325, 5.3835, 4.3345, 3.6041, 3.7158, 3.8384, 3.6499,\n",
      "         4.5485],\n",
      "        [4.0175, 3.8233, 4.4250, 4.2865, 4.1336, 3.5668, 4.0593, 4.5511, 3.7294,\n",
      "         4.2627],\n",
      "        [5.0445, 4.9443, 3.3728, 4.4730, 3.1672, 4.0708, 5.1490, 3.7275, 2.2005,\n",
      "         4.4907],\n",
      "        [4.0723, 3.4729, 2.7282, 2.9826, 4.6111, 3.7688, 4.6507, 3.8688, 5.1305,\n",
      "         4.4840],\n",
      "        [3.9190, 3.3948, 4.8036, 4.9606, 3.8196, 3.7345, 4.0267, 4.6249, 3.3269,\n",
      "         4.6347]], device='mps:0')\n"
     ]
    }
   ],
   "execution_count": 3
  }
 ],
 "metadata": {
  "kernelspec": {
   "display_name": "Python 3",
   "language": "python",
   "name": "python3"
  },
  "language_info": {
   "codemirror_mode": {
    "name": "ipython",
    "version": 2
   },
   "file_extension": ".py",
   "mimetype": "text/x-python",
   "name": "python",
   "nbconvert_exporter": "python",
   "pygments_lexer": "ipython2",
   "version": "2.7.6"
  }
 },
 "nbformat": 4,
 "nbformat_minor": 5
}
