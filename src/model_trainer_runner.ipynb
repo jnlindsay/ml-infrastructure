{
 "cells": [
  {
   "metadata": {},
   "cell_type": "markdown",
   "source": "# Model trainer runner\n",
   "id": "c5ef2baf69f2e26f"
  },
  {
   "metadata": {
    "ExecuteTime": {
     "end_time": "2024-12-21T23:45:30.012181Z",
     "start_time": "2024-12-21T23:45:29.171255Z"
    }
   },
   "cell_type": "code",
   "source": [
    "from trainers.grid_autoencoder_trainer import GridAutoencoderTrainer\n",
    "from trainers.grid_counter_trainer import GridCounterTrainer"
   ],
   "id": "3ccfb4be330c13d4",
   "outputs": [],
   "execution_count": 1
  },
  {
   "metadata": {},
   "cell_type": "markdown",
   "source": "## Grid Autoencoder",
   "id": "f10fe27fe0a7e18d"
  },
  {
   "metadata": {
    "ExecuteTime": {
     "end_time": "2024-12-21T23:45:30.020576Z",
     "start_time": "2024-12-21T23:45:30.014936Z"
    }
   },
   "cell_type": "code",
   "source": [
    "grid_autoencoder_trainer = GridAutoencoderTrainer(10, 10)\n",
    "\n",
    "training_phases = [\n",
    "    GridAutoencoderTrainer.TrainingPhase(\"random_lines\", 1000, 20),\n",
    "    GridAutoencoderTrainer.TrainingPhase(\"random\", 1000, 5),\n",
    "    GridAutoencoderTrainer.TrainingPhase(\"random_lines_mixin_0.1\", 1000, 50),\n",
    "    GridAutoencoderTrainer.TrainingPhase(\"random_lines\", 1000, 20),\n",
    "    GridAutoencoderTrainer.TrainingPhase(\"random_lines\", 1000, 1000)\n",
    "]\n",
    "\n",
    "grid_autoencoder_trainer.train(training_phases, force_retrain=False)\n",
    "grid_autoencoder_trainer.demonstrate()"
   ],
   "id": "11ac0a469f981f0e",
   "outputs": [
    {
     "name": "stdout",
     "output_type": "stream",
     "text": [
      "This model has already been trained. Loading file 'grid_autoencoder.pth'...\n",
      "Original Grid:\n",
      "['0.00', '0.00', '0.00', '0.00', '0.00', '0.00', '0.00', '0.00', '0.00', '0.00']\n",
      "['0.00', '0.00', '0.00', '0.00', '0.00', '0.00', '0.00', '0.00', '0.00', '0.00']\n",
      "['0.00', '0.00', '1.00', '1.00', '1.00', '0.00', '0.00', '0.00', '0.00', '0.00']\n",
      "['0.00', '0.00', '0.00', '0.00', '0.00', '1.00', '1.00', '1.00', '0.00', '0.00']\n",
      "['0.00', '0.00', '0.00', '0.00', '0.00', '0.00', '0.00', '0.00', '0.00', '0.00']\n",
      "['0.00', '0.00', '0.00', '0.00', '0.00', '0.00', '0.00', '0.00', '0.00', '0.00']\n",
      "['0.00', '0.00', '0.00', '0.00', '0.00', '0.00', '0.00', '0.00', '0.00', '0.00']\n",
      "['0.00', '0.00', '0.00', '0.00', '0.00', '0.00', '0.00', '0.00', '0.00', '0.00']\n",
      "['0.00', '0.00', '0.00', '0.00', '0.00', '0.00', '0.00', '0.00', '0.00', '0.00']\n",
      "['0.00', '0.00', '0.00', '0.00', '0.00', '0.00', '0.00', '0.00', '0.00', '0.00']\n",
      "\n",
      "Reconstructed Grid:\n",
      "['0.00', '0.00', '0.00', '0.00', '0.00', '0.00', '0.00', '0.00', '0.00', '0.00']\n",
      "['0.00', '0.00', '0.00', '0.00', '0.00', '0.00', '0.00', '0.00', '0.00', '0.00']\n",
      "['0.00', '0.00', '1.00', '1.00', '1.00', '0.00', '0.00', '0.00', '0.00', '0.00']\n",
      "['0.00', '0.00', '0.00', '0.00', '0.00', '1.00', '1.00', '1.00', '0.00', '0.00']\n",
      "['0.00', '0.00', '0.00', '0.00', '0.00', '0.00', '0.00', '0.00', '0.00', '0.00']\n",
      "['0.00', '0.00', '0.00', '0.00', '0.00', '0.00', '0.00', '0.00', '0.00', '0.00']\n",
      "['0.00', '0.00', '0.00', '0.00', '0.00', '0.00', '0.00', '0.00', '0.00', '0.00']\n",
      "['0.00', '0.00', '0.00', '0.00', '0.00', '0.00', '0.00', '0.00', '0.00', '0.00']\n",
      "['0.00', '0.00', '0.00', '0.00', '0.00', '0.00', '0.00', '0.00', '0.00', '0.00']\n",
      "['0.00', '0.00', '0.00', '0.00', '0.00', '0.00', '0.00', '0.00', '0.00', '0.00']\n"
     ]
    }
   ],
   "execution_count": 2
  },
  {
   "metadata": {},
   "cell_type": "markdown",
   "source": "## Grid Counter",
   "id": "a4b1802b4410b160"
  },
  {
   "metadata": {
    "ExecuteTime": {
     "end_time": "2024-12-21T23:45:30.326646Z",
     "start_time": "2024-12-21T23:45:30.102023Z"
    }
   },
   "cell_type": "code",
   "source": [
    "grid_counter_trainer = GridCounterTrainer(32, 64, 10)\n",
    "grid_counter_trainer.train(force_retrain=False)\n",
    "grid_counter_trainer.demonstrate()"
   ],
   "id": "d8c7584bf1b627ad",
   "outputs": [
    {
     "name": "stdout",
     "output_type": "stream",
     "text": [
      "This model has already been trained. Loading file 'grid_counter.pth'...\n",
      "tensor([[[[0., 0., 0., 0., 0., 0., 0., 1., 0., 0.],\n",
      "          [0., 0., 0., 0., 0., 0., 0., 0., 0., 1.],\n",
      "          [0., 0., 0., 0., 0., 0., 0., 0., 0., 0.],\n",
      "          [0., 0., 0., 0., 0., 0., 0., 0., 0., 0.],\n",
      "          [0., 0., 1., 0., 0., 0., 0., 0., 0., 0.],\n",
      "          [0., 0., 0., 0., 0., 0., 0., 0., 0., 1.],\n",
      "          [0., 0., 1., 0., 0., 0., 1., 0., 0., 0.],\n",
      "          [0., 0., 0., 0., 0., 0., 0., 0., 0., 0.],\n",
      "          [0., 0., 0., 0., 0., 0., 0., 0., 0., 0.],\n",
      "          [1., 0., 0., 0., 0., 0., 0., 0., 0., 0.]]]], device='mps:0')\n",
      "Target count: 7.0\n",
      "Predicted count: [6.669650554656982]\n",
      "Mask memory:\n",
      "tensor([[7.5342, 5.8730, 7.4287, 7.4063, 7.7317, 5.0595, 5.8677, 6.3127, 6.8703,\n",
      "         7.3187],\n",
      "        [4.7950, 8.0582, 7.8994, 8.7992, 7.4485, 8.5845, 4.3690, 6.3351, 6.5433,\n",
      "         7.8549],\n",
      "        [5.7457, 4.7345, 5.9329, 5.5189, 6.4207, 5.6057, 5.3367, 7.8621, 6.1257,\n",
      "         5.6527],\n",
      "        [8.8642, 6.1041, 4.1664, 5.7696, 6.3749, 4.9953, 8.3715, 4.3075, 8.1358,\n",
      "         8.1622],\n",
      "        [6.8786, 7.9934, 5.0080, 6.4213, 4.6286, 4.9121, 5.9151, 6.7838, 7.7515,\n",
      "         4.9520],\n",
      "        [6.3594, 8.2260, 6.6278, 8.7179, 6.7386, 6.4222, 6.4303, 5.9487, 6.2010,\n",
      "         7.6430],\n",
      "        [6.2596, 6.3436, 6.9654, 6.6996, 7.4663, 5.6350, 6.3396, 7.9036, 6.4054,\n",
      "         6.5798],\n",
      "        [8.1780, 8.2200, 5.1915, 8.1039, 5.9012, 6.5738, 8.3291, 6.2492, 3.1588,\n",
      "         7.1792],\n",
      "        [6.8088, 5.5865, 4.3099, 4.1810, 7.9051, 6.2429, 7.7575, 6.4989, 8.7396,\n",
      "         7.6757],\n",
      "        [5.8311, 5.2534, 7.2272, 8.5308, 5.9586, 6.6731, 7.1208, 7.0946, 5.7960,\n",
      "         7.4700]], device='mps:0')\n"
     ]
    }
   ],
   "execution_count": 3
  }
 ],
 "metadata": {
  "kernelspec": {
   "display_name": "Python 3",
   "language": "python",
   "name": "python3"
  },
  "language_info": {
   "codemirror_mode": {
    "name": "ipython",
    "version": 2
   },
   "file_extension": ".py",
   "mimetype": "text/x-python",
   "name": "python",
   "nbconvert_exporter": "python",
   "pygments_lexer": "ipython2",
   "version": "2.7.6"
  }
 },
 "nbformat": 4,
 "nbformat_minor": 5
}
