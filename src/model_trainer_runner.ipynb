{
 "cells": [
  {
   "metadata": {},
   "cell_type": "markdown",
   "source": "# Model trainer runner\n",
   "id": "c5ef2baf69f2e26f"
  },
  {
   "metadata": {
    "ExecuteTime": {
     "end_time": "2024-12-22T02:25:49.800962Z",
     "start_time": "2024-12-22T02:25:49.058651Z"
    }
   },
   "cell_type": "code",
   "source": [
    "from trainers.grid_autoencoder_trainer import GridAutoencoderTrainer\n",
    "from trainers.grid_counter_trainer import GridCounterTrainer\n",
    "from trainers.xor_machine_trainer import XorMachineTrainer"
   ],
   "id": "3ccfb4be330c13d4",
   "outputs": [],
   "execution_count": 1
  },
  {
   "metadata": {},
   "cell_type": "markdown",
   "source": "## Grid Autoencoder",
   "id": "f10fe27fe0a7e18d"
  },
  {
   "metadata": {
    "ExecuteTime": {
     "end_time": "2024-12-22T02:27:59.729759Z",
     "start_time": "2024-12-22T02:27:59.721658Z"
    }
   },
   "cell_type": "code",
   "source": [
    "grid_autoencoder_trainer = GridAutoencoderTrainer(10, 10)\n",
    "\n",
    "training_phases = [\n",
    "    GridAutoencoderTrainer.TrainingPhase(\"random_lines\", 1000, 20),\n",
    "    GridAutoencoderTrainer.TrainingPhase(\"random\", 1000, 5),\n",
    "    GridAutoencoderTrainer.TrainingPhase(\"random_lines_mixin_0.1\", 1000, 50),\n",
    "    GridAutoencoderTrainer.TrainingPhase(\"random_lines\", 1000, 20),\n",
    "    GridAutoencoderTrainer.TrainingPhase(\"random_lines\", 1000, 1000)\n",
    "]\n",
    "\n",
    "grid_autoencoder_trainer.train(training_phases, force_retrain=False)\n",
    "grid_autoencoder_trainer.demonstrate(\"random_lines\")"
   ],
   "id": "11ac0a469f981f0e",
   "outputs": [
    {
     "name": "stdout",
     "output_type": "stream",
     "text": [
      "This model has already been trained. Loading file '/Users/jeremylindsay/Documents/Programming/ml-infrastructure/src/trainers/saved_models/grid_autoencoder.pth'...\n",
      "Original Grid:\n",
      "['0.00', '0.00', '0.00', '0.00', '0.00', '0.00', '0.00', '0.00', '0.00', '0.00']\n",
      "['0.00', '0.00', '0.00', '0.00', '0.00', '0.00', '0.00', '0.00', '0.00', '0.00']\n",
      "['0.00', '0.00', '0.00', '0.00', '0.00', '0.00', '0.00', '0.00', '0.00', '0.00']\n",
      "['0.00', '0.00', '0.00', '0.00', '0.00', '0.00', '0.00', '0.00', '0.00', '0.00']\n",
      "['0.00', '0.00', '0.00', '0.00', '0.00', '0.00', '0.00', '0.00', '0.00', '0.00']\n",
      "['1.00', '0.00', '0.00', '0.00', '0.00', '0.00', '0.00', '0.00', '0.00', '0.00']\n",
      "['0.00', '1.00', '1.00', '0.00', '0.00', '0.00', '0.00', '0.00', '0.00', '0.00']\n",
      "['0.00', '0.00', '0.00', '1.00', '0.00', '0.00', '0.00', '0.00', '0.00', '0.00']\n",
      "['0.00', '0.00', '0.00', '0.00', '0.00', '0.00', '0.00', '0.00', '0.00', '0.00']\n",
      "['0.00', '0.00', '0.00', '0.00', '0.00', '0.00', '0.00', '0.00', '0.00', '0.00']\n",
      "\n",
      "Reconstructed Grid:\n",
      "['0.00', '0.00', '0.00', '0.00', '0.00', '0.00', '0.00', '0.00', '0.00', '0.00']\n",
      "['0.00', '0.00', '0.00', '0.00', '0.00', '0.00', '0.00', '0.00', '0.00', '0.00']\n",
      "['0.00', '0.00', '0.00', '0.00', '0.00', '0.00', '0.00', '0.00', '0.00', '0.00']\n",
      "['0.00', '0.00', '0.00', '0.00', '0.00', '0.00', '0.00', '0.00', '0.00', '0.00']\n",
      "['0.00', '0.00', '0.00', '0.00', '0.00', '0.00', '0.00', '0.00', '0.00', '0.00']\n",
      "['1.00', '0.00', '0.00', '0.00', '0.00', '0.00', '0.00', '0.00', '0.00', '0.00']\n",
      "['0.00', '1.00', '1.00', '0.00', '0.00', '0.00', '0.00', '0.00', '0.00', '0.00']\n",
      "['0.00', '0.00', '0.00', '1.00', '0.00', '0.00', '0.00', '0.00', '0.00', '0.00']\n",
      "['0.00', '0.00', '0.00', '0.00', '0.00', '0.00', '0.00', '0.00', '0.00', '0.00']\n",
      "['0.00', '0.00', '0.00', '0.00', '0.00', '0.00', '0.00', '0.00', '0.00', '0.00']\n"
     ]
    }
   ],
   "execution_count": 4
  },
  {
   "metadata": {},
   "cell_type": "markdown",
   "source": "### Training type: random symmetrical grids",
   "id": "a1874e9e36c713a1"
  },
  {
   "metadata": {
    "ExecuteTime": {
     "end_time": "2024-12-22T02:30:34.140431Z",
     "start_time": "2024-12-22T02:30:23.917833Z"
    }
   },
   "cell_type": "code",
   "source": [
    "grid_autoencoder_trainer = GridAutoencoderTrainer(10, 10)\n",
    "\n",
    "training_phases = [\n",
    "    GridAutoencoderTrainer.TrainingPhase(\"random_symmetrical\", 1000, 100),\n",
    "]\n",
    "\n",
    "grid_autoencoder_trainer.train(training_phases, force_retrain=True)\n",
    "grid_autoencoder_trainer.demonstrate(\"random_symmetrical\")"
   ],
   "id": "4c0ce52b748b7732",
   "outputs": [
    {
     "name": "stdout",
     "output_type": "stream",
     "text": [
      "Epoch 1, Loss: 0.0809\n",
      "Epoch 2, Loss: 0.0530\n",
      "Epoch 3, Loss: 0.0415\n",
      "Epoch 4, Loss: 0.0320\n",
      "Epoch 5, Loss: 0.0288\n",
      "Epoch 6, Loss: 0.0335\n",
      "Epoch 7, Loss: 0.0279\n",
      "Epoch 8, Loss: 0.0260\n",
      "Epoch 9, Loss: 0.0284\n",
      "Epoch 10, Loss: 0.0226\n",
      "Epoch 11, Loss: 0.0264\n",
      "Epoch 12, Loss: 0.0260\n",
      "Epoch 13, Loss: 0.0243\n",
      "Epoch 14, Loss: 0.0186\n",
      "Epoch 15, Loss: 0.0284\n",
      "Epoch 16, Loss: 0.0258\n",
      "Epoch 17, Loss: 0.0218\n",
      "Epoch 18, Loss: 0.0216\n",
      "Epoch 19, Loss: 0.0224\n",
      "Epoch 20, Loss: 0.0223\n",
      "Epoch 21, Loss: 0.0260\n",
      "Epoch 22, Loss: 0.0187\n",
      "Epoch 23, Loss: 0.0179\n",
      "Epoch 24, Loss: 0.0218\n",
      "Epoch 25, Loss: 0.0240\n",
      "Epoch 26, Loss: 0.0250\n",
      "Epoch 27, Loss: 0.0210\n",
      "Epoch 28, Loss: 0.0207\n",
      "Epoch 29, Loss: 0.0229\n",
      "Epoch 30, Loss: 0.0265\n",
      "Epoch 31, Loss: 0.0222\n",
      "Epoch 32, Loss: 0.0239\n",
      "Epoch 33, Loss: 0.0213\n",
      "Epoch 34, Loss: 0.0243\n",
      "Epoch 35, Loss: 0.0253\n",
      "Epoch 36, Loss: 0.0235\n",
      "Epoch 37, Loss: 0.0210\n",
      "Epoch 38, Loss: 0.0218\n",
      "Epoch 39, Loss: 0.0196\n",
      "Epoch 40, Loss: 0.0237\n",
      "Epoch 41, Loss: 0.0205\n",
      "Epoch 42, Loss: 0.0205\n",
      "Epoch 43, Loss: 0.0224\n",
      "Epoch 44, Loss: 0.0192\n",
      "Epoch 45, Loss: 0.0222\n",
      "Epoch 46, Loss: 0.0179\n",
      "Epoch 47, Loss: 0.0212\n",
      "Epoch 48, Loss: 0.0220\n",
      "Epoch 49, Loss: 0.0218\n",
      "Epoch 50, Loss: 0.0179\n",
      "Epoch 51, Loss: 0.0209\n",
      "Epoch 52, Loss: 0.0190\n",
      "Epoch 53, Loss: 0.0196\n",
      "Epoch 54, Loss: 0.0205\n",
      "Epoch 55, Loss: 0.0191\n",
      "Epoch 56, Loss: 0.0169\n",
      "Epoch 57, Loss: 0.0198\n",
      "Epoch 58, Loss: 0.0232\n",
      "Epoch 59, Loss: 0.0210\n",
      "Epoch 60, Loss: 0.0163\n",
      "Epoch 61, Loss: 0.0173\n",
      "Epoch 62, Loss: 0.0177\n",
      "Epoch 63, Loss: 0.0177\n",
      "Epoch 64, Loss: 0.0152\n",
      "Epoch 65, Loss: 0.0202\n",
      "Epoch 66, Loss: 0.0217\n",
      "Epoch 67, Loss: 0.0201\n",
      "Epoch 68, Loss: 0.0174\n",
      "Epoch 69, Loss: 0.0177\n",
      "Epoch 70, Loss: 0.0173\n",
      "Epoch 71, Loss: 0.0165\n",
      "Epoch 72, Loss: 0.0145\n",
      "Epoch 73, Loss: 0.0167\n",
      "Epoch 74, Loss: 0.0186\n",
      "Epoch 75, Loss: 0.0162\n",
      "Epoch 76, Loss: 0.0186\n",
      "Epoch 77, Loss: 0.0175\n",
      "Epoch 78, Loss: 0.0174\n",
      "Epoch 79, Loss: 0.0162\n",
      "Epoch 80, Loss: 0.0152\n",
      "Epoch 81, Loss: 0.0189\n",
      "Epoch 82, Loss: 0.0171\n",
      "Epoch 83, Loss: 0.0167\n",
      "Epoch 84, Loss: 0.0160\n",
      "Epoch 85, Loss: 0.0151\n",
      "Epoch 86, Loss: 0.0199\n",
      "Epoch 87, Loss: 0.0160\n",
      "Epoch 88, Loss: 0.0163\n",
      "Epoch 89, Loss: 0.0161\n",
      "Epoch 90, Loss: 0.0144\n",
      "Epoch 91, Loss: 0.0160\n",
      "Epoch 92, Loss: 0.0185\n",
      "Epoch 93, Loss: 0.0163\n",
      "Epoch 94, Loss: 0.0137\n",
      "Epoch 95, Loss: 0.0140\n",
      "Epoch 96, Loss: 0.0149\n",
      "Epoch 97, Loss: 0.0138\n",
      "Epoch 98, Loss: 0.0165\n",
      "Epoch 99, Loss: 0.0157\n",
      "Epoch 100, Loss: 0.0147\n",
      "Original Grid:\n",
      "['0.66', '0.55', '0.12', '0.01', '0.86', '0.86', '0.01', '0.12', '0.55', '0.66']\n",
      "['0.20', '0.60', '0.99', '0.26', '0.46', '0.46', '0.26', '0.99', '0.60', '0.20']\n",
      "['0.77', '0.65', '0.93', '0.93', '0.96', '0.96', '0.93', '0.93', '0.65', '0.77']\n",
      "['0.51', '0.96', '0.29', '0.88', '0.82', '0.82', '0.88', '0.29', '0.96', '0.51']\n",
      "['0.70', '0.53', '0.68', '0.65', '0.35', '0.35', '0.65', '0.68', '0.53', '0.70']\n",
      "['0.51', '0.46', '0.34', '0.19', '0.47', '0.47', '0.19', '0.34', '0.46', '0.51']\n",
      "['0.25', '0.20', '0.00', '0.33', '0.21', '0.21', '0.33', '0.00', '0.20', '0.25']\n",
      "['0.92', '0.59', '0.80', '0.92', '0.08', '0.08', '0.92', '0.80', '0.59', '0.92']\n",
      "['0.71', '0.62', '0.77', '0.17', '0.97', '0.97', '0.17', '0.77', '0.62', '0.71']\n",
      "['0.39', '0.38', '0.73', '0.91', '0.03', '0.03', '0.91', '0.73', '0.38', '0.39']\n",
      "\n",
      "Reconstructed Grid:\n",
      "['0.25', '0.26', '0.07', '0.32', '0.76', '0.75', '0.23', '0.13', '0.31', '0.49']\n",
      "['0.19', '0.85', '0.61', '0.37', '0.32', '0.52', '0.47', '0.70', '0.86', '0.22']\n",
      "['0.72', '0.73', '0.69', '0.97', '0.98', '0.99', '0.94', '0.51', '0.59', '0.86']\n",
      "['0.69', '0.87', '0.09', '0.74', '0.49', '0.75', '0.76', '0.16', '0.95', '0.72']\n",
      "['0.50', '0.37', '0.46', '0.94', '0.82', '0.79', '0.87', '0.36', '0.38', '0.49']\n",
      "['0.24', '0.85', '0.80', '0.19', '0.61', '0.60', '0.25', '0.67', '0.80', '0.16']\n",
      "['0.43', '0.16', '0.09', '0.70', '0.31', '0.38', '0.65', '0.05', '0.16', '0.40']\n",
      "['0.91', '0.60', '0.82', '0.92', '0.10', '0.08', '0.91', '0.86', '0.60', '0.76']\n",
      "['0.89', '0.76', '0.85', '0.15', '0.86', '0.87', '0.11', '0.80', '0.82', '0.92']\n",
      "['0.33', '0.29', '0.39', '0.80', '0.18', '0.15', '0.81', '0.45', '0.28', '0.31']\n"
     ]
    }
   ],
   "execution_count": 5
  },
  {
   "metadata": {},
   "cell_type": "markdown",
   "source": "## Grid Counter",
   "id": "a4b1802b4410b160"
  },
  {
   "metadata": {
    "ExecuteTime": {
     "end_time": "2024-12-22T02:30:44.764846Z",
     "start_time": "2024-12-22T02:30:44.466101Z"
    }
   },
   "cell_type": "code",
   "source": [
    "grid_counter_trainer = GridCounterTrainer(32, 64, 10)\n",
    "grid_counter_trainer.train(force_retrain=False)\n",
    "grid_counter_trainer.demonstrate()"
   ],
   "id": "d8c7584bf1b627ad",
   "outputs": [
    {
     "name": "stdout",
     "output_type": "stream",
     "text": [
      "This model has already been trained. Loading file '/Users/jeremylindsay/Documents/Programming/ml-infrastructure/src/trainers/saved_models/grid_counter.pth'...\n",
      "tensor([[[[1., 0., 0., 0., 0., 0., 0., 0., 0., 0.],\n",
      "          [0., 0., 0., 0., 0., 0., 0., 0., 0., 0.],\n",
      "          [0., 0., 0., 0., 0., 0., 0., 0., 0., 0.],\n",
      "          [0., 0., 0., 0., 0., 0., 0., 0., 0., 0.],\n",
      "          [0., 0., 0., 0., 0., 0., 0., 0., 0., 0.],\n",
      "          [0., 0., 0., 0., 0., 0., 0., 0., 0., 0.],\n",
      "          [0., 0., 0., 0., 0., 0., 0., 0., 0., 0.],\n",
      "          [0., 0., 0., 0., 0., 0., 0., 0., 0., 0.],\n",
      "          [0., 0., 0., 0., 0., 0., 0., 0., 0., 0.],\n",
      "          [0., 0., 0., 0., 0., 0., 0., 0., 0., 0.]]]], device='mps:0')\n",
      "Target count: 1.0\n",
      "Predicted count: [0.3688652515411377]\n",
      "Mask memory:\n",
      "tensor([[0.8319, 1.0123, 1.2034, 1.1552, 1.1019, 1.0974, 0.9834, 0.7788, 1.0807,\n",
      "         0.8563],\n",
      "        [1.0618, 1.0539, 1.0346, 1.3511, 0.9205, 1.1583, 1.0185, 1.1311, 0.9843,\n",
      "         1.0476],\n",
      "        [0.9202, 0.9724, 0.9158, 1.0238, 0.9041, 0.9610, 0.9421, 1.0977, 1.0230,\n",
      "         0.9133],\n",
      "        [0.9475, 0.8871, 0.7359, 0.8166, 1.1575, 0.8789, 0.8293, 0.7251, 1.0476,\n",
      "         0.9375],\n",
      "        [0.9087, 1.1106, 1.2142, 0.8355, 0.8779, 0.8922, 0.8245, 1.0104, 0.9271,\n",
      "         0.9458],\n",
      "        [0.8148, 0.9400, 1.1446, 1.0811, 1.1686, 0.7398, 0.7980, 1.0539, 0.8193,\n",
      "         1.0850],\n",
      "        [1.0514, 0.9113, 1.1858, 1.0887, 0.8863, 1.1292, 1.2019, 0.8410, 0.9243,\n",
      "         1.1149],\n",
      "        [0.9890, 1.1136, 1.0107, 1.0726, 0.7087, 0.9157, 1.0755, 1.0028, 1.0410,\n",
      "         1.0610],\n",
      "        [1.0501, 1.0282, 0.9354, 1.1317, 0.9045, 0.9033, 1.0528, 1.0024, 1.1123,\n",
      "         0.9286],\n",
      "        [1.2853, 0.9993, 1.3327, 0.8878, 0.9359, 0.8147, 0.8219, 1.3692, 0.7544,\n",
      "         1.0937]], device='mps:0')\n"
     ]
    }
   ],
   "execution_count": 6
  },
  {
   "metadata": {},
   "cell_type": "markdown",
   "source": "## XOR Machine",
   "id": "e9f1bb3fc74f9d11"
  },
  {
   "metadata": {
    "ExecuteTime": {
     "end_time": "2024-12-22T02:30:46.760628Z",
     "start_time": "2024-12-22T02:30:46.698586Z"
    }
   },
   "cell_type": "code",
   "source": [
    "xor_machine_trainer = XorMachineTrainer(hidden_layer=False)\n",
    "xor_machine_trainer.train()\n",
    "xor_machine_trainer.demonstrate()"
   ],
   "id": "3222b778bc46afc",
   "outputs": [
    {
     "name": "stdout",
     "output_type": "stream",
     "text": [
      "Epoch [0/1000], Loss: 0.3939482867717743\n",
      "Epoch [100/1000], Loss: 0.2500671148300171\n",
      "Epoch [200/1000], Loss: 0.25000011920928955\n",
      "Epoch [300/1000], Loss: 0.25\n",
      "Epoch [400/1000], Loss: 0.2499999850988388\n",
      "Epoch [500/1000], Loss: 0.25\n",
      "Epoch [600/1000], Loss: 0.25\n",
      "Epoch [700/1000], Loss: 0.25\n",
      "Epoch [800/1000], Loss: 0.25\n",
      "Epoch [900/1000], Loss: 0.25\n",
      "\n",
      "Predictions:\n",
      "tensor([[0.5000],\n",
      "        [0.5000],\n",
      "        [0.5000],\n",
      "        [0.5000]])\n",
      "\n"
     ]
    }
   ],
   "execution_count": 7
  },
  {
   "metadata": {
    "ExecuteTime": {
     "end_time": "2024-12-22T02:30:48.249383Z",
     "start_time": "2024-12-22T02:30:48.148613Z"
    }
   },
   "cell_type": "code",
   "source": [
    "xor_machine_trainer = XorMachineTrainer(hidden_layer=True)\n",
    "xor_machine_trainer.train()\n",
    "xor_machine_trainer.demonstrate()"
   ],
   "id": "4ae30d1b8a664549",
   "outputs": [
    {
     "name": "stdout",
     "output_type": "stream",
     "text": [
      "Epoch [0/1000], Loss: 0.8214152455329895\n",
      "Epoch [100/1000], Loss: 0.115042544901371\n",
      "Epoch [200/1000], Loss: 0.021809237077832222\n",
      "Epoch [300/1000], Loss: 0.0013419139431789517\n",
      "Epoch [400/1000], Loss: 5.0538965297164395e-05\n",
      "Epoch [500/1000], Loss: 1.6481315014971187e-06\n",
      "Epoch [600/1000], Loss: 5.956604098855678e-08\n",
      "Epoch [700/1000], Loss: 1.7010206576628661e-09\n",
      "Epoch [800/1000], Loss: 5.645706124823846e-11\n",
      "Epoch [900/1000], Loss: 1.879385536085465e-12\n",
      "\n",
      "Predictions:\n",
      "tensor([[1.6689e-06],\n",
      "        [1.0000e+00],\n",
      "        [1.0000e+00],\n",
      "        [5.3644e-07]])\n",
      "\n"
     ]
    }
   ],
   "execution_count": 8
  }
 ],
 "metadata": {
  "kernelspec": {
   "display_name": "Python 3",
   "language": "python",
   "name": "python3"
  },
  "language_info": {
   "codemirror_mode": {
    "name": "ipython",
    "version": 2
   },
   "file_extension": ".py",
   "mimetype": "text/x-python",
   "name": "python",
   "nbconvert_exporter": "python",
   "pygments_lexer": "ipython2",
   "version": "2.7.6"
  }
 },
 "nbformat": 4,
 "nbformat_minor": 5
}
