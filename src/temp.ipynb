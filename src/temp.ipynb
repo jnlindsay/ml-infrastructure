{
 "cells": [
  {
   "metadata": {
    "ExecuteTime": {
     "end_time": "2024-12-27T05:25:01.773794Z",
     "start_time": "2024-12-27T05:25:01.763412Z"
    }
   },
   "cell_type": "code",
   "source": [
    "from sklearn.metrics import r2_score\n",
    "import numpy as np"
   ],
   "id": "801e7946a1b7c4a1",
   "outputs": [],
   "execution_count": 60
  },
  {
   "metadata": {
    "ExecuteTime": {
     "end_time": "2024-12-27T05:25:26.978121Z",
     "start_time": "2024-12-27T05:25:26.975100Z"
    }
   },
   "cell_type": "code",
   "source": [
    "def calculate_symmetry_score(grid):\n",
    "    if not isinstance(grid, np.ndarray):\n",
    "        raise ValueError(\"Grid must be a numpy array\")\n",
    "    if grid.ndim != 2:\n",
    "        raise ValueError(\"Grid must be 2D\")\n",
    "\n",
    "    reflected_grid = grid[:, ::-1]\n",
    "    original_flat = grid.flatten()\n",
    "    reflected_flat = reflected_grid.flatten()\n",
    "\n",
    "    symmetry_score = r2_score(original_flat, reflected_flat)\n",
    "\n",
    "    return symmetry_score"
   ],
   "id": "20accbadc485f08a",
   "outputs": [],
   "execution_count": 63
  },
  {
   "metadata": {
    "ExecuteTime": {
     "end_time": "2024-12-27T05:25:28.310941Z",
     "start_time": "2024-12-27T05:25:28.297130Z"
    }
   },
   "cell_type": "code",
   "source": [
    "grid = np.array([\n",
    "    [0, 0, 1, 1],\n",
    "    [0, 0, 1, 1],\n",
    "    [0, 0, 1, 1],\n",
    "])\n",
    "\n",
    "calculate_symmetry_score(grid)"
   ],
   "id": "a98bbf156362e497",
   "outputs": [
    {
     "data": {
      "text/plain": [
       "-3.0"
      ]
     },
     "execution_count": 64,
     "metadata": {},
     "output_type": "execute_result"
    }
   ],
   "execution_count": 64
  }
 ],
 "metadata": {
  "kernelspec": {
   "display_name": "Python 3",
   "language": "python",
   "name": "python3"
  },
  "language_info": {
   "codemirror_mode": {
    "name": "ipython",
    "version": 2
   },
   "file_extension": ".py",
   "mimetype": "text/x-python",
   "name": "python",
   "nbconvert_exporter": "python",
   "pygments_lexer": "ipython2",
   "version": "2.7.6"
  }
 },
 "nbformat": 4,
 "nbformat_minor": 5
}
