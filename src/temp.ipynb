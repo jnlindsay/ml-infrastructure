{
 "cells": [
  {
   "metadata": {
    "ExecuteTime": {
     "end_time": "2024-12-28T10:51:28.843939Z",
     "start_time": "2024-12-28T10:51:28.841263Z"
    }
   },
   "cell_type": "code",
   "source": [
    "from utilities.grid import GridFactory\n",
    "\n",
    "gridFactory = GridFactory(10, 10)\n",
    "res = gridFactory.generate_random_embedded_square_even(6)\n",
    "\n",
    "print(res)"
   ],
   "id": "1a9139f1a5c3725f",
   "outputs": [
    {
     "name": "stdout",
     "output_type": "stream",
     "text": [
      "[[0 0 0 0 0 0 0 0 0 0]\n",
      " [0 0 0 0 0 0 0 0 0 0]\n",
      " [0 0 0 1 0 0 0 1 0 0]\n",
      " [0 0 0 1 1 1 0 1 0 0]\n",
      " [0 0 1 1 1 1 0 1 0 0]\n",
      " [0 0 1 1 0 0 0 0 0 0]\n",
      " [0 0 1 0 0 0 0 0 0 0]\n",
      " [0 0 0 1 1 1 0 0 0 0]\n",
      " [0 0 0 0 0 0 0 0 0 0]\n",
      " [0 0 0 0 0 0 0 0 0 0]]\n"
     ]
    }
   ],
   "execution_count": 154
  }
 ],
 "metadata": {
  "kernelspec": {
   "display_name": "Python 3",
   "language": "python",
   "name": "python3"
  },
  "language_info": {
   "codemirror_mode": {
    "name": "ipython",
    "version": 2
   },
   "file_extension": ".py",
   "mimetype": "text/x-python",
   "name": "python",
   "nbconvert_exporter": "python",
   "pygments_lexer": "ipython2",
   "version": "2.7.6"
  }
 },
 "nbformat": 4,
 "nbformat_minor": 5
}
