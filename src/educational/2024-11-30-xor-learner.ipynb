{
 "cells": [
  {
   "cell_type": "markdown",
   "metadata": {},
   "source": [
    "# PyTorch XOR machine\n",
    "See the *Deep Learning* textbook for an explanation about why the first model cannot learn the XOR function."
   ]
  },
  {
   "cell_type": "code",
   "execution_count": 1,
   "metadata": {},
   "outputs": [],
   "source": [
    "import torch\n",
    "import torch.nn as nn\n",
    "import torch.optim as optim\n",
    "from dataclasses import dataclass"
   ]
  },
  {
   "cell_type": "markdown",
   "metadata": {},
   "source": [
    "Define XOR dataset:"
   ]
  },
  {
   "cell_type": "code",
   "execution_count": 2,
   "metadata": {},
   "outputs": [],
   "source": [
    "X = torch.tensor([[0, 0], [0, 1], [1, 0], [1, 1]], dtype=torch.float32) # inputs\n",
    "y = torch.tensor([[0], [1], [1], [0]], dtype=torch.float32) # outputs"
   ]
  },
  {
   "cell_type": "markdown",
   "metadata": {},
   "source": [
    "Define model:"
   ]
  },
  {
   "cell_type": "code",
   "execution_count": 3,
   "metadata": {},
   "outputs": [],
   "source": [
    "class XorMachine(nn.Module):\n",
    "    def __init__(self, hidden_layer = False):\n",
    "        super().__init__()\n",
    "        self.hidden = nn.Linear(2, 2) if hidden_layer else None\n",
    "        self.output = nn.Linear(2, 1)\n",
    "\n",
    "    def forward(self, x):\n",
    "        if (self.hidden): x = torch.relu(self.hidden(x))\n",
    "        x = self.output(x)\n",
    "        return x"
   ]
  },
  {
   "cell_type": "markdown",
   "metadata": {},
   "source": [
    "Model wrapper class:"
   ]
  },
  {
   "cell_type": "code",
   "execution_count": 4,
   "metadata": {},
   "outputs": [],
   "source": [
    "@dataclass\n",
    "class ModelWrapper:\n",
    "    model: nn.Module\n",
    "    optimiser: optim.Optimizer"
   ]
  },
  {
   "cell_type": "markdown",
   "metadata": {},
   "source": [
    "Define and wrap models:"
   ]
  },
  {
   "cell_type": "code",
   "execution_count": 5,
   "metadata": {},
   "outputs": [],
   "source": [
    "models = [XorMachine(), XorMachine(hidden_layer=True)]\n",
    "optimisers = [optim.SGD(model.parameters(), lr=0.1) for model in models]\n",
    "modelWrappers = [ModelWrapper(models[i], optimisers[i]) for i in range(2)]"
   ]
  },
  {
   "cell_type": "markdown",
   "metadata": {},
   "source": [
    "Train model\n",
    "- [`torch.optim.Optimizer.zero_grad()`](https://pytorch.org/docs/stable/generated/torch.optim.Optimizer.zero_grad.html)\n",
    "- [`torch.optim.Optimizer.step()`](https://pytorch.org/docs/stable/generated/torch.optim.Optimizer.step.html)\n",
    "- [`torch.Tensor.backward()`](https://pytorch.org/docs/stable/generated/torch.Tensor.backward.html)"
   ]
  },
  {
   "cell_type": "code",
   "execution_count": 6,
   "metadata": {},
   "outputs": [
    {
     "name": "stdout",
     "output_type": "stream",
     "text": [
      "Training model XorMachine(\n",
      "  (output): Linear(in_features=2, out_features=1, bias=True)\n",
      ")\n",
      "Epoch [0/1000], Loss: 0.3647574186325073\n",
      "Epoch [100/1000], Loss: 0.2501237988471985\n",
      "Epoch [200/1000], Loss: 0.2500002086162567\n",
      "Epoch [300/1000], Loss: 0.25\n",
      "Epoch [400/1000], Loss: 0.25\n",
      "Epoch [500/1000], Loss: 0.25\n",
      "Epoch [600/1000], Loss: 0.25\n",
      "Epoch [700/1000], Loss: 0.25\n",
      "Epoch [800/1000], Loss: 0.25\n",
      "Epoch [900/1000], Loss: 0.25\n",
      "\n",
      "Training model XorMachine(\n",
      "  (hidden): Linear(in_features=2, out_features=2, bias=True)\n",
      "  (output): Linear(in_features=2, out_features=1, bias=True)\n",
      ")\n",
      "Epoch [0/1000], Loss: 0.34600308537483215\n",
      "Epoch [100/1000], Loss: 0.15168118476867676\n",
      "Epoch [200/1000], Loss: 0.033363569527864456\n",
      "Epoch [300/1000], Loss: 0.0020663898903876543\n",
      "Epoch [400/1000], Loss: 7.906011887826025e-05\n",
      "Epoch [500/1000], Loss: 2.65501898866205e-06\n",
      "Epoch [600/1000], Loss: 8.67745342247872e-08\n",
      "Epoch [700/1000], Loss: 2.940852894539603e-09\n",
      "Epoch [800/1000], Loss: 9.626699437603747e-11\n",
      "Epoch [900/1000], Loss: 3.1166180747277394e-12\n",
      "\n"
     ]
    }
   ],
   "source": [
    "criterion = nn.MSELoss()\n",
    "num_epochs = 1000\n",
    "for wrapper in modelWrappers:\n",
    "    print(f\"Training model {wrapper.model}\")\n",
    "\n",
    "    for epoch in range(num_epochs):\n",
    "        outputs = wrapper.model(X)\n",
    "        loss = criterion(outputs, y)\n",
    "        wrapper.optimiser.zero_grad()\n",
    "        loss.backward()\n",
    "        wrapper.optimiser.step()\n",
    "\n",
    "        if epoch % 100 == 0:\n",
    "            print(f\"Epoch [{epoch}/{num_epochs}], Loss: {loss.item()}\") \n",
    "\n",
    "    print(\"\")"
   ]
  },
  {
   "cell_type": "markdown",
   "metadata": {},
   "source": [
    "Test model"
   ]
  },
  {
   "cell_type": "code",
   "execution_count": 7,
   "metadata": {},
   "outputs": [
    {
     "name": "stdout",
     "output_type": "stream",
     "text": [
      "XorMachine(\n",
      "  (output): Linear(in_features=2, out_features=1, bias=True)\n",
      ")\n",
      "Predictions:\n",
      "tensor([[0.5000],\n",
      "        [0.5000],\n",
      "        [0.5000],\n",
      "        [0.5000]])\n",
      "\n",
      "XorMachine(\n",
      "  (hidden): Linear(in_features=2, out_features=2, bias=True)\n",
      "  (output): Linear(in_features=2, out_features=1, bias=True)\n",
      ")\n",
      "Predictions:\n",
      "tensor([[8.3447e-07],\n",
      "        [1.0000e+00],\n",
      "        [1.0000e+00],\n",
      "        [8.9407e-07]])\n",
      "\n"
     ]
    }
   ],
   "source": [
    "for wrapper in modelWrappers:\n",
    "    print(wrapper.model)\n",
    "    with torch.no_grad():\n",
    "        predictions = wrapper.model(X)\n",
    "        print(\"Predictions:\")\n",
    "        print(predictions)\n",
    "        print(\"\")"
   ]
  }
 ],
 "metadata": {
  "kernelspec": {
   "display_name": "Python 3 (ipykernel)",
   "language": "python",
   "name": "python3"
  },
  "language_info": {
   "codemirror_mode": {
    "name": "ipython",
    "version": 3
   },
   "file_extension": ".py",
   "mimetype": "text/x-python",
   "name": "python",
   "nbconvert_exporter": "python",
   "pygments_lexer": "ipython3",
   "version": "3.12.8"
  }
 },
 "nbformat": 4,
 "nbformat_minor": 4
}
