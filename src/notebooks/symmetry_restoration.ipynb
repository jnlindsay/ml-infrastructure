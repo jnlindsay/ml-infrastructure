{
 "cells": [
  {
   "cell_type": "code",
   "id": "initial_id",
   "metadata": {
    "collapsed": true,
    "ExecuteTime": {
     "end_time": "2024-12-28T11:36:13.069557Z",
     "start_time": "2024-12-28T11:36:13.064776Z"
    }
   },
   "source": [
    "from models.symmetry_restoration import *\n",
    "from utilities.git import get_git_commit_hash\n",
    "from stable_baselines3.common.logger import HumanOutputFormat, Logger\n",
    "import sys\n",
    "\n",
    "HEIGHT = 6\n",
    "WIDTH = 6"
   ],
   "outputs": [],
   "execution_count": 4
  },
  {
   "metadata": {
    "ExecuteTime": {
     "end_time": "2024-12-28T11:36:13.237878Z",
     "start_time": "2024-12-28T11:36:13.111298Z"
    }
   },
   "cell_type": "code",
   "source": [
    "hashed_config = {\n",
    "    'height': HEIGHT,\n",
    "    'width': WIDTH,\n",
    "    'perfect_reward': 100.0,\n",
    "    'step_penalty': -0.0,\n",
    "    'revisited_penalty': -5.0,\n",
    "    'partial_reward_weight': 100.0,\n",
    "    'max_steps': HEIGHT * WIDTH * 2,\n",
    "    'allowed_revisits': 999999999,\n",
    "    'redundant_move_penalty': -5.0,\n",
    "    'learning_total_timesteps': 1_000_000,\n",
    "    'learning_rate': 1e-3,\n",
    "    'training_ent_coef': 0.01\n",
    "}\n",
    "\n",
    "unhashed_config = {\n",
    "    'git_commit_hash': get_git_commit_hash()\n",
    "}\n",
    "\n",
    "loggers = Logger(\n",
    "    folder=None,\n",
    "    output_formats=[HumanOutputFormat(sys.stdout), MLflowOutputFormat()],\n",
    ")\n",
    "\n",
    "model = train_agent(hashed_config, unhashed_config, load_if_exists=True, loggers=loggers)"
   ],
   "id": "d4e34bfe60b66842",
   "outputs": [
    {
     "name": "stdout",
     "output_type": "stream",
     "text": [
      "Provided environment configuration:\n",
      "{'height': 6, 'width': 6, 'perfect_reward': 100.0, 'step_penalty': -0.0, 'revisited_penalty': -5.0, 'partial_reward_weight': 100.0, 'max_steps': 72, 'allowed_revisits': 999999999, 'redundant_move_penalty': -5.0, 'learning_total_timesteps': 1000000, 'learning_rate': 0.001, 'training_ent_coef': 0.01}\n",
      "Loading existing model from saved_models/model_74d86421f8fce9ca.zip\n"
     ]
    }
   ],
   "execution_count": 5
  },
  {
   "metadata": {
    "ExecuteTime": {
     "end_time": "2024-12-28T11:36:14.140356Z",
     "start_time": "2024-12-28T11:36:13.254323Z"
    }
   },
   "cell_type": "code",
   "source": "demonstrate_agent(model, hashed_config)",
   "id": "823d29723637e9b8",
   "outputs": [
    {
     "name": "stdout",
     "output_type": "stream",
     "text": [
      "\n",
      "----------------------------------\n",
      "\n",
      "Episode 1\n",
      "Initial grid:\n"
     ]
    },
    {
     "data": {
      "text/plain": [
       "<Figure size 200x200 with 1 Axes>"
      ],
      "image/png": "[encoded data removed]"
     },
     "metadata": {},
     "output_type": "display_data"
    },
    {
     "name": "stdout",
     "output_type": "stream",
     "text": [
      "Initial symmetry: 0.49\n",
      "\n",
      "Action: pos=16, val=0\n",
      "Grid:\n"
     ]
    },
    {
     "data": {
      "text/plain": [
       "<Figure size 200x200 with 1 Axes>"
      ],
      "image/png": "[encoded data removed]"
     },
     "metadata": {},
     "output_type": "display_data"
    },
    {
     "name": "stdout",
     "output_type": "stream",
     "text": [
      "Symmetry: 0.53\n",
      "Reward: 4.68\n",
      "\n",
      "Action: pos=32, val=0\n",
      "Grid:\n"
     ]
    },
    {
     "data": {
      "text/plain": [
       "<Figure size 200x200 with 1 Axes>"
      ],
      "image/png": "[encoded data removed]"
     },
     "metadata": {},
     "output_type": "display_data"
    },
    {
     "name": "stdout",
     "output_type": "stream",
     "text": [
      "Symmetry: 0.58\n",
      "Reward: 4.61\n",
      "\n",
      "Action: pos=5, val=0\n",
      "Grid:\n"
     ]
    },
    {
     "data": {
      "text/plain": [
       "<Figure size 200x200 with 1 Axes>"
      ],
      "image/png": "[encoded data removed]"
     },
     "metadata": {},
     "output_type": "display_data"
    },
    {
     "name": "stdout",
     "output_type": "stream",
     "text": [
      "Symmetry: 0.62\n",
      "Reward: 4.64\n",
      "\n",
      "Action: pos=29, val=0\n",
      "Grid:\n"
     ]
    },
    {
     "data": {
      "text/plain": [
       "<Figure size 200x200 with 1 Axes>"
      ],
      "image/png": "[encoded data removed]"
     },
     "metadata": {},
     "output_type": "display_data"
    },
    {
     "name": "stdout",
     "output_type": "stream",
     "text": [
      "Symmetry: 0.67\n",
      "Reward: 4.77\n",
      "\n",
      "Action: pos=14, val=0\n",
      "Grid:\n"
     ]
    },
    {
     "data": {
      "text/plain": [
       "<Figure size 200x200 with 1 Axes>"
      ],
      "image/png": "[encoded data removed]"
     },
     "metadata": {},
     "output_type": "display_data"
    },
    {
     "name": "stdout",
     "output_type": "stream",
     "text": [
      "Symmetry: 0.72\n",
      "Reward: 5.03\n",
      "\n",
      "Action: pos=28, val=0\n",
      "Grid:\n"
     ]
    },
    {
     "data": {
      "text/plain": [
       "<Figure size 200x200 with 1 Axes>"
      ],
      "image/png": "[encoded data removed]"
     },
     "metadata": {},
     "output_type": "display_data"
    },
    {
     "name": "stdout",
     "output_type": "stream",
     "text": [
      "Symmetry: 0.78\n",
      "Reward: 5.47\n",
      "\n",
      "Action: pos=11, val=0\n",
      "Grid:\n"
     ]
    },
    {
     "data": {
      "text/plain": [
       "<Figure size 200x200 with 1 Axes>"
      ],
      "image/png": "[encoded data removed]"
     },
     "metadata": {},
     "output_type": "display_data"
    },
    {
     "name": "stdout",
     "output_type": "stream",
     "text": [
      "Symmetry: 0.84\n",
      "Reward: 6.15\n",
      "\n",
      "Action: pos=35, val=0\n",
      "Grid:\n"
     ]
    },
    {
     "data": {
      "text/plain": [
       "<Figure size 200x200 with 1 Axes>"
      ],
      "image/png": "[encoded data removed]"
     },
     "metadata": {},
     "output_type": "display_data"
    },
    {
     "name": "stdout",
     "output_type": "stream",
     "text": [
      "Symmetry: 0.91\n",
      "Reward: 7.20\n",
      "\n",
      "Action: pos=20, val=0\n",
      "Grid:\n"
     ]
    },
    {
     "data": {
      "text/plain": [
       "<Figure size 200x200 with 1 Axes>"
      ],
      "image/png": "[encoded data removed]"
     },
     "metadata": {},
     "output_type": "display_data"
    },
    {
     "name": "stdout",
     "output_type": "stream",
     "text": [
      "Symmetry: 1.00\n",
      "Reward: 100.00\n",
      "Total reward: 142.56\n",
      "Symmetric: True\n",
      "\n",
      "----------------------------------\n",
      "\n",
      "Episode 2\n",
      "Initial grid:\n"
     ]
    },
    {
     "data": {
      "text/plain": [
       "<Figure size 200x200 with 1 Axes>"
      ],
      "image/png": "[encoded data removed]"
     },
     "metadata": {},
     "output_type": "display_data"
    },
    {
     "name": "stdout",
     "output_type": "stream",
     "text": [
      "Initial symmetry: 0.55\n",
      "\n",
      "Action: pos=22, val=0\n",
      "Grid:\n"
     ]
    },
    {
     "data": {
      "text/plain": [
       "<Figure size 200x200 with 1 Axes>"
      ],
      "image/png": "[encoded data removed]"
     },
     "metadata": {},
     "output_type": "display_data"
    },
    {
     "name": "stdout",
     "output_type": "stream",
     "text": [
      "Symmetry: 0.61\n",
      "Reward: 5.99\n",
      "\n",
      "Action: pos=11, val=0\n",
      "Grid:\n"
     ]
    },
    {
     "data": {
      "text/plain": [
       "<Figure size 200x200 with 1 Axes>"
      ],
      "image/png": "[encoded data removed]"
     },
     "metadata": {},
     "output_type": "display_data"
    },
    {
     "name": "stdout",
     "output_type": "stream",
     "text": [
      "Symmetry: 0.67\n",
      "Reward: 5.68\n",
      "\n",
      "Action: pos=31, val=0\n",
      "Grid:\n"
     ]
    },
    {
     "data": {
      "text/plain": [
       "<Figure size 200x200 with 1 Axes>"
      ],
      "image/png": "[encoded data removed]"
     },
     "metadata": {},
     "output_type": "display_data"
    },
    {
     "name": "stdout",
     "output_type": "stream",
     "text": [
      "Symmetry: 0.72\n",
      "Reward: 5.47\n",
      "\n",
      "Action: pos=5, val=0\n",
      "Grid:\n"
     ]
    },
    {
     "data": {
      "text/plain": [
       "<Figure size 200x200 with 1 Axes>"
      ],
      "image/png": "[encoded data removed]"
     },
     "metadata": {},
     "output_type": "display_data"
    },
    {
     "name": "stdout",
     "output_type": "stream",
     "text": [
      "Symmetry: 0.78\n",
      "Reward: 5.36\n",
      "\n",
      "Action: pos=10, val=0\n",
      "Grid:\n"
     ]
    },
    {
     "data": {
      "text/plain": [
       "<Figure size 200x200 with 1 Axes>"
      ],
      "image/png": "[encoded data removed]"
     },
     "metadata": {},
     "output_type": "display_data"
    },
    {
     "name": "stdout",
     "output_type": "stream",
     "text": [
      "Symmetry: 0.83\n",
      "Reward: 5.36\n",
      "\n",
      "Action: pos=32, val=0\n",
      "Grid:\n"
     ]
    },
    {
     "data": {
      "text/plain": [
       "<Figure size 200x200 with 1 Axes>"
      ],
      "image/png": "[encoded data removed]"
     },
     "metadata": {},
     "output_type": "display_data"
    },
    {
     "name": "stdout",
     "output_type": "stream",
     "text": [
      "Symmetry: 0.88\n",
      "Reward: 5.45\n",
      "\n",
      "Action: pos=28, val=0\n",
      "Grid:\n"
     ]
    },
    {
     "data": {
      "text/plain": [
       "<Figure size 200x200 with 1 Axes>"
      ],
      "image/png": "[encoded data removed]"
     },
     "metadata": {},
     "output_type": "display_data"
    },
    {
     "name": "stdout",
     "output_type": "stream",
     "text": [
      "Symmetry: 0.94\n",
      "Reward: 5.67\n",
      "\n",
      "Action: pos=20, val=0\n",
      "Grid:\n"
     ]
    },
    {
     "data": {
      "text/plain": [
       "<Figure size 200x200 with 1 Axes>"
      ],
      "image/png": "[encoded data removed]"
     },
     "metadata": {},
     "output_type": "display_data"
    },
    {
     "name": "stdout",
     "output_type": "stream",
     "text": [
      "Symmetry: 1.00\n",
      "Reward: 100.00\n",
      "Total reward: 138.98\n",
      "Symmetric: True\n",
      "\n",
      "----------------------------------\n",
      "\n",
      "Episode 3\n",
      "Initial grid:\n"
     ]
    },
    {
     "data": {
      "text/plain": [
       "<Figure size 200x200 with 1 Axes>"
      ],
      "image/png": "[encoded data removed]"
     },
     "metadata": {},
     "output_type": "display_data"
    },
    {
     "name": "stdout",
     "output_type": "stream",
     "text": [
      "Initial symmetry: 0.33\n",
      "\n",
      "Action: pos=18, val=0\n",
      "Grid:\n"
     ]
    },
    {
     "data": {
      "text/plain": [
       "<Figure size 200x200 with 1 Axes>"
      ],
      "image/png": "[encoded data removed]"
     },
     "metadata": {},
     "output_type": "display_data"
    },
    {
     "name": "stdout",
     "output_type": "stream",
     "text": [
      "Symmetry: 0.37\n",
      "Reward: 4.64\n",
      "\n",
      "Action: pos=5, val=0\n",
      "Grid:\n"
     ]
    },
    {
     "data": {
      "text/plain": [
       "<Figure size 200x200 with 1 Axes>"
      ],
      "image/png": "[encoded data removed]"
     },
     "metadata": {},
     "output_type": "display_data"
    },
    {
     "name": "stdout",
     "output_type": "stream",
     "text": [
      "Symmetry: 0.42\n",
      "Reward: 4.42\n",
      "\n",
      "Action: pos=12, val=0\n",
      "Grid:\n"
     ]
    },
    {
     "data": {
      "text/plain": [
       "<Figure size 200x200 with 1 Axes>"
      ],
      "image/png": "[encoded data removed]"
     },
     "metadata": {},
     "output_type": "display_data"
    },
    {
     "name": "stdout",
     "output_type": "stream",
     "text": [
      "Symmetry: 0.46\n",
      "Reward: 4.26\n",
      "\n",
      "Action: pos=9, val=0\n",
      "Grid:\n"
     ]
    },
    {
     "data": {
      "text/plain": [
       "<Figure size 200x200 with 1 Axes>"
      ],
      "image/png": "[encoded data removed]"
     },
     "metadata": {},
     "output_type": "display_data"
    },
    {
     "name": "stdout",
     "output_type": "stream",
     "text": [
      "Symmetry: 0.50\n",
      "Reward: 4.18\n",
      "\n",
      "Action: pos=27, val=0\n",
      "Grid:\n"
     ]
    },
    {
     "data": {
      "text/plain": [
       "<Figure size 200x200 with 1 Axes>"
      ],
      "image/png": "[encoded data removed]"
     },
     "metadata": {},
     "output_type": "display_data"
    },
    {
     "name": "stdout",
     "output_type": "stream",
     "text": [
      "Symmetry: 0.54\n",
      "Reward: 4.18\n",
      "\n",
      "Action: pos=29, val=0\n",
      "Grid:\n"
     ]
    },
    {
     "data": {
      "text/plain": [
       "<Figure size 200x200 with 1 Axes>"
      ],
      "image/png": "[encoded data removed]"
     },
     "metadata": {},
     "output_type": "display_data"
    },
    {
     "name": "stdout",
     "output_type": "stream",
     "text": [
      "Symmetry: 0.58\n",
      "Reward: 4.28\n",
      "\n",
      "Action: pos=20, val=0\n",
      "Grid:\n"
     ]
    },
    {
     "data": {
      "text/plain": [
       "<Figure size 200x200 with 1 Axes>"
      ],
      "image/png": "[encoded data removed]"
     },
     "metadata": {},
     "output_type": "display_data"
    },
    {
     "name": "stdout",
     "output_type": "stream",
     "text": [
      "Symmetry: 0.63\n",
      "Reward: 4.50\n",
      "\n",
      "Action: pos=35, val=0\n",
      "Grid:\n"
     ]
    },
    {
     "data": {
      "text/plain": [
       "<Figure size 200x200 with 1 Axes>"
      ],
      "image/png": "[encoded data removed]"
     },
     "metadata": {},
     "output_type": "display_data"
    },
    {
     "name": "stdout",
     "output_type": "stream",
     "text": [
      "Symmetry: 0.68\n",
      "Reward: 4.89\n",
      "\n",
      "Action: pos=34, val=0\n",
      "Grid:\n"
     ]
    },
    {
     "data": {
      "text/plain": [
       "<Figure size 200x200 with 1 Axes>"
      ],
      "image/png": "[encoded data removed]"
     },
     "metadata": {},
     "output_type": "display_data"
    },
    {
     "name": "stdout",
     "output_type": "stream",
     "text": [
      "Symmetry: 0.73\n",
      "Reward: 5.54\n",
      "\n",
      "Action: pos=13, val=0\n",
      "Grid:\n"
     ]
    },
    {
     "data": {
      "text/plain": [
       "<Figure size 200x200 with 1 Axes>"
      ],
      "image/png": "[encoded data removed]"
     },
     "metadata": {},
     "output_type": "display_data"
    },
    {
     "name": "stdout",
     "output_type": "stream",
     "text": [
      "Symmetry: 0.80\n",
      "Reward: 6.60\n",
      "\n",
      "Action: pos=32, val=0\n",
      "Grid:\n"
     ]
    },
    {
     "data": {
      "text/plain": [
       "<Figure size 200x200 with 1 Axes>"
      ],
      "image/png": "[encoded data removed]"
     },
     "metadata": {},
     "output_type": "display_data"
    },
    {
     "name": "stdout",
     "output_type": "stream",
     "text": [
      "Symmetry: 0.88\n",
      "Reward: 8.39\n",
      "\n",
      "Action: pos=15, val=0\n",
      "Grid:\n"
     ]
    },
    {
     "data": {
      "text/plain": [
       "<Figure size 200x200 with 1 Axes>"
      ],
      "image/png": "[encoded data removed]"
     },
     "metadata": {},
     "output_type": "display_data"
    },
    {
     "name": "stdout",
     "output_type": "stream",
     "text": [
      "Symmetry: 1.00\n",
      "Reward: 100.00\n",
      "Total reward: 155.89\n",
      "Symmetric: True\n",
      "\n",
      "----------------------------------\n",
      "\n",
      "Episode 4\n",
      "Initial grid:\n"
     ]
    },
    {
     "data": {
      "text/plain": [
       "<Figure size 200x200 with 1 Axes>"
      ],
      "image/png": "[encoded data removed]"
     },
     "metadata": {},
     "output_type": "display_data"
    },
    {
     "name": "stdout",
     "output_type": "stream",
     "text": [
      "Initial symmetry: 0.33\n",
      "\n",
      "Action: pos=34, val=0\n",
      "Grid:\n"
     ]
    },
    {
     "data": {
      "text/plain": [
       "<Figure size 200x200 with 1 Axes>"
      ],
      "image/png": "[encoded data removed]"
     },
     "metadata": {},
     "output_type": "display_data"
    },
    {
     "name": "stdout",
     "output_type": "stream",
     "text": [
      "Symmetry: 0.39\n",
      "Reward: 6.20\n",
      "\n",
      "Action: pos=1, val=0\n",
      "Grid:\n"
     ]
    },
    {
     "data": {
      "text/plain": [
       "<Figure size 200x200 with 1 Axes>"
      ],
      "image/png": "[encoded data removed]"
     },
     "metadata": {},
     "output_type": "display_data"
    },
    {
     "name": "stdout",
     "output_type": "stream",
     "text": [
      "Symmetry: 0.44\n",
      "Reward: 5.74\n",
      "\n",
      "Action: pos=29, val=0\n",
      "Grid:\n"
     ]
    },
    {
     "data": {
      "text/plain": [
       "<Figure size 200x200 with 1 Axes>"
      ],
      "image/png": "[encoded data removed]"
     },
     "metadata": {},
     "output_type": "display_data"
    },
    {
     "name": "stdout",
     "output_type": "stream",
     "text": [
      "Symmetry: 0.50\n",
      "Reward: 5.40\n",
      "\n",
      "Action: pos=5, val=0\n",
      "Grid:\n"
     ]
    },
    {
     "data": {
      "text/plain": [
       "<Figure size 200x200 with 1 Axes>"
      ],
      "image/png": "[encoded data removed]"
     },
     "metadata": {},
     "output_type": "display_data"
    },
    {
     "name": "stdout",
     "output_type": "stream",
     "text": [
      "Symmetry: 0.55\n",
      "Reward: 5.15\n",
      "\n",
      "Action: pos=11, val=0\n",
      "Grid:\n"
     ]
    },
    {
     "data": {
      "text/plain": [
       "<Figure size 200x200 with 1 Axes>"
      ],
      "image/png": "[encoded data removed]"
     },
     "metadata": {},
     "output_type": "display_data"
    },
    {
     "name": "stdout",
     "output_type": "stream",
     "text": [
      "Symmetry: 0.60\n",
      "Reward: 5.00\n",
      "\n",
      "Action: pos=16, val=0\n",
      "Grid:\n"
     ]
    },
    {
     "data": {
      "text/plain": [
       "<Figure size 200x200 with 1 Axes>"
      ],
      "image/png": "[encoded data removed]"
     },
     "metadata": {},
     "output_type": "display_data"
    },
    {
     "name": "stdout",
     "output_type": "stream",
     "text": [
      "Symmetry: 0.65\n",
      "Reward: 4.94\n",
      "\n",
      "Action: pos=28, val=0\n",
      "Grid:\n"
     ]
    },
    {
     "data": {
      "text/plain": [
       "<Figure size 200x200 with 1 Axes>"
      ],
      "image/png": "[encoded data removed]"
     },
     "metadata": {},
     "output_type": "display_data"
    },
    {
     "name": "stdout",
     "output_type": "stream",
     "text": [
      "Symmetry: 0.70\n",
      "Reward: 4.96\n",
      "\n",
      "Action: pos=33, val=0\n",
      "Grid:\n"
     ]
    },
    {
     "data": {
      "text/plain": [
       "<Figure size 200x200 with 1 Axes>"
      ],
      "image/png": "[encoded data removed]"
     },
     "metadata": {},
     "output_type": "display_data"
    },
    {
     "name": "stdout",
     "output_type": "stream",
     "text": [
      "Symmetry: 0.75\n",
      "Reward: 5.10\n",
      "\n",
      "Action: pos=21, val=0\n",
      "Grid:\n"
     ]
    },
    {
     "data": {
      "text/plain": [
       "<Figure size 200x200 with 1 Axes>"
      ],
      "image/png": "[encoded data removed]"
     },
     "metadata": {},
     "output_type": "display_data"
    },
    {
     "name": "stdout",
     "output_type": "stream",
     "text": [
      "Symmetry: 0.80\n",
      "Reward: 5.36\n",
      "\n",
      "Action: pos=8, val=0\n",
      "Grid:\n"
     ]
    },
    {
     "data": {
      "text/plain": [
       "<Figure size 200x200 with 1 Axes>"
      ],
      "image/png": "[encoded data removed]"
     },
     "metadata": {},
     "output_type": "display_data"
    },
    {
     "name": "stdout",
     "output_type": "stream",
     "text": [
      "Symmetry: 0.86\n",
      "Reward: 5.79\n",
      "\n",
      "Action: pos=7, val=0\n",
      "Grid:\n"
     ]
    },
    {
     "data": {
      "text/plain": [
       "<Figure size 200x200 with 1 Axes>"
      ],
      "image/png": "[encoded data removed]"
     },
     "metadata": {},
     "output_type": "display_data"
    },
    {
     "name": "stdout",
     "output_type": "stream",
     "text": [
      "Symmetry: 0.93\n",
      "Reward: 6.44\n",
      "\n",
      "Action: pos=27, val=0\n",
      "Grid:\n"
     ]
    },
    {
     "data": {
      "text/plain": [
       "<Figure size 200x200 with 1 Axes>"
      ],
      "image/png": "[encoded data removed]"
     },
     "metadata": {},
     "output_type": "display_data"
    },
    {
     "name": "stdout",
     "output_type": "stream",
     "text": [
      "Symmetry: 1.00\n",
      "Reward: 100.00\n",
      "Total reward: 160.09\n",
      "Symmetric: True\n",
      "\n",
      "----------------------------------\n",
      "\n",
      "Episode 5\n",
      "Initial grid:\n"
     ]
    },
    {
     "data": {
      "text/plain": [
       "<Figure size 200x200 with 1 Axes>"
      ],
      "image/png": "[encoded data removed]"
     },
     "metadata": {},
     "output_type": "display_data"
    },
    {
     "name": "stdout",
     "output_type": "stream",
     "text": [
      "Initial symmetry: 0.26\n",
      "\n",
      "Action: pos=9, val=0\n",
      "Grid:\n"
     ]
    },
    {
     "data": {
      "text/plain": [
       "<Figure size 200x200 with 1 Axes>"
      ],
      "image/png": "[encoded data removed]"
     },
     "metadata": {},
     "output_type": "display_data"
    },
    {
     "name": "stdout",
     "output_type": "stream",
     "text": [
      "Symmetry: 0.33\n",
      "Reward: 6.79\n",
      "\n",
      "Action: pos=34, val=0\n",
      "Grid:\n"
     ]
    },
    {
     "data": {
      "text/plain": [
       "<Figure size 200x200 with 1 Axes>"
      ],
      "image/png": "[encoded data removed]"
     },
     "metadata": {},
     "output_type": "display_data"
    },
    {
     "name": "stdout",
     "output_type": "stream",
     "text": [
      "Symmetry: 0.39\n",
      "Reward: 6.20\n",
      "\n",
      "Action: pos=25, val=0\n",
      "Grid:\n"
     ]
    },
    {
     "data": {
      "text/plain": [
       "<Figure size 200x200 with 1 Axes>"
      ],
      "image/png": "[encoded data removed]"
     },
     "metadata": {},
     "output_type": "display_data"
    },
    {
     "name": "stdout",
     "output_type": "stream",
     "text": [
      "Symmetry: 0.44\n",
      "Reward: 5.74\n",
      "\n",
      "Action: pos=29, val=0\n",
      "Grid:\n"
     ]
    },
    {
     "data": {
      "text/plain": [
       "<Figure size 200x200 with 1 Axes>"
      ],
      "image/png": "[encoded data removed]"
     },
     "metadata": {},
     "output_type": "display_data"
    },
    {
     "name": "stdout",
     "output_type": "stream",
     "text": [
      "Symmetry: 0.50\n",
      "Reward: 5.40\n",
      "\n",
      "Action: pos=0, val=0\n",
      "Grid:\n"
     ]
    },
    {
     "data": {
      "text/plain": [
       "<Figure size 200x200 with 1 Axes>"
      ],
      "image/png": "[encoded data removed]"
     },
     "metadata": {},
     "output_type": "display_data"
    },
    {
     "name": "stdout",
     "output_type": "stream",
     "text": [
      "Symmetry: 0.55\n",
      "Reward: 5.15\n",
      "\n",
      "Action: pos=23, val=0\n",
      "Grid:\n"
     ]
    },
    {
     "data": {
      "text/plain": [
       "<Figure size 200x200 with 1 Axes>"
      ],
      "image/png": "[encoded data removed]"
     },
     "metadata": {},
     "output_type": "display_data"
    },
    {
     "name": "stdout",
     "output_type": "stream",
     "text": [
      "Symmetry: 0.60\n",
      "Reward: 5.00\n",
      "\n",
      "Action: pos=35, val=0\n",
      "Grid:\n"
     ]
    },
    {
     "data": {
      "text/plain": [
       "<Figure size 200x200 with 1 Axes>"
      ],
      "image/png": "[encoded data removed]"
     },
     "metadata": {},
     "output_type": "display_data"
    },
    {
     "name": "stdout",
     "output_type": "stream",
     "text": [
      "Symmetry: 0.65\n",
      "Reward: 4.94\n",
      "\n",
      "Action: pos=1, val=0\n",
      "Grid:\n"
     ]
    },
    {
     "data": {
      "text/plain": [
       "<Figure size 200x200 with 1 Axes>"
      ],
      "image/png": "[encoded data removed]"
     },
     "metadata": {},
     "output_type": "display_data"
    },
    {
     "name": "stdout",
     "output_type": "stream",
     "text": [
      "Symmetry: 0.70\n",
      "Reward: 4.96\n",
      "\n",
      "Action: pos=16, val=0\n",
      "Grid:\n"
     ]
    },
    {
     "data": {
      "text/plain": [
       "<Figure size 200x200 with 1 Axes>"
      ],
      "image/png": "[encoded data removed]"
     },
     "metadata": {},
     "output_type": "display_data"
    },
    {
     "name": "stdout",
     "output_type": "stream",
     "text": [
      "Symmetry: 0.75\n",
      "Reward: 5.10\n",
      "\n",
      "Action: pos=15, val=0\n",
      "Grid:\n"
     ]
    },
    {
     "data": {
      "text/plain": [
       "<Figure size 200x200 with 1 Axes>"
      ],
      "image/png": "[encoded data removed]"
     },
     "metadata": {},
     "output_type": "display_data"
    },
    {
     "name": "stdout",
     "output_type": "stream",
     "text": [
      "Symmetry: 0.80\n",
      "Reward: 5.36\n",
      "\n",
      "Action: pos=21, val=0\n",
      "Grid:\n"
     ]
    },
    {
     "data": {
      "text/plain": [
       "<Figure size 200x200 with 1 Axes>"
      ],
      "image/png": "[encoded data removed]"
     },
     "metadata": {},
     "output_type": "display_data"
    },
    {
     "name": "stdout",
     "output_type": "stream",
     "text": [
      "Symmetry: 0.86\n",
      "Reward: 5.79\n",
      "\n",
      "Action: pos=7, val=0\n",
      "Grid:\n"
     ]
    },
    {
     "data": {
      "text/plain": [
       "<Figure size 200x200 with 1 Axes>"
      ],
      "image/png": "[encoded data removed]"
     },
     "metadata": {},
     "output_type": "display_data"
    },
    {
     "name": "stdout",
     "output_type": "stream",
     "text": [
      "Symmetry: 0.93\n",
      "Reward: 6.44\n",
      "\n",
      "Action: pos=26, val=0\n",
      "Grid:\n"
     ]
    },
    {
     "data": {
      "text/plain": [
       "<Figure size 200x200 with 1 Axes>"
      ],
      "image/png": "[encoded data removed]"
     },
     "metadata": {},
     "output_type": "display_data"
    },
    {
     "name": "stdout",
     "output_type": "stream",
     "text": [
      "Symmetry: 1.00\n",
      "Reward: 100.00\n",
      "Total reward: 166.88\n",
      "Symmetric: True\n"
     ]
    }
   ],
   "execution_count": 6
  }
 ],
 "metadata": {
  "kernelspec": {
   "display_name": "Python 3",
   "language": "python",
   "name": "python3"
  },
  "language_info": {
   "codemirror_mode": {
    "name": "ipython",
    "version": 2
   },
   "file_extension": ".py",
   "mimetype": "text/x-python",
   "name": "python",
   "nbconvert_exporter": "python",
   "pygments_lexer": "ipython2",
   "version": "2.7.6"
  }
 },
 "nbformat": 4,
 "nbformat_minor": 5
}
