{
 "cells": [
  {
   "cell_type": "code",
   "id": "initial_id",
   "metadata": {
    "collapsed": true,
    "ExecuteTime": {
     "end_time": "2024-12-28T07:36:25.478223Z",
     "start_time": "2024-12-28T07:36:25.476159Z"
    }
   },
   "source": [
    "from models.symmetry_restoration import *\n",
    "\n",
    "HEIGHT = 4\n",
    "WIDTH = 4"
   ],
   "outputs": [],
   "execution_count": 4
  },
  {
   "metadata": {
    "ExecuteTime": {
     "end_time": "2024-12-28T07:36:25.505817Z",
     "start_time": "2024-12-28T07:36:25.495200Z"
    }
   },
   "cell_type": "code",
   "source": [
    "env_config = {\n",
    "    'height': HEIGHT,\n",
    "    'width': WIDTH,\n",
    "    'perfect_reward': 100.0,\n",
    "    'step_penalty': -0.01,\n",
    "    'revisited_penalty': -5.0,\n",
    "    'partial_reward_weight': 1.0,\n",
    "    'max_steps': HEIGHT * WIDTH * 2,\n",
    "    'allowed_revisits': 10000000,\n",
    "    'redundant_move_penalty': -5.0,\n",
    "    'learning_total_timesteps': 200_000,\n",
    "    'learning_rate': 1e-3,\n",
    "    'training_ent_coef': 0.1\n",
    "}\n",
    "\n",
    "loggers = Logger(\n",
    "    folder=None,\n",
    "    output_formats=[HumanOutputFormat(sys.stdout), MLflowOutputFormat()],\n",
    ")\n",
    "\n",
    "model = train_agent(env_config, load_if_exists=True, loggers=loggers)"
   ],
   "id": "d4e34bfe60b66842",
   "outputs": [
    {
     "name": "stdout",
     "output_type": "stream",
     "text": [
      "Provided environment configuration:\n",
      "{'height': 4, 'width': 4, 'perfect_reward': 100.0, 'step_penalty': -0.01, 'revisited_penalty': -5.0, 'partial_reward_weight': 1.0, 'max_steps': 32, 'allowed_revisits': 10000000, 'redundant_move_penalty': -5.0, 'learning_total_timesteps': 200000, 'learning_rate': 0.001, 'training_ent_coef': 0.1}\n",
      "Loading existing model from saved_models/model_d5e6980ff66ae0b4.zip\n"
     ]
    }
   ],
   "execution_count": 5
  },
  {
   "metadata": {
    "ExecuteTime": {
     "end_time": "2024-12-28T07:36:25.965422Z",
     "start_time": "2024-12-28T07:36:25.529667Z"
    }
   },
   "cell_type": "code",
   "source": "demonstrate_agent(model, env_config)",
   "id": "823d29723637e9b8",
   "outputs": [
    {
     "name": "stdout",
     "output_type": "stream",
     "text": [
      "\n",
      "----------------------------------\n",
      "\n",
      "Episode 1\n",
      "Initial grid:\n"
     ]
    },
    {
     "data": {
      "text/plain": [
       "<Figure size 200x200 with 1 Axes>"
      ],
      "image/png": "[encoded data removed]"
     },
     "metadata": {},
     "output_type": "display_data"
    },
    {
     "name": "stdout",
     "output_type": "stream",
     "text": [
      "Initial symmetry: 0.47\n",
      "\n",
      "Action: pos=7, val=0\n",
      "Grid:\n"
     ]
    },
    {
     "data": {
      "text/plain": [
       "<Figure size 200x200 with 1 Axes>"
      ],
      "image/png": "[encoded data removed]"
     },
     "metadata": {},
     "output_type": "display_data"
    },
    {
     "name": "stdout",
     "output_type": "stream",
     "text": [
      "Symmetry: 0.56\n",
      "Reward: -0.01\n",
      "\n",
      "Action: pos=2, val=0\n",
      "Grid:\n"
     ]
    },
    {
     "data": {
      "text/plain": [
       "<Figure size 200x200 with 1 Axes>"
      ],
      "image/png": "[encoded data removed]"
     },
     "metadata": {},
     "output_type": "display_data"
    },
    {
     "name": "stdout",
     "output_type": "stream",
     "text": [
      "Symmetry: 0.67\n",
      "Reward: 0.09\n",
      "\n",
      "Action: pos=10, val=0\n",
      "Grid:\n"
     ]
    },
    {
     "data": {
      "text/plain": [
       "<Figure size 200x200 with 1 Axes>"
      ],
      "image/png": "[encoded data removed]"
     },
     "metadata": {},
     "output_type": "display_data"
    },
    {
     "name": "stdout",
     "output_type": "stream",
     "text": [
      "Symmetry: 0.79\n",
      "Reward: 0.12\n",
      "\n",
      "Action: pos=0, val=0\n",
      "Grid:\n"
     ]
    },
    {
     "data": {
      "text/plain": [
       "<Figure size 200x200 with 1 Axes>"
      ],
      "image/png": "[encoded data removed]"
     },
     "metadata": {},
     "output_type": "display_data"
    },
    {
     "name": "stdout",
     "output_type": "stream",
     "text": [
      "Symmetry: 1.00\n",
      "Reward: 100.00\n",
      "Total reward: 100.20\n",
      "Symmetric: True\n",
      "\n",
      "----------------------------------\n",
      "\n",
      "Episode 2\n",
      "Initial grid:\n"
     ]
    },
    {
     "data": {
      "text/plain": [
       "<Figure size 200x200 with 1 Axes>"
      ],
      "image/png": "[encoded data removed]"
     },
     "metadata": {},
     "output_type": "display_data"
    },
    {
     "name": "stdout",
     "output_type": "stream",
     "text": [
      "Initial symmetry: 0.62\n",
      "\n",
      "Action: pos=8, val=0\n",
      "Grid:\n"
     ]
    },
    {
     "data": {
      "text/plain": [
       "<Figure size 200x200 with 1 Axes>"
      ],
      "image/png": "[encoded data removed]"
     },
     "metadata": {},
     "output_type": "display_data"
    },
    {
     "name": "stdout",
     "output_type": "stream",
     "text": [
      "Symmetry: 0.75\n",
      "Reward: -0.01\n",
      "\n",
      "Action: pos=2, val=0\n",
      "Grid:\n"
     ]
    },
    {
     "data": {
      "text/plain": [
       "<Figure size 200x200 with 1 Axes>"
      ],
      "image/png": "[encoded data removed]"
     },
     "metadata": {},
     "output_type": "display_data"
    },
    {
     "name": "stdout",
     "output_type": "stream",
     "text": [
      "Symmetry: 0.87\n",
      "Reward: 0.11\n",
      "\n",
      "Action: pos=0, val=0\n",
      "Grid:\n"
     ]
    },
    {
     "data": {
      "text/plain": [
       "<Figure size 200x200 with 1 Axes>"
      ],
      "image/png": "[encoded data removed]"
     },
     "metadata": {},
     "output_type": "display_data"
    },
    {
     "name": "stdout",
     "output_type": "stream",
     "text": [
      "Symmetry: 1.00\n",
      "Reward: 100.00\n",
      "Total reward: 100.10\n",
      "Symmetric: True\n",
      "\n",
      "----------------------------------\n",
      "\n",
      "Episode 3\n",
      "Initial grid:\n"
     ]
    },
    {
     "data": {
      "text/plain": [
       "<Figure size 200x200 with 1 Axes>"
      ],
      "image/png": "[encoded data removed]"
     },
     "metadata": {},
     "output_type": "display_data"
    },
    {
     "name": "stdout",
     "output_type": "stream",
     "text": [
      "Initial symmetry: 0.79\n",
      "\n",
      "Action: pos=3, val=0\n",
      "Grid:\n"
     ]
    },
    {
     "data": {
      "text/plain": [
       "<Figure size 200x200 with 1 Axes>"
      ],
      "image/png": "[encoded data removed]"
     },
     "metadata": {},
     "output_type": "display_data"
    },
    {
     "name": "stdout",
     "output_type": "stream",
     "text": [
      "Symmetry: 0.67\n",
      "Reward: -0.01\n",
      "\n",
      "Action: pos=8, val=0\n",
      "Grid:\n"
     ]
    },
    {
     "data": {
      "text/plain": [
       "<Figure size 200x200 with 1 Axes>"
      ],
      "image/png": "[encoded data removed]"
     },
     "metadata": {},
     "output_type": "display_data"
    },
    {
     "name": "stdout",
     "output_type": "stream",
     "text": [
      "Symmetry: 0.85\n",
      "Reward: 0.18\n",
      "\n",
      "Action: pos=0, val=0\n",
      "Grid:\n"
     ]
    },
    {
     "data": {
      "text/plain": [
       "<Figure size 200x200 with 1 Axes>"
      ],
      "image/png": "[encoded data removed]"
     },
     "metadata": {},
     "output_type": "display_data"
    },
    {
     "name": "stdout",
     "output_type": "stream",
     "text": [
      "Symmetry: 1.00\n",
      "Reward: 100.00\n",
      "Total reward: 100.17\n",
      "Symmetric: True\n",
      "\n",
      "----------------------------------\n",
      "\n",
      "Episode 4\n",
      "Initial grid:\n"
     ]
    },
    {
     "data": {
      "text/plain": [
       "<Figure size 200x200 with 1 Axes>"
      ],
      "image/png": "[encoded data removed]"
     },
     "metadata": {},
     "output_type": "display_data"
    },
    {
     "name": "stdout",
     "output_type": "stream",
     "text": [
      "Initial symmetry: 0.47\n",
      "\n",
      "Action: pos=3, val=0\n",
      "Grid:\n"
     ]
    },
    {
     "data": {
      "text/plain": [
       "<Figure size 200x200 with 1 Axes>"
      ],
      "image/png": "[encoded data removed]"
     },
     "metadata": {},
     "output_type": "display_data"
    },
    {
     "name": "stdout",
     "output_type": "stream",
     "text": [
      "Symmetry: 0.37\n",
      "Reward: -0.01\n",
      "\n",
      "Action: pos=1, val=0\n",
      "Grid:\n"
     ]
    },
    {
     "data": {
      "text/plain": [
       "<Figure size 200x200 with 1 Axes>"
      ],
      "image/png": "[encoded data removed]"
     },
     "metadata": {},
     "output_type": "display_data"
    },
    {
     "name": "stdout",
     "output_type": "stream",
     "text": [
      "Symmetry: 0.50\n",
      "Reward: 0.12\n",
      "\n",
      "Action: pos=11, val=0\n",
      "Grid:\n"
     ]
    },
    {
     "data": {
      "text/plain": [
       "<Figure size 200x200 with 1 Axes>"
      ],
      "image/png": "[encoded data removed]"
     },
     "metadata": {},
     "output_type": "display_data"
    },
    {
     "name": "stdout",
     "output_type": "stream",
     "text": [
      "Symmetry: 0.62\n",
      "Reward: 0.11\n",
      "\n",
      "Action: pos=0, val=0\n",
      "Grid:\n"
     ]
    },
    {
     "data": {
      "text/plain": [
       "<Figure size 200x200 with 1 Axes>"
      ],
      "image/png": "[encoded data removed]"
     },
     "metadata": {},
     "output_type": "display_data"
    },
    {
     "name": "stdout",
     "output_type": "stream",
     "text": [
      "Symmetry: 0.73\n",
      "Reward: 0.10\n",
      "\n",
      "Action: pos=13, val=0\n",
      "Grid:\n"
     ]
    },
    {
     "data": {
      "text/plain": [
       "<Figure size 200x200 with 1 Axes>"
      ],
      "image/png": "[encoded data removed]"
     },
     "metadata": {},
     "output_type": "display_data"
    },
    {
     "name": "stdout",
     "output_type": "stream",
     "text": [
      "Symmetry: 0.85\n",
      "Reward: 0.11\n",
      "\n",
      "Action: pos=5, val=0\n",
      "Grid:\n"
     ]
    },
    {
     "data": {
      "text/plain": [
       "<Figure size 200x200 with 1 Axes>"
      ],
      "image/png": "[encoded data removed]"
     },
     "metadata": {},
     "output_type": "display_data"
    },
    {
     "name": "stdout",
     "output_type": "stream",
     "text": [
      "Symmetry: 1.00\n",
      "Reward: 100.00\n",
      "Total reward: 100.44\n",
      "Symmetric: True\n",
      "\n",
      "----------------------------------\n",
      "\n",
      "Episode 5\n",
      "Initial grid:\n"
     ]
    },
    {
     "data": {
      "text/plain": [
       "<Figure size 200x200 with 1 Axes>"
      ],
      "image/png": "[encoded data removed]"
     },
     "metadata": {},
     "output_type": "display_data"
    },
    {
     "name": "stdout",
     "output_type": "stream",
     "text": [
      "Initial symmetry: 0.37\n",
      "\n",
      "Action: pos=8, val=0\n",
      "Grid:\n"
     ]
    },
    {
     "data": {
      "text/plain": [
       "<Figure size 200x200 with 1 Axes>"
      ],
      "image/png": "[encoded data removed]"
     },
     "metadata": {},
     "output_type": "display_data"
    },
    {
     "name": "stdout",
     "output_type": "stream",
     "text": [
      "Symmetry: 0.50\n",
      "Reward: -0.01\n",
      "\n",
      "Action: pos=10, val=0\n",
      "Grid:\n"
     ]
    },
    {
     "data": {
      "text/plain": [
       "<Figure size 200x200 with 1 Axes>"
      ],
      "image/png": "[encoded data removed]"
     },
     "metadata": {},
     "output_type": "display_data"
    },
    {
     "name": "stdout",
     "output_type": "stream",
     "text": [
      "Symmetry: 0.62\n",
      "Reward: 0.11\n",
      "\n",
      "Action: pos=3, val=0\n",
      "Grid:\n"
     ]
    },
    {
     "data": {
      "text/plain": [
       "<Figure size 200x200 with 1 Axes>"
      ],
      "image/png": "[encoded data removed]"
     },
     "metadata": {},
     "output_type": "display_data"
    },
    {
     "name": "stdout",
     "output_type": "stream",
     "text": [
      "Symmetry: 0.47\n",
      "Reward: -0.16\n",
      "\n",
      "Action: pos=0, val=0\n",
      "Grid:\n"
     ]
    },
    {
     "data": {
      "text/plain": [
       "<Figure size 200x200 with 1 Axes>"
      ],
      "image/png": "[encoded data removed]"
     },
     "metadata": {},
     "output_type": "display_data"
    },
    {
     "name": "stdout",
     "output_type": "stream",
     "text": [
      "Symmetry: 0.56\n",
      "Reward: 0.09\n",
      "\n",
      "Action: pos=5, val=0\n",
      "Grid:\n"
     ]
    },
    {
     "data": {
      "text/plain": [
       "<Figure size 200x200 with 1 Axes>"
      ],
      "image/png": "[encoded data removed]"
     },
     "metadata": {},
     "output_type": "display_data"
    },
    {
     "name": "stdout",
     "output_type": "stream",
     "text": [
      "Symmetry: 0.67\n",
      "Reward: 0.09\n",
      "\n",
      "Action: pos=15, val=0\n",
      "Grid:\n"
     ]
    },
    {
     "data": {
      "text/plain": [
       "<Figure size 200x200 with 1 Axes>"
      ],
      "image/png": "[encoded data removed]"
     },
     "metadata": {},
     "output_type": "display_data"
    },
    {
     "name": "stdout",
     "output_type": "stream",
     "text": [
      "Symmetry: 0.79\n",
      "Reward: 0.12\n",
      "\n",
      "Action: pos=13, val=0\n",
      "Grid:\n"
     ]
    },
    {
     "data": {
      "text/plain": [
       "<Figure size 200x200 with 1 Axes>"
      ],
      "image/png": "[encoded data removed]"
     },
     "metadata": {},
     "output_type": "display_data"
    },
    {
     "name": "stdout",
     "output_type": "stream",
     "text": [
      "Symmetry: 1.00\n",
      "Reward: 100.00\n",
      "Total reward: 100.23\n",
      "Symmetric: True\n"
     ]
    }
   ],
   "execution_count": 6
  }
 ],
 "metadata": {
  "kernelspec": {
   "display_name": "Python 3",
   "language": "python",
   "name": "python3"
  },
  "language_info": {
   "codemirror_mode": {
    "name": "ipython",
    "version": 2
   },
   "file_extension": ".py",
   "mimetype": "text/x-python",
   "name": "python",
   "nbconvert_exporter": "python",
   "pygments_lexer": "ipython2",
   "version": "2.7.6"
  }
 },
 "nbformat": 4,
 "nbformat_minor": 5
}
