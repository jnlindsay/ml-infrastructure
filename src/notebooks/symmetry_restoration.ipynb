{
 "cells": [
  {
   "cell_type": "code",
   "id": "initial_id",
   "metadata": {
    "collapsed": true,
    "ExecuteTime": {
     "end_time": "2024-12-28T10:39:04.772280Z",
     "start_time": "2024-12-28T10:39:02.681750Z"
    }
   },
   "source": [
    "from models.symmetry_restoration import *\n",
    "from utilities.git import get_git_commit_hash\n",
    "\n",
    "HEIGHT = 4\n",
    "WIDTH = 4"
   ],
   "outputs": [],
   "execution_count": 1
  },
  {
   "metadata": {
    "ExecuteTime": {
     "end_time": "2024-12-28T10:39:05.376092Z",
     "start_time": "2024-12-28T10:39:04.776361Z"
    }
   },
   "cell_type": "code",
   "source": [
    "hashed_config = {\n",
    "    'height': HEIGHT,\n",
    "    'width': WIDTH,\n",
    "    'perfect_reward': 100.0,\n",
    "    'step_penalty': -0.1,\n",
    "    'revisited_penalty': -5.0,\n",
    "    'partial_reward_weight': 10.0,\n",
    "    'max_steps': HEIGHT * WIDTH * 2,\n",
    "    'allowed_revisits': 999999999,\n",
    "    'redundant_move_penalty': -5.0,\n",
    "    'learning_total_timesteps': 200_000,\n",
    "    'learning_rate': 1e-3,\n",
    "    'training_ent_coef': 0.01\n",
    "}\n",
    "\n",
    "unhashed_config = {\n",
    "    'git_commit_hash': get_git_commit_hash()\n",
    "}\n",
    "\n",
    "loggers = Logger(\n",
    "    folder=None,\n",
    "    output_formats=[HumanOutputFormat(sys.stdout), MLflowOutputFormat()],\n",
    ")\n",
    "\n",
    "model = train_agent(hashed_config, unhashed_config, load_if_exists=True, loggers=loggers)"
   ],
   "id": "d4e34bfe60b66842",
   "outputs": [
    {
     "name": "stdout",
     "output_type": "stream",
     "text": [
      "Provided environment configuration:\n",
      "{'height': 4, 'width': 4, 'perfect_reward': 100.0, 'step_penalty': -0.1, 'revisited_penalty': -5.0, 'partial_reward_weight': 10.0, 'max_steps': 32, 'allowed_revisits': 999999999, 'redundant_move_penalty': -5.0, 'learning_total_timesteps': 200000, 'learning_rate': 0.001, 'training_ent_coef': 0.01}\n",
      "Loading existing model from saved_models/model_bd474b25e57a5f9a.zip\n"
     ]
    }
   ],
   "execution_count": 2
  },
  {
   "metadata": {
    "ExecuteTime": {
     "end_time": "2024-12-28T10:39:05.899194Z",
     "start_time": "2024-12-28T10:39:05.436764Z"
    }
   },
   "cell_type": "code",
   "source": "demonstrate_agent(model, hashed_config)",
   "id": "823d29723637e9b8",
   "outputs": [
    {
     "name": "stdout",
     "output_type": "stream",
     "text": [
      "\n",
      "----------------------------------\n",
      "\n",
      "Episode 1\n",
      "Initial grid:\n"
     ]
    },
    {
     "data": {
      "text/plain": [
       "<Figure size 200x200 with 1 Axes>"
      ],
      "image/png": "[encoded data removed]"
     },
     "metadata": {},
     "output_type": "display_data"
    },
    {
     "name": "stdout",
     "output_type": "stream",
     "text": [
      "Initial symmetry: 0.37\n",
      "\n",
      "Action: pos=0, val=0\n",
      "Grid:\n"
     ]
    },
    {
     "data": {
      "text/plain": [
       "<Figure size 200x200 with 1 Axes>"
      ],
      "image/png": "[encoded data removed]"
     },
     "metadata": {},
     "output_type": "display_data"
    },
    {
     "name": "stdout",
     "output_type": "stream",
     "text": [
      "Symmetry: 0.47\n",
      "Reward: 0.92\n",
      "\n",
      "Action: pos=13, val=0\n",
      "Grid:\n"
     ]
    },
    {
     "data": {
      "text/plain": [
       "<Figure size 200x200 with 1 Axes>"
      ],
      "image/png": "[encoded data removed]"
     },
     "metadata": {},
     "output_type": "display_data"
    },
    {
     "name": "stdout",
     "output_type": "stream",
     "text": [
      "Symmetry: 0.56\n",
      "Reward: 0.87\n",
      "\n",
      "Action: pos=4, val=0\n",
      "Grid:\n"
     ]
    },
    {
     "data": {
      "text/plain": [
       "<Figure size 200x200 with 1 Axes>"
      ],
      "image/png": "[encoded data removed]"
     },
     "metadata": {},
     "output_type": "display_data"
    },
    {
     "name": "stdout",
     "output_type": "stream",
     "text": [
      "Symmetry: 0.67\n",
      "Reward: 0.93\n",
      "\n",
      "Action: pos=15, val=0\n",
      "Grid:\n"
     ]
    },
    {
     "data": {
      "text/plain": [
       "<Figure size 200x200 with 1 Axes>"
      ],
      "image/png": "[encoded data removed]"
     },
     "metadata": {},
     "output_type": "display_data"
    },
    {
     "name": "stdout",
     "output_type": "stream",
     "text": [
      "Symmetry: 0.79\n",
      "Reward: 1.18\n",
      "\n",
      "Action: pos=5, val=0\n",
      "Grid:\n"
     ]
    },
    {
     "data": {
      "text/plain": [
       "<Figure size 200x200 with 1 Axes>"
      ],
      "image/png": "[encoded data removed]"
     },
     "metadata": {},
     "output_type": "display_data"
    },
    {
     "name": "stdout",
     "output_type": "stream",
     "text": [
      "Symmetry: 1.00\n",
      "Reward: 100.00\n",
      "Total reward: 103.90\n",
      "Symmetric: True\n",
      "\n",
      "----------------------------------\n",
      "\n",
      "Episode 2\n",
      "Initial grid:\n"
     ]
    },
    {
     "data": {
      "text/plain": [
       "<Figure size 200x200 with 1 Axes>"
      ],
      "image/png": "[encoded data removed]"
     },
     "metadata": {},
     "output_type": "display_data"
    },
    {
     "name": "stdout",
     "output_type": "stream",
     "text": [
      "Initial symmetry: 0.73\n",
      "\n",
      "Action: pos=6, val=0\n",
      "Grid:\n"
     ]
    },
    {
     "data": {
      "text/plain": [
       "<Figure size 200x200 with 1 Axes>"
      ],
      "image/png": "[encoded data removed]"
     },
     "metadata": {},
     "output_type": "display_data"
    },
    {
     "name": "stdout",
     "output_type": "stream",
     "text": [
      "Symmetry: 0.87\n",
      "Reward: 1.30\n",
      "\n",
      "Action: pos=15, val=0\n",
      "Grid:\n"
     ]
    },
    {
     "data": {
      "text/plain": [
       "<Figure size 200x200 with 1 Axes>"
      ],
      "image/png": "[encoded data removed]"
     },
     "metadata": {},
     "output_type": "display_data"
    },
    {
     "name": "stdout",
     "output_type": "stream",
     "text": [
      "Symmetry: 1.00\n",
      "Reward: 100.00\n",
      "Total reward: 101.30\n",
      "Symmetric: True\n",
      "\n",
      "----------------------------------\n",
      "\n",
      "Episode 3\n",
      "Initial grid:\n"
     ]
    },
    {
     "data": {
      "text/plain": [
       "<Figure size 200x200 with 1 Axes>"
      ],
      "image/png": "[encoded data removed]"
     },
     "metadata": {},
     "output_type": "display_data"
    },
    {
     "name": "stdout",
     "output_type": "stream",
     "text": [
      "Initial symmetry: 0.50\n",
      "\n",
      "Action: pos=11, val=0\n",
      "Grid:\n"
     ]
    },
    {
     "data": {
      "text/plain": [
       "<Figure size 200x200 with 1 Axes>"
      ],
      "image/png": "[encoded data removed]"
     },
     "metadata": {},
     "output_type": "display_data"
    },
    {
     "name": "stdout",
     "output_type": "stream",
     "text": [
      "Symmetry: 0.62\n",
      "Reward: 1.09\n",
      "\n",
      "Action: pos=6, val=0\n",
      "Grid:\n"
     ]
    },
    {
     "data": {
      "text/plain": [
       "<Figure size 200x200 with 1 Axes>"
      ],
      "image/png": "[encoded data removed]"
     },
     "metadata": {},
     "output_type": "display_data"
    },
    {
     "name": "stdout",
     "output_type": "stream",
     "text": [
      "Symmetry: 0.73\n",
      "Reward: 1.04\n",
      "\n",
      "Action: pos=0, val=0\n",
      "Grid:\n"
     ]
    },
    {
     "data": {
      "text/plain": [
       "<Figure size 200x200 with 1 Axes>"
      ],
      "image/png": "[encoded data removed]"
     },
     "metadata": {},
     "output_type": "display_data"
    },
    {
     "name": "stdout",
     "output_type": "stream",
     "text": [
      "Symmetry: 0.85\n",
      "Reward: 1.11\n",
      "\n",
      "Action: pos=10, val=0\n",
      "Grid:\n"
     ]
    },
    {
     "data": {
      "text/plain": [
       "<Figure size 200x200 with 1 Axes>"
      ],
      "image/png": "[encoded data removed]"
     },
     "metadata": {},
     "output_type": "display_data"
    },
    {
     "name": "stdout",
     "output_type": "stream",
     "text": [
      "Symmetry: 1.00\n",
      "Reward: 100.00\n",
      "Total reward: 103.25\n",
      "Symmetric: True\n",
      "\n",
      "----------------------------------\n",
      "\n",
      "Episode 4\n",
      "Initial grid:\n"
     ]
    },
    {
     "data": {
      "text/plain": [
       "<Figure size 200x200 with 1 Axes>"
      ],
      "image/png": "[encoded data removed]"
     },
     "metadata": {},
     "output_type": "display_data"
    },
    {
     "name": "stdout",
     "output_type": "stream",
     "text": [
      "Initial symmetry: 0.37\n",
      "\n",
      "Action: pos=2, val=0\n",
      "Grid:\n"
     ]
    },
    {
     "data": {
      "text/plain": [
       "<Figure size 200x200 with 1 Axes>"
      ],
      "image/png": "[encoded data removed]"
     },
     "metadata": {},
     "output_type": "display_data"
    },
    {
     "name": "stdout",
     "output_type": "stream",
     "text": [
      "Symmetry: 0.50\n",
      "Reward: 1.25\n",
      "\n",
      "Action: pos=10, val=0\n",
      "Grid:\n"
     ]
    },
    {
     "data": {
      "text/plain": [
       "<Figure size 200x200 with 1 Axes>"
      ],
      "image/png": "[encoded data removed]"
     },
     "metadata": {},
     "output_type": "display_data"
    },
    {
     "name": "stdout",
     "output_type": "stream",
     "text": [
      "Symmetry: 0.62\n",
      "Reward: 1.09\n",
      "\n",
      "Action: pos=14, val=0\n",
      "Grid:\n"
     ]
    },
    {
     "data": {
      "text/plain": [
       "<Figure size 200x200 with 1 Axes>"
      ],
      "image/png": "[encoded data removed]"
     },
     "metadata": {},
     "output_type": "display_data"
    },
    {
     "name": "stdout",
     "output_type": "stream",
     "text": [
      "Symmetry: 0.73\n",
      "Reward: 1.04\n",
      "\n",
      "Action: pos=11, val=0\n",
      "Grid:\n"
     ]
    },
    {
     "data": {
      "text/plain": [
       "<Figure size 200x200 with 1 Axes>"
      ],
      "image/png": "[encoded data removed]"
     },
     "metadata": {},
     "output_type": "display_data"
    },
    {
     "name": "stdout",
     "output_type": "stream",
     "text": [
      "Symmetry: 0.85\n",
      "Reward: 1.11\n",
      "\n",
      "Action: pos=3, val=0\n",
      "Grid:\n"
     ]
    },
    {
     "data": {
      "text/plain": [
       "<Figure size 200x200 with 1 Axes>"
      ],
      "image/png": "[encoded data removed]"
     },
     "metadata": {},
     "output_type": "display_data"
    },
    {
     "name": "stdout",
     "output_type": "stream",
     "text": [
      "Symmetry: 1.00\n",
      "Reward: 100.00\n",
      "Total reward: 104.49\n",
      "Symmetric: True\n",
      "\n",
      "----------------------------------\n",
      "\n",
      "Episode 5\n",
      "Initial grid:\n"
     ]
    },
    {
     "data": {
      "text/plain": [
       "<Figure size 200x200 with 1 Axes>"
      ],
      "image/png": "[encoded data removed]"
     },
     "metadata": {},
     "output_type": "display_data"
    },
    {
     "name": "stdout",
     "output_type": "stream",
     "text": [
      "Initial symmetry: 0.62\n",
      "\n",
      "Action: pos=8, val=0\n",
      "Grid:\n"
     ]
    },
    {
     "data": {
      "text/plain": [
       "<Figure size 200x200 with 1 Axes>"
      ],
      "image/png": "[encoded data removed]"
     },
     "metadata": {},
     "output_type": "display_data"
    },
    {
     "name": "stdout",
     "output_type": "stream",
     "text": [
      "Symmetry: 0.75\n",
      "Reward: 1.21\n",
      "\n",
      "Action: pos=13, val=0\n",
      "Grid:\n"
     ]
    },
    {
     "data": {
      "text/plain": [
       "<Figure size 200x200 with 1 Axes>"
      ],
      "image/png": "[encoded data removed]"
     },
     "metadata": {},
     "output_type": "display_data"
    },
    {
     "name": "stdout",
     "output_type": "stream",
     "text": [
      "Symmetry: 0.87\n",
      "Reward: 1.13\n",
      "\n",
      "Action: pos=1, val=0\n",
      "Grid:\n"
     ]
    },
    {
     "data": {
      "text/plain": [
       "<Figure size 200x200 with 1 Axes>"
      ],
      "image/png": "[encoded data removed]"
     },
     "metadata": {},
     "output_type": "display_data"
    },
    {
     "name": "stdout",
     "output_type": "stream",
     "text": [
      "Symmetry: 1.00\n",
      "Reward: 100.00\n",
      "Total reward: 102.34\n",
      "Symmetric: True\n"
     ]
    }
   ],
   "execution_count": 3
  }
 ],
 "metadata": {
  "kernelspec": {
   "display_name": "Python 3",
   "language": "python",
   "name": "python3"
  },
  "language_info": {
   "codemirror_mode": {
    "name": "ipython",
    "version": 2
   },
   "file_extension": ".py",
   "mimetype": "text/x-python",
   "name": "python",
   "nbconvert_exporter": "python",
   "pygments_lexer": "ipython2",
   "version": "2.7.6"
  }
 },
 "nbformat": 4,
 "nbformat_minor": 5
}
