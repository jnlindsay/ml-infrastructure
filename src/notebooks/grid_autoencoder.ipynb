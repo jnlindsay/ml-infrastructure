{
 "cells": [
  {
   "metadata": {},
   "cell_type": "markdown",
   "source": "# Grid autoencoder",
   "id": "4dee6b962d2c474d"
  },
  {
   "metadata": {},
   "cell_type": "markdown",
   "source": "Imports and constants",
   "id": "e5785f297d49ecf0"
  },
  {
   "cell_type": "code",
   "id": "initial_id",
   "metadata": {
    "collapsed": true,
    "ExecuteTime": {
     "end_time": "2024-12-30T02:08:10.991193Z",
     "start_time": "2024-12-30T02:08:09.772697Z"
    }
   },
   "source": [
    "from trainers.grid_autoencoder_trainer import GridAutoencoderTrainer\n",
    "from utilities.grid import GridFactory\n",
    "from utilities.visualiser import Visualiser\n",
    "\n",
    "NUM_ROWS = 10\n",
    "NUM_COLS = 10"
   ],
   "outputs": [],
   "execution_count": 1
  },
  {
   "metadata": {},
   "cell_type": "markdown",
   "source": "## Lines",
   "id": "76333767d7f6b6e"
  },
  {
   "metadata": {
    "ExecuteTime": {
     "end_time": "2024-12-30T02:10:24.906027Z",
     "start_time": "2024-12-30T02:08:10.996974Z"
    }
   },
   "cell_type": "code",
   "source": [
    "grid_autoencoder_trainer = GridAutoencoderTrainer(10, 10)\n",
    "\n",
    "training_phases = [\n",
    "    GridAutoencoderTrainer.TrainingPhase(\"random_lines\", 1000, 50)\n",
    "]\n",
    "\n",
    "grid_autoencoder_trainer.train(training_phases, force_retrain=True)\n",
    "grid_autoencoder_trainer.demonstrate(\"random_lines\")"
   ],
   "id": "54aeb2953c89dd58",
   "outputs": [
    {
     "name": "stdout",
     "output_type": "stream",
     "text": [
      "Using device: cpu\n",
      "Epoch 1, Loss: 0.0453\n",
      "Epoch 2, Loss: 0.0485\n",
      "Epoch 3, Loss: 0.0554\n",
      "Epoch 4, Loss: 0.0573\n",
      "Epoch 5, Loss: 0.0564\n",
      "Epoch 6, Loss: 0.0649\n",
      "Epoch 7, Loss: 0.0601\n",
      "Epoch 8, Loss: 0.0449\n",
      "Epoch 9, Loss: 0.0524\n",
      "Epoch 10, Loss: 0.0500\n",
      "Epoch 11, Loss: 0.0551\n",
      "Epoch 12, Loss: 0.0554\n",
      "Epoch 13, Loss: 0.0511\n",
      "Epoch 14, Loss: 0.0342\n",
      "Epoch 15, Loss: 0.0171\n",
      "Epoch 16, Loss: 0.0120\n",
      "Epoch 17, Loss: 0.0103\n",
      "Epoch 18, Loss: 0.0240\n",
      "Epoch 19, Loss: 0.0161\n",
      "Epoch 20, Loss: 0.0205\n",
      "Epoch 21, Loss: 0.0162\n",
      "Epoch 22, Loss: 0.0051\n",
      "Epoch 23, Loss: 0.0109\n",
      "Epoch 24, Loss: 0.0058\n",
      "Epoch 25, Loss: 0.0034\n",
      "Epoch 26, Loss: 0.0004\n",
      "Epoch 27, Loss: 0.0001\n",
      "Epoch 28, Loss: 0.0044\n",
      "Epoch 29, Loss: 0.0027\n",
      "Epoch 30, Loss: 0.0025\n",
      "Epoch 31, Loss: 0.0000\n",
      "Epoch 32, Loss: 0.0025\n",
      "Epoch 33, Loss: 0.0000\n",
      "Epoch 34, Loss: 0.0050\n",
      "Epoch 35, Loss: 0.0000\n",
      "Epoch 36, Loss: 0.0025\n",
      "Epoch 37, Loss: 0.0062\n",
      "Epoch 38, Loss: 0.0000\n",
      "Epoch 39, Loss: 0.0012\n",
      "Epoch 40, Loss: 0.0000\n",
      "Epoch 41, Loss: 0.0000\n",
      "Epoch 42, Loss: 0.0001\n",
      "Epoch 43, Loss: 0.0025\n",
      "Epoch 44, Loss: 0.0025\n",
      "Epoch 45, Loss: 0.0025\n",
      "Epoch 46, Loss: 0.0013\n",
      "Epoch 47, Loss: 0.0001\n",
      "Epoch 48, Loss: 0.0001\n",
      "Epoch 49, Loss: 0.0008\n",
      "Epoch 50, Loss: 0.0000\n",
      "Original Grid:\n"
     ]
    },
    {
     "data": {
      "text/plain": [
       "<Figure size 300x300 with 1 Axes>"
      ],
      "image/png": "[encoded data removed]"
     },
     "metadata": {},
     "output_type": "display_data"
    },
    {
     "name": "stdout",
     "output_type": "stream",
     "text": [
      "\n",
      "Reconstructed Grid:\n"
     ]
    },
    {
     "data": {
      "text/plain": [
       "<Figure size 300x300 with 1 Axes>"
      ],
      "image/png": "[encoded data removed]"
     },
     "metadata": {},
     "output_type": "display_data"
    }
   ],
   "execution_count": 2
  },
  {
   "metadata": {},
   "cell_type": "markdown",
   "source": "## Experiment: Non-symmetrical vs. symmetrical random grids",
   "id": "4e4fb0d95d8759a2"
  },
  {
   "metadata": {},
   "cell_type": "markdown",
   "source": "Set up trainers and training phases",
   "id": "73aa25d764241fe3"
  },
  {
   "metadata": {
    "ExecuteTime": {
     "end_time": "2024-12-30T02:11:36.505089Z",
     "start_time": "2024-12-30T02:11:36.465563Z"
    }
   },
   "cell_type": "code",
   "source": [
    "grid_autoencoder_trainer_non_symmetrical = GridAutoencoderTrainer(NUM_ROWS, NUM_COLS)\n",
    "grid_autoencoder_trainer_symmetrical = GridAutoencoderTrainer(NUM_ROWS, NUM_COLS)\n",
    "grid_autoencoder_trainer_symmetrical_lines = GridAutoencoderTrainer(NUM_ROWS, NUM_COLS)\n",
    "\n",
    "training_phases_non_symmetrical = [\n",
    "    GridAutoencoderTrainer.TrainingPhase(\"random\", 1000, 50)\n",
    "]\n",
    "\n",
    "training_phases_symmetrical = [\n",
    "    GridAutoencoderTrainer.TrainingPhase(\"random_symmetrical\", 1000, 50)\n",
    "]\n",
    "\n",
    "training_phases_symmetrical_lines = [\n",
    "    GridAutoencoderTrainer.TrainingPhase(\"random_lines\", 1000, 50),\n",
    "    GridAutoencoderTrainer.TrainingPhase(\"random_symmetrical\", 1000, 50)\n",
    "]"
   ],
   "id": "a66da916c93f6964",
   "outputs": [
    {
     "name": "stdout",
     "output_type": "stream",
     "text": [
      "Using device: cpu\n",
      "Using device: cpu\n",
      "Using device: cpu\n"
     ]
    }
   ],
   "execution_count": 6
  },
  {
   "metadata": {},
   "cell_type": "markdown",
   "source": "Train models",
   "id": "b4961fbcf2c37ec6"
  },
  {
   "metadata": {
    "ExecuteTime": {
     "end_time": "2024-12-30T02:19:30.949164Z",
     "start_time": "2024-12-30T02:11:37.966576Z"
    }
   },
   "cell_type": "code",
   "source": [
    "grid_autoencoder_trainer_non_symmetrical.train(training_phases_non_symmetrical, force_retrain=True)\n",
    "grid_autoencoder_trainer_symmetrical.train(training_phases_symmetrical, force_retrain=True)\n",
    "grid_autoencoder_trainer_symmetrical_lines.train(training_phases_symmetrical_lines, force_retrain=True)\n"
   ],
   "id": "3cdf8d65f53816b3",
   "outputs": [
    {
     "name": "stdout",
     "output_type": "stream",
     "text": [
      "Epoch 1, Loss: 0.0823\n",
      "Epoch 2, Loss: 0.0826\n",
      "Epoch 3, Loss: 0.0821\n",
      "Epoch 4, Loss: 0.0799\n",
      "Epoch 5, Loss: 0.0860\n",
      "Epoch 6, Loss: 0.0833\n",
      "Epoch 7, Loss: 0.0867\n",
      "Epoch 8, Loss: 0.0820\n",
      "Epoch 9, Loss: 0.0858\n",
      "Epoch 10, Loss: 0.0880\n",
      "Epoch 11, Loss: 0.0827\n",
      "Epoch 12, Loss: 0.0776\n",
      "Epoch 13, Loss: 0.0831\n",
      "Epoch 14, Loss: 0.0728\n",
      "Epoch 15, Loss: 0.0066\n",
      "Epoch 16, Loss: 0.0033\n",
      "Epoch 17, Loss: 0.0021\n",
      "Epoch 18, Loss: 0.0017\n",
      "Epoch 19, Loss: 0.0016\n",
      "Epoch 20, Loss: 0.0011\n",
      "Epoch 21, Loss: 0.0011\n",
      "Epoch 22, Loss: 0.0011\n",
      "Epoch 23, Loss: 0.0009\n",
      "Epoch 24, Loss: 0.0009\n",
      "Epoch 25, Loss: 0.0009\n",
      "Epoch 26, Loss: 0.0008\n",
      "Epoch 27, Loss: 0.0007\n",
      "Epoch 28, Loss: 0.0007\n",
      "Epoch 29, Loss: 0.0007\n",
      "Epoch 30, Loss: 0.0006\n",
      "Epoch 31, Loss: 0.0006\n",
      "Epoch 32, Loss: 0.0006\n",
      "Epoch 33, Loss: 0.0006\n",
      "Epoch 34, Loss: 0.0005\n",
      "Epoch 35, Loss: 0.0006\n",
      "Epoch 36, Loss: 0.0006\n",
      "Epoch 37, Loss: 0.0005\n",
      "Epoch 38, Loss: 0.0004\n",
      "Epoch 39, Loss: 0.0004\n",
      "Epoch 40, Loss: 0.0005\n",
      "Epoch 41, Loss: 0.0004\n",
      "Epoch 42, Loss: 0.0004\n",
      "Epoch 43, Loss: 0.0004\n",
      "Epoch 44, Loss: 0.0004\n",
      "Epoch 45, Loss: 0.0004\n",
      "Epoch 46, Loss: 0.0004\n",
      "Epoch 47, Loss: 0.0004\n",
      "Epoch 48, Loss: 0.0004\n",
      "Epoch 49, Loss: 0.0003\n",
      "Epoch 50, Loss: 0.0004\n",
      "Epoch 1, Loss: 0.0838\n",
      "Epoch 2, Loss: 0.0786\n",
      "Epoch 3, Loss: 0.0781\n",
      "Epoch 4, Loss: 0.0851\n",
      "Epoch 5, Loss: 0.0864\n",
      "Epoch 6, Loss: 0.0858\n",
      "Epoch 7, Loss: 0.0850\n",
      "Epoch 8, Loss: 0.0822\n",
      "Epoch 9, Loss: 0.0875\n",
      "Epoch 10, Loss: 0.0836\n",
      "Epoch 11, Loss: 0.0853\n",
      "Epoch 12, Loss: 0.0838\n",
      "Epoch 13, Loss: 0.0822\n",
      "Epoch 14, Loss: 0.0756\n",
      "Epoch 15, Loss: 0.0490\n",
      "Epoch 16, Loss: 0.0377\n",
      "Epoch 17, Loss: 0.0200\n",
      "Epoch 18, Loss: 0.0031\n",
      "Epoch 19, Loss: 0.0021\n",
      "Epoch 20, Loss: 0.0014\n",
      "Epoch 21, Loss: 0.0013\n",
      "Epoch 22, Loss: 0.0011\n",
      "Epoch 23, Loss: 0.0010\n",
      "Epoch 24, Loss: 0.0009\n",
      "Epoch 25, Loss: 0.0008\n",
      "Epoch 26, Loss: 0.0008\n",
      "Epoch 27, Loss: 0.0007\n",
      "Epoch 28, Loss: 0.0007\n",
      "Epoch 29, Loss: 0.0006\n",
      "Epoch 30, Loss: 0.0006\n",
      "Epoch 31, Loss: 0.0006\n",
      "Epoch 32, Loss: 0.0005\n",
      "Epoch 33, Loss: 0.0005\n",
      "Epoch 34, Loss: 0.0006\n",
      "Epoch 35, Loss: 0.0005\n",
      "Epoch 36, Loss: 0.0005\n",
      "Epoch 37, Loss: 0.0005\n",
      "Epoch 38, Loss: 0.0005\n",
      "Epoch 39, Loss: 0.0004\n",
      "Epoch 40, Loss: 0.0004\n",
      "Epoch 41, Loss: 0.0004\n",
      "Epoch 42, Loss: 0.0004\n",
      "Epoch 43, Loss: 0.0003\n",
      "Epoch 44, Loss: 0.0004\n",
      "Epoch 45, Loss: 0.0004\n",
      "Epoch 46, Loss: 0.0004\n",
      "Epoch 47, Loss: 0.0004\n",
      "Epoch 48, Loss: 0.0004\n",
      "Epoch 49, Loss: 0.0003\n",
      "Epoch 50, Loss: 0.0004\n",
      "Epoch 1, Loss: 0.0399\n",
      "Epoch 2, Loss: 0.0420\n",
      "Epoch 3, Loss: 0.0632\n",
      "Epoch 4, Loss: 0.0441\n",
      "Epoch 5, Loss: 0.0489\n",
      "Epoch 6, Loss: 0.0568\n",
      "Epoch 7, Loss: 0.0506\n",
      "Epoch 8, Loss: 0.0372\n",
      "Epoch 9, Loss: 0.0473\n",
      "Epoch 10, Loss: 0.0635\n",
      "Epoch 11, Loss: 0.0517\n",
      "Epoch 12, Loss: 0.0527\n",
      "Epoch 13, Loss: 0.0429\n",
      "Epoch 14, Loss: 0.0545\n",
      "Epoch 15, Loss: 0.0399\n",
      "Epoch 16, Loss: 0.0219\n",
      "Epoch 17, Loss: 0.0193\n",
      "Epoch 18, Loss: 0.0247\n",
      "Epoch 19, Loss: 0.0098\n",
      "Epoch 20, Loss: 0.0212\n",
      "Epoch 21, Loss: 0.0201\n",
      "Epoch 22, Loss: 0.0216\n",
      "Epoch 23, Loss: 0.0152\n",
      "Epoch 24, Loss: 0.0181\n",
      "Epoch 25, Loss: 0.0138\n",
      "Epoch 26, Loss: 0.0063\n",
      "Epoch 27, Loss: 0.0070\n",
      "Epoch 28, Loss: 0.0093\n",
      "Epoch 29, Loss: 0.0084\n",
      "Epoch 30, Loss: 0.0024\n",
      "Epoch 31, Loss: 0.0064\n",
      "Epoch 32, Loss: 0.0033\n",
      "Epoch 33, Loss: 0.0046\n",
      "Epoch 34, Loss: 0.0038\n",
      "Epoch 35, Loss: 0.0013\n",
      "Epoch 36, Loss: 0.0025\n",
      "Epoch 37, Loss: 0.0025\n",
      "Epoch 38, Loss: 0.0000\n",
      "Epoch 39, Loss: 0.0048\n",
      "Epoch 40, Loss: 0.0001\n",
      "Epoch 41, Loss: 0.0036\n",
      "Epoch 42, Loss: 0.0025\n",
      "Epoch 43, Loss: 0.0024\n",
      "Epoch 44, Loss: 0.0012\n",
      "Epoch 45, Loss: 0.0019\n",
      "Epoch 46, Loss: 0.0000\n",
      "Epoch 47, Loss: 0.0004\n",
      "Epoch 48, Loss: 0.0001\n",
      "Epoch 49, Loss: 0.0002\n",
      "Epoch 50, Loss: 0.0007\n",
      "Epoch 1, Loss: 0.0117\n",
      "Epoch 2, Loss: 0.0064\n",
      "Epoch 3, Loss: 0.0037\n",
      "Epoch 4, Loss: 0.0028\n",
      "Epoch 5, Loss: 0.0031\n",
      "Epoch 6, Loss: 0.0022\n",
      "Epoch 7, Loss: 0.0018\n",
      "Epoch 8, Loss: 0.0018\n",
      "Epoch 9, Loss: 0.0017\n",
      "Epoch 10, Loss: 0.0014\n",
      "Epoch 11, Loss: 0.0013\n",
      "Epoch 12, Loss: 0.0013\n",
      "Epoch 13, Loss: 0.0012\n",
      "Epoch 14, Loss: 0.0012\n",
      "Epoch 15, Loss: 0.0011\n",
      "Epoch 16, Loss: 0.0010\n",
      "Epoch 17, Loss: 0.0011\n",
      "Epoch 18, Loss: 0.0009\n",
      "Epoch 19, Loss: 0.0009\n",
      "Epoch 20, Loss: 0.0008\n",
      "Epoch 21, Loss: 0.0008\n",
      "Epoch 22, Loss: 0.0007\n",
      "Epoch 23, Loss: 0.0008\n",
      "Epoch 24, Loss: 0.0007\n",
      "Epoch 25, Loss: 0.0007\n",
      "Epoch 26, Loss: 0.0005\n",
      "Epoch 27, Loss: 0.0006\n",
      "Epoch 28, Loss: 0.0006\n",
      "Epoch 29, Loss: 0.0006\n",
      "Epoch 30, Loss: 0.0006\n",
      "Epoch 31, Loss: 0.0005\n",
      "Epoch 32, Loss: 0.0005\n",
      "Epoch 33, Loss: 0.0005\n",
      "Epoch 34, Loss: 0.0005\n",
      "Epoch 35, Loss: 0.0005\n",
      "Epoch 36, Loss: 0.0005\n",
      "Epoch 37, Loss: 0.0004\n",
      "Epoch 38, Loss: 0.0004\n",
      "Epoch 39, Loss: 0.0004\n",
      "Epoch 40, Loss: 0.0004\n",
      "Epoch 41, Loss: 0.0004\n",
      "Epoch 42, Loss: 0.0004\n",
      "Epoch 43, Loss: 0.0004\n",
      "Epoch 44, Loss: 0.0004\n",
      "Epoch 45, Loss: 0.0004\n",
      "Epoch 46, Loss: 0.0004\n",
      "Epoch 47, Loss: 0.0003\n",
      "Epoch 48, Loss: 0.0003\n",
      "Epoch 49, Loss: 0.0003\n",
      "Epoch 50, Loss: 0.0003\n"
     ]
    }
   ],
   "execution_count": 7
  },
  {
   "metadata": {},
   "cell_type": "markdown",
   "source": "Test models on symmetrical demonstration grid",
   "id": "7dc7d042a6bf9c08"
  },
  {
   "metadata": {
    "ExecuteTime": {
     "end_time": "2024-12-30T02:24:36.567280Z",
     "start_time": "2024-12-30T02:24:35.859168Z"
    }
   },
   "cell_type": "code",
   "source": [
    "demo_grid_factory = GridFactory(NUM_ROWS, NUM_COLS)\n",
    "demo_grid = demo_grid_factory.generate_random_symmetrical().unsqueeze(0)\n",
    "\n",
    "grid_autoencoder_trainer_non_symmetrical.demonstrate(demo_example=demo_grid)\n",
    "grid_autoencoder_trainer_symmetrical.demonstrate(demo_example=demo_grid)\n",
    "grid_autoencoder_trainer_symmetrical_lines.demonstrate(demo_example=demo_grid)"
   ],
   "id": "8a7740f80c6d9d78",
   "outputs": [
    {
     "name": "stdout",
     "output_type": "stream",
     "text": [
      "Original Grid:\n"
     ]
    },
    {
     "data": {
      "text/plain": [
       "<Figure size 300x300 with 1 Axes>"
      ],
      "image/png": "[encoded data removed]"
     },
     "metadata": {},
     "output_type": "display_data"
    },
    {
     "name": "stdout",
     "output_type": "stream",
     "text": [
      "\n",
      "Reconstructed Grid:\n"
     ]
    },
    {
     "data": {
      "text/plain": [
       "<Figure size 300x300 with 1 Axes>"
      ],
      "image/png": "[encoded data removed]"
     },
     "metadata": {},
     "output_type": "display_data"
    },
    {
     "name": "stdout",
     "output_type": "stream",
     "text": [
      "Original Grid:\n"
     ]
    },
    {
     "data": {
      "text/plain": [
       "<Figure size 300x300 with 1 Axes>"
      ],
      "image/png": "[encoded data removed]"
     },
     "metadata": {},
     "output_type": "display_data"
    },
    {
     "name": "stdout",
     "output_type": "stream",
     "text": [
      "\n",
      "Reconstructed Grid:\n"
     ]
    },
    {
     "data": {
      "text/plain": [
       "<Figure size 300x300 with 1 Axes>"
      ],
      "image/png": "[encoded data removed]"
     },
     "metadata": {},
     "output_type": "display_data"
    },
    {
     "name": "stdout",
     "output_type": "stream",
     "text": [
      "Original Grid:\n"
     ]
    },
    {
     "data": {
      "text/plain": [
       "<Figure size 300x300 with 1 Axes>"
      ],
      "image/png": "[encoded data removed]"
     },
     "metadata": {},
     "output_type": "display_data"
    },
    {
     "name": "stdout",
     "output_type": "stream",
     "text": [
      "\n",
      "Reconstructed Grid:\n"
     ]
    },
    {
     "data": {
      "text/plain": [
       "<Figure size 300x300 with 1 Axes>"
      ],
      "image/png": "[encoded data removed]"
     },
     "metadata": {},
     "output_type": "display_data"
    }
   ],
   "execution_count": 8
  }
 ],
 "metadata": {
  "kernelspec": {
   "display_name": "Python 3",
   "language": "python",
   "name": "python3"
  },
  "language_info": {
   "codemirror_mode": {
    "name": "ipython",
    "version": 2
   },
   "file_extension": ".py",
   "mimetype": "text/x-python",
   "name": "python",
   "nbconvert_exporter": "python",
   "pygments_lexer": "ipython2",
   "version": "2.7.6"
  }
 },
 "nbformat": 4,
 "nbformat_minor": 5
}
