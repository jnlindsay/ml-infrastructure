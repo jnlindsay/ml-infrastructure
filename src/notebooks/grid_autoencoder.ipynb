{
 "cells": [
  {
   "metadata": {},
   "cell_type": "markdown",
   "source": "# Grid autoencoder",
   "id": "4dee6b962d2c474d"
  },
  {
   "metadata": {},
   "cell_type": "markdown",
   "source": "Imports and constants",
   "id": "e5785f297d49ecf0"
  },
  {
   "cell_type": "code",
   "id": "initial_id",
   "metadata": {
    "collapsed": true,
    "ExecuteTime": {
     "end_time": "2024-12-31T08:44:29.944472Z",
     "start_time": "2024-12-31T08:44:28.650936Z"
    }
   },
   "source": [
    "from trainers.grid_autoencoder_trainer import GridAutoencoderTrainer\n",
    "from utilities.grid import GridFactory\n",
    "import torch\n",
    "\n",
    "NUM_ROWS = 10\n",
    "NUM_COLS = 10"
   ],
   "outputs": [],
   "execution_count": 1
  },
  {
   "metadata": {},
   "cell_type": "markdown",
   "source": "## Lines",
   "id": "76333767d7f6b6e"
  },
  {
   "metadata": {
    "ExecuteTime": {
     "end_time": "2024-12-31T08:44:30.059906Z",
     "start_time": "2024-12-31T08:44:29.951533Z"
    }
   },
   "cell_type": "code",
   "source": [
    "grid_autoencoder_trainer = GridAutoencoderTrainer(10, 10)\n",
    "\n",
    "training_phases = [\n",
    "    GridAutoencoderTrainer.TrainingPhase(\"random_lines\", 1000, 30)\n",
    "]\n",
    "\n",
    "grid_autoencoder_trainer.train(training_phases, force_retrain=False)\n",
    "\n",
    "demo_grid_factory = GridFactory(NUM_ROWS, NUM_COLS)\n",
    "demo_grid = demo_grid_factory.generate_random_line().unsqueeze(0)\n",
    "grid_autoencoder_trainer.demonstrate(demo_example=demo_grid)"
   ],
   "id": "54aeb2953c89dd58",
   "outputs": [
    {
     "name": "stdout",
     "output_type": "stream",
     "text": [
      "Using device: cpu\n",
      "Loading model from file '/Users/jeremylindsay/Documents/Programming/ml-infrastructure/src/trainers/saved_models/grid_autoencoder_29c0e33bc6187dafb7d353e9d39d13d0251bd8ef9f4c62cbe84244735bdbc69c.pth'...\n",
      "Original Grid:\n"
     ]
    },
    {
     "data": {
      "text/plain": [
       "<Figure size 300x300 with 1 Axes>"
      ],
      "image/png": "[encoded data removed]"
     },
     "metadata": {},
     "output_type": "display_data"
    },
    {
     "name": "stdout",
     "output_type": "stream",
     "text": [
      "\n",
      "Reconstructed Grid:\n"
     ]
    },
    {
     "data": {
      "text/plain": [
       "<Figure size 300x300 with 1 Axes>"
      ],
      "image/png": "[encoded data removed]"
     },
     "metadata": {},
     "output_type": "display_data"
    }
   ],
   "execution_count": 2
  },
  {
   "metadata": {},
   "cell_type": "markdown",
   "source": [
    "### Lines ranker\n",
    "\n"
   ],
   "id": "58e941012c13014"
  },
  {
   "metadata": {
    "ExecuteTime": {
     "end_time": "2024-12-31T08:44:30.327556Z",
     "start_time": "2024-12-31T08:44:30.192251Z"
    }
   },
   "cell_type": "code",
   "source": [
    "grids = [\n",
    "    [\n",
    "        [0, 0, 0, 0, 0, 0, 0, 0, 0, 0],\n",
    "        [0, 0, 0, 0, 0, 0, 0, 0, 0, 0],\n",
    "        [0, 0, 0, 0, 0, 0, 0, 0, 0, 0],\n",
    "        [0, 0, 0, 0, 0, 0, 0, 0, 0, 0],\n",
    "        [1, 1, 1, 1, 1, 1, 1, 1, 1, 1],\n",
    "        [0, 0, 0, 0, 0, 0, 0, 0, 0, 0],\n",
    "        [0, 0, 0, 0, 0, 0, 0, 0, 0, 0],\n",
    "        [0, 0, 0, 0, 0, 0, 0, 0, 0, 0],\n",
    "        [0, 0, 0, 0, 0, 0, 0, 0, 0, 0],\n",
    "        [0, 0, 0, 0, 0, 0, 0, 0, 0, 0]\n",
    "    ],\n",
    "    [\n",
    "        [0, 0, 0, 0, 0, 0, 0, 0, 0, 0],\n",
    "        [0, 0, 1, 0, 0, 0, 0, 0, 0, 0],\n",
    "        [0, 0, 0, 1, 0, 0, 0, 0, 0, 0],\n",
    "        [0, 0, 0, 0, 1, 0, 0, 0, 0, 0],\n",
    "        [0, 0, 0, 0, 0, 1, 0, 0, 0, 0],\n",
    "        [0, 0, 0, 0, 0, 0, 1, 0, 0, 0],\n",
    "        [0, 0, 0, 0, 0, 0, 0, 1, 0, 0],\n",
    "        [0, 0, 0, 0, 0, 0, 1, 1, 1, 0],\n",
    "        [0, 0, 0, 0, 0, 0, 0, 0, 0, 1],\n",
    "        [0, 0, 0, 0, 0, 0, 0, 0, 0, 0]\n",
    "    ],\n",
    "    [\n",
    "        [0, 1, 0, 1, 0, 0, 0, 0, 0, 0],\n",
    "        [0, 0, 0, 0, 0, 0, 0, 0, 1, 0],\n",
    "        [0, 0, 0, 1, 0, 0, 0, 0, 0, 0],\n",
    "        [0, 0, 0, 0, 0, 0, 0, 0, 0, 0],\n",
    "        [0, 0, 0, 0, 0, 0, 0, 1, 0, 0],\n",
    "        [0, 1, 0, 0, 0, 0, 0, 0, 0, 0],\n",
    "        [0, 0, 0, 0, 0, 0, 0, 1, 0, 0],\n",
    "        [0, 0, 0, 1, 0, 0, 0, 0, 0, 0],\n",
    "        [0, 0, 0, 0, 0, 0, 0, 0, 0, 0],\n",
    "        [1, 0, 0, 0, 1, 0, 0, 0, 0, 0]\n",
    "    ]\n",
    "]\n",
    "\n",
    "for grid in grids:\n",
    "    grid_autoencoder_trainer.demonstrate(\n",
    "        demo_example=torch.tensor(grid).to(torch.float).unsqueeze(0),\n",
    "        show_loss=True\n",
    "    )"
   ],
   "id": "b97c3e791c27ff0d",
   "outputs": [
    {
     "name": "stdout",
     "output_type": "stream",
     "text": [
      "Original Grid:\n"
     ]
    },
    {
     "data": {
      "text/plain": [
       "<Figure size 300x300 with 1 Axes>"
      ],
      "image/png": "[encoded data removed]"
     },
     "metadata": {},
     "output_type": "display_data"
    },
    {
     "name": "stdout",
     "output_type": "stream",
     "text": [
      "\n",
      "Reconstructed Grid:\n"
     ]
    },
    {
     "data": {
      "text/plain": [
       "<Figure size 300x300 with 1 Axes>"
      ],
      "image/png": "[encoded data removed]"
     },
     "metadata": {},
     "output_type": "display_data"
    },
    {
     "name": "stdout",
     "output_type": "stream",
     "text": [
      "Loss: 0.0000\n",
      "\n",
      "Original Grid:\n"
     ]
    },
    {
     "data": {
      "text/plain": [
       "<Figure size 300x300 with 1 Axes>"
      ],
      "image/png": "[encoded data removed]"
     },
     "metadata": {},
     "output_type": "display_data"
    },
    {
     "name": "stdout",
     "output_type": "stream",
     "text": [
      "\n",
      "Reconstructed Grid:\n"
     ]
    },
    {
     "data": {
      "text/plain": [
       "<Figure size 300x300 with 1 Axes>"
      ],
      "image/png": "[encoded data removed]"
     },
     "metadata": {},
     "output_type": "display_data"
    },
    {
     "name": "stdout",
     "output_type": "stream",
     "text": [
      "Loss: 0.0001\n",
      "\n",
      "Original Grid:\n"
     ]
    },
    {
     "data": {
      "text/plain": [
       "<Figure size 300x300 with 1 Axes>"
      ],
      "image/png": "[encoded data removed]"
     },
     "metadata": {},
     "output_type": "display_data"
    },
    {
     "name": "stdout",
     "output_type": "stream",
     "text": [
      "\n",
      "Reconstructed Grid:\n"
     ]
    },
    {
     "data": {
      "text/plain": [
       "<Figure size 300x300 with 1 Axes>"
      ],
      "image/png": "[encoded data removed]"
     },
     "metadata": {},
     "output_type": "display_data"
    },
    {
     "name": "stdout",
     "output_type": "stream",
     "text": [
      "Loss: 0.0231\n",
      "\n"
     ]
    }
   ],
   "execution_count": 3
  },
  {
   "metadata": {},
   "cell_type": "markdown",
   "source": "## Experiment: Non-symmetrical vs. symmetrical random grids",
   "id": "4e4fb0d95d8759a2"
  },
  {
   "metadata": {},
   "cell_type": "markdown",
   "source": "Set up trainers and training phases",
   "id": "73aa25d764241fe3"
  },
  {
   "metadata": {
    "ExecuteTime": {
     "end_time": "2024-12-31T08:44:30.410004Z",
     "start_time": "2024-12-31T08:44:30.334462Z"
    }
   },
   "cell_type": "code",
   "source": [
    "grid_autoencoder_trainer_symmetrical = GridAutoencoderTrainer(NUM_ROWS, NUM_COLS)\n",
    "\n",
    "training_phases_symmetrical = [\n",
    "    GridAutoencoderTrainer.TrainingPhase(\"random_symmetrical\", 1000, 50)\n",
    "]\n",
    "\n",
    "grid_autoencoder_trainer_symmetrical.train(training_phases_symmetrical, force_retrain=False)\n",
    "\n",
    "demo_grid_factory = GridFactory(NUM_ROWS, NUM_COLS)\n",
    "demo_grid = demo_grid_factory.generate_random_symmetrical().unsqueeze(0)\n",
    "\n",
    "grid_autoencoder_trainer_symmetrical.demonstrate(demo_example=demo_grid)"
   ],
   "id": "a66da916c93f6964",
   "outputs": [
    {
     "name": "stdout",
     "output_type": "stream",
     "text": [
      "Using device: cpu\n",
      "Loading model from file '/Users/jeremylindsay/Documents/Programming/ml-infrastructure/src/trainers/saved_models/grid_autoencoder_54c79279580849e35c96a48cf111e3d0f30240383c101e58fdffe5ad52cec235.pth'...\n",
      "Original Grid:\n"
     ]
    },
    {
     "data": {
      "text/plain": [
       "<Figure size 300x300 with 1 Axes>"
      ],
      "image/png": "[encoded data removed]"
     },
     "metadata": {},
     "output_type": "display_data"
    },
    {
     "name": "stdout",
     "output_type": "stream",
     "text": [
      "\n",
      "Reconstructed Grid:\n"
     ]
    },
    {
     "data": {
      "text/plain": [
       "<Figure size 300x300 with 1 Axes>"
      ],
      "image/png": "[encoded data removed]"
     },
     "metadata": {},
     "output_type": "display_data"
    }
   ],
   "execution_count": 4
  }
 ],
 "metadata": {
  "kernelspec": {
   "display_name": "Python 3",
   "language": "python",
   "name": "python3"
  },
  "language_info": {
   "codemirror_mode": {
    "name": "ipython",
    "version": 2
   },
   "file_extension": ".py",
   "mimetype": "text/x-python",
   "name": "python",
   "nbconvert_exporter": "python",
   "pygments_lexer": "ipython2",
   "version": "2.7.6"
  }
 },
 "nbformat": 4,
 "nbformat_minor": 5
}
