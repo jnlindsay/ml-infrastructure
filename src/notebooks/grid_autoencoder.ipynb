{
 "cells": [
  {
   "metadata": {},
   "cell_type": "markdown",
   "source": "# Grid autoencoder",
   "id": "4dee6b962d2c474d"
  },
  {
   "metadata": {},
   "cell_type": "markdown",
   "source": "Imports and constants",
   "id": "e5785f297d49ecf0"
  },
  {
   "cell_type": "code",
   "id": "initial_id",
   "metadata": {
    "collapsed": true,
    "ExecuteTime": {
     "end_time": "2024-12-30T04:29:02.805521Z",
     "start_time": "2024-12-30T04:29:01.755939Z"
    }
   },
   "source": [
    "from trainers.grid_autoencoder_trainer import GridAutoencoderTrainer\n",
    "from utilities.grid import GridFactory\n",
    "from utilities.visualiser import Visualiser\n",
    "\n",
    "NUM_ROWS = 10\n",
    "NUM_COLS = 10"
   ],
   "outputs": [],
   "execution_count": 1
  },
  {
   "metadata": {},
   "cell_type": "markdown",
   "source": "## Lines",
   "id": "76333767d7f6b6e"
  },
  {
   "metadata": {
    "ExecuteTime": {
     "end_time": "2024-12-30T04:30:14.525446Z",
     "start_time": "2024-12-30T04:29:02.808485Z"
    }
   },
   "cell_type": "code",
   "source": [
    "grid_autoencoder_trainer = GridAutoencoderTrainer(10, 10)\n",
    "\n",
    "training_phases = [\n",
    "    GridAutoencoderTrainer.TrainingPhase(\"random_lines\", 1000, 10)\n",
    "]\n",
    "\n",
    "demo_grid_factory = GridFactory(NUM_ROWS, NUM_COLS)\n",
    "demo_grid = demo_grid_factory.generate_random_line().unsqueeze(0)\n",
    "\n",
    "\n",
    "for run in range(5):\n",
    "    print(\"Run\", run + 1)\n",
    "    grid_autoencoder_trainer.train(training_phases, force_retrain=True)\n",
    "    grid_autoencoder_trainer.demonstrate(demo_example=demo_grid)"
   ],
   "id": "54aeb2953c89dd58",
   "outputs": [
    {
     "name": "stdout",
     "output_type": "stream",
     "text": [
      "Using device: cpu\n",
      "Run 1\n",
      "Epoch 1, Loss: 0.0532\n",
      "Epoch 2, Loss: 0.0688\n",
      "Epoch 3, Loss: 0.0607\n",
      "Epoch 4, Loss: 0.0509\n",
      "Epoch 5, Loss: 0.0576\n",
      "Epoch 6, Loss: 0.0519\n",
      "Epoch 7, Loss: 0.0532\n",
      "Epoch 8, Loss: 0.0608\n",
      "Epoch 9, Loss: 0.0477\n",
      "Epoch 10, Loss: 0.0471\n",
      "Original Grid:\n"
     ]
    },
    {
     "data": {
      "text/plain": [
       "<Figure size 300x300 with 1 Axes>"
      ],
      "image/png": "[encoded data removed]"
     },
     "metadata": {},
     "output_type": "display_data"
    },
    {
     "name": "stdout",
     "output_type": "stream",
     "text": [
      "\n",
      "Reconstructed Grid:\n"
     ]
    },
    {
     "data": {
      "text/plain": [
       "<Figure size 300x300 with 1 Axes>"
      ],
      "image/png": "[encoded data removed]"
     },
     "metadata": {},
     "output_type": "display_data"
    },
    {
     "name": "stdout",
     "output_type": "stream",
     "text": [
      "Run 2\n",
      "Epoch 1, Loss: 0.0473\n",
      "Epoch 2, Loss: 0.0476\n",
      "Epoch 3, Loss: 0.0477\n",
      "Epoch 4, Loss: 0.0486\n",
      "Epoch 5, Loss: 0.0436\n",
      "Epoch 6, Loss: 0.0507\n",
      "Epoch 7, Loss: 0.0546\n",
      "Epoch 8, Loss: 0.0532\n",
      "Epoch 9, Loss: 0.0605\n",
      "Epoch 10, Loss: 0.0501\n",
      "Original Grid:\n"
     ]
    },
    {
     "data": {
      "text/plain": [
       "<Figure size 300x300 with 1 Axes>"
      ],
      "image/png": "[encoded data removed]"
     },
     "metadata": {},
     "output_type": "display_data"
    },
    {
     "name": "stdout",
     "output_type": "stream",
     "text": [
      "\n",
      "Reconstructed Grid:\n"
     ]
    },
    {
     "data": {
      "text/plain": [
       "<Figure size 300x300 with 1 Axes>"
      ],
      "image/png": "[encoded data removed]"
     },
     "metadata": {},
     "output_type": "display_data"
    },
    {
     "name": "stdout",
     "output_type": "stream",
     "text": [
      "Run 3\n",
      "Epoch 1, Loss: 0.0354\n",
      "Epoch 2, Loss: 0.0567\n",
      "Epoch 3, Loss: 0.0373\n",
      "Epoch 4, Loss: 0.0438\n",
      "Epoch 5, Loss: 0.0466\n",
      "Epoch 6, Loss: 0.0366\n",
      "Epoch 7, Loss: 0.0195\n",
      "Epoch 8, Loss: 0.0438\n",
      "Epoch 9, Loss: 0.0192\n",
      "Epoch 10, Loss: 0.0089\n",
      "Original Grid:\n"
     ]
    },
    {
     "data": {
      "text/plain": [
       "<Figure size 300x300 with 1 Axes>"
      ],
      "image/png": "[encoded data removed]"
     },
     "metadata": {},
     "output_type": "display_data"
    },
    {
     "name": "stdout",
     "output_type": "stream",
     "text": [
      "\n",
      "Reconstructed Grid:\n"
     ]
    },
    {
     "data": {
      "text/plain": [
       "<Figure size 300x300 with 1 Axes>"
      ],
      "image/png": "[encoded data removed]"
     },
     "metadata": {},
     "output_type": "display_data"
    },
    {
     "name": "stdout",
     "output_type": "stream",
     "text": [
      "Run 4\n",
      "Epoch 1, Loss: 0.0225\n",
      "Epoch 2, Loss: 0.0210\n",
      "Epoch 3, Loss: 0.0052\n",
      "Epoch 4, Loss: 0.0053\n",
      "Epoch 5, Loss: 0.0107\n",
      "Epoch 6, Loss: 0.0134\n",
      "Epoch 7, Loss: 0.0081\n",
      "Epoch 8, Loss: 0.0116\n",
      "Epoch 9, Loss: 0.0048\n",
      "Epoch 10, Loss: 0.0063\n",
      "Original Grid:\n"
     ]
    },
    {
     "data": {
      "text/plain": [
       "<Figure size 300x300 with 1 Axes>"
      ],
      "image/png": "[encoded data removed]"
     },
     "metadata": {},
     "output_type": "display_data"
    },
    {
     "name": "stdout",
     "output_type": "stream",
     "text": [
      "\n",
      "Reconstructed Grid:\n"
     ]
    },
    {
     "data": {
      "text/plain": [
       "<Figure size 300x300 with 1 Axes>"
      ],
      "image/png": "[encoded data removed]"
     },
     "metadata": {},
     "output_type": "display_data"
    },
    {
     "name": "stdout",
     "output_type": "stream",
     "text": [
      "Run 5\n",
      "Epoch 1, Loss: 0.0175\n",
      "Epoch 2, Loss: 0.0110\n",
      "Epoch 3, Loss: 0.0084\n",
      "Epoch 4, Loss: 0.0099\n",
      "Epoch 5, Loss: 0.0084\n",
      "Epoch 6, Loss: 0.0072\n",
      "Epoch 7, Loss: 0.0027\n",
      "Epoch 8, Loss: 0.0133\n",
      "Epoch 9, Loss: 0.0140\n",
      "Epoch 10, Loss: 0.0104\n",
      "Original Grid:\n"
     ]
    },
    {
     "data": {
      "text/plain": [
       "<Figure size 300x300 with 1 Axes>"
      ],
      "image/png": "[encoded data removed]"
     },
     "metadata": {},
     "output_type": "display_data"
    },
    {
     "name": "stdout",
     "output_type": "stream",
     "text": [
      "\n",
      "Reconstructed Grid:\n"
     ]
    },
    {
     "data": {
      "text/plain": [
       "<Figure size 300x300 with 1 Axes>"
      ],
      "image/png": "[encoded data removed]"
     },
     "metadata": {},
     "output_type": "display_data"
    }
   ],
   "execution_count": 2
  },
  {
   "metadata": {},
   "cell_type": "markdown",
   "source": "## Experiment: Non-symmetrical vs. symmetrical random grids",
   "id": "4e4fb0d95d8759a2"
  },
  {
   "metadata": {},
   "cell_type": "markdown",
   "source": "Set up trainers and training phases",
   "id": "73aa25d764241fe3"
  },
  {
   "metadata": {
    "ExecuteTime": {
     "end_time": "2024-12-30T04:32:09.507217Z",
     "start_time": "2024-12-30T04:30:14.674445Z"
    }
   },
   "cell_type": "code",
   "source": [
    "grid_autoencoder_trainer_symmetrical = GridAutoencoderTrainer(NUM_ROWS, NUM_COLS)\n",
    "\n",
    "training_phases_symmetrical = [\n",
    "    GridAutoencoderTrainer.TrainingPhase(\"random_symmetrical\", 1000, 50)\n",
    "]\n",
    "\n",
    "grid_autoencoder_trainer_symmetrical.train(training_phases_symmetrical, force_retrain=True)\n",
    "\n",
    "demo_grid_factory = GridFactory(NUM_ROWS, NUM_COLS)\n",
    "demo_grid = demo_grid_factory.generate_random_symmetrical().unsqueeze(0)\n",
    "\n",
    "grid_autoencoder_trainer_symmetrical.demonstrate(demo_example=demo_grid)"
   ],
   "id": "a66da916c93f6964",
   "outputs": [
    {
     "name": "stdout",
     "output_type": "stream",
     "text": [
      "Using device: cpu\n",
      "Epoch 1, Loss: 0.0820\n",
      "Epoch 2, Loss: 0.0832\n",
      "Epoch 3, Loss: 0.0802\n",
      "Epoch 4, Loss: 0.0875\n",
      "Epoch 5, Loss: 0.0889\n",
      "Epoch 6, Loss: 0.0861\n",
      "Epoch 7, Loss: 0.0807\n",
      "Epoch 8, Loss: 0.0784\n",
      "Epoch 9, Loss: 0.0849\n",
      "Epoch 10, Loss: 0.0821\n",
      "Epoch 11, Loss: 0.0768\n",
      "Epoch 12, Loss: 0.0546\n",
      "Epoch 13, Loss: 0.0373\n",
      "Epoch 14, Loss: 0.0425\n",
      "Epoch 15, Loss: 0.0249\n",
      "Epoch 16, Loss: 0.0037\n",
      "Epoch 17, Loss: 0.0027\n",
      "Epoch 18, Loss: 0.0018\n",
      "Epoch 19, Loss: 0.0014\n",
      "Epoch 20, Loss: 0.0012\n",
      "Epoch 21, Loss: 0.0011\n",
      "Epoch 22, Loss: 0.0009\n",
      "Epoch 23, Loss: 0.0008\n",
      "Epoch 24, Loss: 0.0008\n",
      "Epoch 25, Loss: 0.0007\n",
      "Epoch 26, Loss: 0.0008\n",
      "Epoch 27, Loss: 0.0006\n",
      "Epoch 28, Loss: 0.0006\n",
      "Epoch 29, Loss: 0.0005\n",
      "Epoch 30, Loss: 0.0006\n",
      "Epoch 31, Loss: 0.0006\n",
      "Epoch 32, Loss: 0.0005\n",
      "Epoch 33, Loss: 0.0005\n",
      "Epoch 34, Loss: 0.0005\n",
      "Epoch 35, Loss: 0.0005\n",
      "Epoch 36, Loss: 0.0005\n",
      "Epoch 37, Loss: 0.0005\n",
      "Epoch 38, Loss: 0.0004\n",
      "Epoch 39, Loss: 0.0004\n",
      "Epoch 40, Loss: 0.0005\n",
      "Epoch 41, Loss: 0.0005\n",
      "Epoch 42, Loss: 0.0004\n",
      "Epoch 43, Loss: 0.0004\n",
      "Epoch 44, Loss: 0.0004\n",
      "Epoch 45, Loss: 0.0004\n",
      "Epoch 46, Loss: 0.0003\n",
      "Epoch 47, Loss: 0.0004\n",
      "Epoch 48, Loss: 0.0004\n",
      "Epoch 49, Loss: 0.0003\n",
      "Epoch 50, Loss: 0.0003\n",
      "Original Grid:\n"
     ]
    },
    {
     "data": {
      "text/plain": [
       "<Figure size 300x300 with 1 Axes>"
      ],
      "image/png": "[encoded data removed]"
     },
     "metadata": {},
     "output_type": "display_data"
    },
    {
     "name": "stdout",
     "output_type": "stream",
     "text": [
      "\n",
      "Reconstructed Grid:\n"
     ]
    },
    {
     "data": {
      "text/plain": [
       "<Figure size 300x300 with 1 Axes>"
      ],
      "image/png": "[encoded data removed]"
     },
     "metadata": {},
     "output_type": "display_data"
    }
   ],
   "execution_count": 3
  }
 ],
 "metadata": {
  "kernelspec": {
   "display_name": "Python 3",
   "language": "python",
   "name": "python3"
  },
  "language_info": {
   "codemirror_mode": {
    "name": "ipython",
    "version": 2
   },
   "file_extension": ".py",
   "mimetype": "text/x-python",
   "name": "python",
   "nbconvert_exporter": "python",
   "pygments_lexer": "ipython2",
   "version": "2.7.6"
  }
 },
 "nbformat": 4,
 "nbformat_minor": 5
}
