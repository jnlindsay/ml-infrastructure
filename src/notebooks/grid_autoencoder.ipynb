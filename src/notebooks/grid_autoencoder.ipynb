{
 "cells": [
  {
   "metadata": {},
   "cell_type": "markdown",
   "source": "# Grid autoencoder",
   "id": "4dee6b962d2c474d"
  },
  {
   "metadata": {},
   "cell_type": "markdown",
   "source": "Imports and constants",
   "id": "e5785f297d49ecf0"
  },
  {
   "cell_type": "code",
   "id": "initial_id",
   "metadata": {
    "collapsed": true,
    "ExecuteTime": {
     "end_time": "2024-12-22T11:23:43.146732Z",
     "start_time": "2024-12-22T11:23:41.955912Z"
    }
   },
   "source": [
    "from trainers.grid_autoencoder_trainer import GridAutoencoderTrainer\n",
    "from utilities.grid import GridFactory\n",
    "from utilities.visualiser import Visualiser\n",
    "\n",
    "NUM_ROWS = 10\n",
    "NUM_COLS = 10"
   ],
   "outputs": [],
   "execution_count": 1
  },
  {
   "metadata": {},
   "cell_type": "markdown",
   "source": "## Experiment: Non-symmetrical vs. symmetrical random grids",
   "id": "4e4fb0d95d8759a2"
  },
  {
   "metadata": {},
   "cell_type": "markdown",
   "source": "Set up trainers and training phases",
   "id": "73aa25d764241fe3"
  },
  {
   "metadata": {
    "ExecuteTime": {
     "end_time": "2024-12-22T11:23:43.155183Z",
     "start_time": "2024-12-22T11:23:43.151248Z"
    }
   },
   "cell_type": "code",
   "source": [
    "grid_autoencoder_trainer_non_symmetrical = GridAutoencoderTrainer(NUM_ROWS, NUM_COLS)\n",
    "grid_autoencoder_trainer_symmetrical = GridAutoencoderTrainer(NUM_ROWS, NUM_COLS)\n",
    "\n",
    "training_phases_non_symmetrical = [\n",
    "    GridAutoencoderTrainer.TrainingPhase(\"random\", 1000, 100)\n",
    "]\n",
    "\n",
    "training_phases_symmetrical = [\n",
    "    GridAutoencoderTrainer.TrainingPhase(\"random_symmetrical\", 1000, 100)\n",
    "]"
   ],
   "id": "a66da916c93f6964",
   "outputs": [],
   "execution_count": 2
  },
  {
   "metadata": {},
   "cell_type": "markdown",
   "source": "Train models",
   "id": "b4961fbcf2c37ec6"
  },
  {
   "metadata": {
    "ExecuteTime": {
     "end_time": "2024-12-22T11:24:03.863160Z",
     "start_time": "2024-12-22T11:23:43.232Z"
    }
   },
   "cell_type": "code",
   "source": [
    "grid_autoencoder_trainer_non_symmetrical.train(training_phases_non_symmetrical, force_retrain=True)\n",
    "grid_autoencoder_trainer_symmetrical.train(training_phases_symmetrical, force_retrain=True)"
   ],
   "id": "3cdf8d65f53816b3",
   "outputs": [
    {
     "name": "stdout",
     "output_type": "stream",
     "text": [
      "Epoch 1, Loss: 0.0790\n",
      "Epoch 2, Loss: 0.0774\n",
      "Epoch 3, Loss: 0.0670\n",
      "Epoch 4, Loss: 0.0584\n",
      "Epoch 5, Loss: 0.0535\n",
      "Epoch 6, Loss: 0.0572\n",
      "Epoch 7, Loss: 0.0508\n",
      "Epoch 8, Loss: 0.0534\n",
      "Epoch 9, Loss: 0.0483\n",
      "Epoch 10, Loss: 0.0495\n",
      "Epoch 11, Loss: 0.0548\n",
      "Epoch 12, Loss: 0.0506\n",
      "Epoch 13, Loss: 0.0532\n",
      "Epoch 14, Loss: 0.0506\n",
      "Epoch 15, Loss: 0.0491\n",
      "Epoch 16, Loss: 0.0484\n",
      "Epoch 17, Loss: 0.0434\n",
      "Epoch 18, Loss: 0.0502\n",
      "Epoch 19, Loss: 0.0457\n",
      "Epoch 20, Loss: 0.0451\n",
      "Epoch 21, Loss: 0.0459\n",
      "Epoch 22, Loss: 0.0450\n",
      "Epoch 23, Loss: 0.0464\n",
      "Epoch 24, Loss: 0.0437\n",
      "Epoch 25, Loss: 0.0452\n",
      "Epoch 26, Loss: 0.0425\n",
      "Epoch 27, Loss: 0.0409\n",
      "Epoch 28, Loss: 0.0424\n",
      "Epoch 29, Loss: 0.0454\n",
      "Epoch 30, Loss: 0.0444\n",
      "Epoch 31, Loss: 0.0411\n",
      "Epoch 32, Loss: 0.0410\n",
      "Epoch 33, Loss: 0.0407\n",
      "Epoch 34, Loss: 0.0402\n",
      "Epoch 35, Loss: 0.0417\n",
      "Epoch 36, Loss: 0.0396\n",
      "Epoch 37, Loss: 0.0406\n",
      "Epoch 38, Loss: 0.0419\n",
      "Epoch 39, Loss: 0.0445\n",
      "Epoch 40, Loss: 0.0426\n",
      "Epoch 41, Loss: 0.0411\n",
      "Epoch 42, Loss: 0.0399\n",
      "Epoch 43, Loss: 0.0376\n",
      "Epoch 44, Loss: 0.0404\n",
      "Epoch 45, Loss: 0.0389\n",
      "Epoch 46, Loss: 0.0389\n",
      "Epoch 47, Loss: 0.0361\n",
      "Epoch 48, Loss: 0.0324\n",
      "Epoch 49, Loss: 0.0359\n",
      "Epoch 50, Loss: 0.0410\n",
      "Epoch 51, Loss: 0.0382\n",
      "Epoch 52, Loss: 0.0347\n",
      "Epoch 53, Loss: 0.0327\n",
      "Epoch 54, Loss: 0.0330\n",
      "Epoch 55, Loss: 0.0369\n",
      "Epoch 56, Loss: 0.0389\n",
      "Epoch 57, Loss: 0.0360\n",
      "Epoch 58, Loss: 0.0359\n",
      "Epoch 59, Loss: 0.0362\n",
      "Epoch 60, Loss: 0.0319\n",
      "Epoch 61, Loss: 0.0330\n",
      "Epoch 62, Loss: 0.0313\n",
      "Epoch 63, Loss: 0.0359\n",
      "Epoch 64, Loss: 0.0312\n",
      "Epoch 65, Loss: 0.0311\n",
      "Epoch 66, Loss: 0.0377\n",
      "Epoch 67, Loss: 0.0320\n",
      "Epoch 68, Loss: 0.0361\n",
      "Epoch 69, Loss: 0.0327\n",
      "Epoch 70, Loss: 0.0338\n",
      "Epoch 71, Loss: 0.0322\n",
      "Epoch 72, Loss: 0.0309\n",
      "Epoch 73, Loss: 0.0344\n",
      "Epoch 74, Loss: 0.0315\n",
      "Epoch 75, Loss: 0.0353\n",
      "Epoch 76, Loss: 0.0292\n",
      "Epoch 77, Loss: 0.0339\n",
      "Epoch 78, Loss: 0.0303\n",
      "Epoch 79, Loss: 0.0299\n",
      "Epoch 80, Loss: 0.0295\n",
      "Epoch 81, Loss: 0.0305\n",
      "Epoch 82, Loss: 0.0324\n",
      "Epoch 83, Loss: 0.0301\n",
      "Epoch 84, Loss: 0.0294\n",
      "Epoch 85, Loss: 0.0329\n",
      "Epoch 86, Loss: 0.0268\n",
      "Epoch 87, Loss: 0.0259\n",
      "Epoch 88, Loss: 0.0319\n",
      "Epoch 89, Loss: 0.0289\n",
      "Epoch 90, Loss: 0.0314\n",
      "Epoch 91, Loss: 0.0275\n",
      "Epoch 92, Loss: 0.0284\n",
      "Epoch 93, Loss: 0.0281\n",
      "Epoch 94, Loss: 0.0310\n",
      "Epoch 95, Loss: 0.0279\n",
      "Epoch 96, Loss: 0.0245\n",
      "Epoch 97, Loss: 0.0272\n",
      "Epoch 98, Loss: 0.0302\n",
      "Epoch 99, Loss: 0.0263\n",
      "Epoch 100, Loss: 0.0276\n",
      "Epoch 1, Loss: 0.0774\n",
      "Epoch 2, Loss: 0.0547\n",
      "Epoch 3, Loss: 0.0333\n",
      "Epoch 4, Loss: 0.0307\n",
      "Epoch 5, Loss: 0.0290\n",
      "Epoch 6, Loss: 0.0257\n",
      "Epoch 7, Loss: 0.0244\n",
      "Epoch 8, Loss: 0.0271\n",
      "Epoch 9, Loss: 0.0219\n",
      "Epoch 10, Loss: 0.0290\n",
      "Epoch 11, Loss: 0.0268\n",
      "Epoch 12, Loss: 0.0249\n",
      "Epoch 13, Loss: 0.0216\n",
      "Epoch 14, Loss: 0.0218\n",
      "Epoch 15, Loss: 0.0191\n",
      "Epoch 16, Loss: 0.0214\n",
      "Epoch 17, Loss: 0.0220\n",
      "Epoch 18, Loss: 0.0196\n",
      "Epoch 19, Loss: 0.0203\n",
      "Epoch 20, Loss: 0.0237\n",
      "Epoch 21, Loss: 0.0217\n",
      "Epoch 22, Loss: 0.0262\n",
      "Epoch 23, Loss: 0.0235\n",
      "Epoch 24, Loss: 0.0204\n",
      "Epoch 25, Loss: 0.0244\n",
      "Epoch 26, Loss: 0.0229\n",
      "Epoch 27, Loss: 0.0239\n",
      "Epoch 28, Loss: 0.0233\n",
      "Epoch 29, Loss: 0.0227\n",
      "Epoch 30, Loss: 0.0197\n",
      "Epoch 31, Loss: 0.0235\n",
      "Epoch 32, Loss: 0.0212\n",
      "Epoch 33, Loss: 0.0231\n",
      "Epoch 34, Loss: 0.0222\n",
      "Epoch 35, Loss: 0.0196\n",
      "Epoch 36, Loss: 0.0185\n",
      "Epoch 37, Loss: 0.0249\n",
      "Epoch 38, Loss: 0.0231\n",
      "Epoch 39, Loss: 0.0227\n",
      "Epoch 40, Loss: 0.0226\n",
      "Epoch 41, Loss: 0.0189\n",
      "Epoch 42, Loss: 0.0214\n",
      "Epoch 43, Loss: 0.0198\n",
      "Epoch 44, Loss: 0.0201\n",
      "Epoch 45, Loss: 0.0177\n",
      "Epoch 46, Loss: 0.0176\n",
      "Epoch 47, Loss: 0.0156\n",
      "Epoch 48, Loss: 0.0178\n",
      "Epoch 49, Loss: 0.0206\n",
      "Epoch 50, Loss: 0.0209\n",
      "Epoch 51, Loss: 0.0297\n",
      "Epoch 52, Loss: 0.0203\n",
      "Epoch 53, Loss: 0.0181\n",
      "Epoch 54, Loss: 0.0198\n",
      "Epoch 55, Loss: 0.0167\n",
      "Epoch 56, Loss: 0.0236\n",
      "Epoch 57, Loss: 0.0194\n",
      "Epoch 58, Loss: 0.0162\n",
      "Epoch 59, Loss: 0.0179\n",
      "Epoch 60, Loss: 0.0175\n",
      "Epoch 61, Loss: 0.0163\n",
      "Epoch 62, Loss: 0.0200\n",
      "Epoch 63, Loss: 0.0145\n",
      "Epoch 64, Loss: 0.0193\n",
      "Epoch 65, Loss: 0.0193\n",
      "Epoch 66, Loss: 0.0211\n",
      "Epoch 67, Loss: 0.0169\n",
      "Epoch 68, Loss: 0.0182\n",
      "Epoch 69, Loss: 0.0195\n",
      "Epoch 70, Loss: 0.0171\n",
      "Epoch 71, Loss: 0.0198\n",
      "Epoch 72, Loss: 0.0219\n",
      "Epoch 73, Loss: 0.0184\n",
      "Epoch 74, Loss: 0.0153\n",
      "Epoch 75, Loss: 0.0150\n",
      "Epoch 76, Loss: 0.0166\n",
      "Epoch 77, Loss: 0.0172\n",
      "Epoch 78, Loss: 0.0158\n",
      "Epoch 79, Loss: 0.0180\n",
      "Epoch 80, Loss: 0.0187\n",
      "Epoch 81, Loss: 0.0196\n",
      "Epoch 82, Loss: 0.0146\n",
      "Epoch 83, Loss: 0.0149\n",
      "Epoch 84, Loss: 0.0205\n",
      "Epoch 85, Loss: 0.0169\n",
      "Epoch 86, Loss: 0.0150\n",
      "Epoch 87, Loss: 0.0136\n",
      "Epoch 88, Loss: 0.0140\n",
      "Epoch 89, Loss: 0.0143\n",
      "Epoch 90, Loss: 0.0141\n",
      "Epoch 91, Loss: 0.0151\n",
      "Epoch 92, Loss: 0.0174\n",
      "Epoch 93, Loss: 0.0156\n",
      "Epoch 94, Loss: 0.0143\n",
      "Epoch 95, Loss: 0.0174\n",
      "Epoch 96, Loss: 0.0148\n",
      "Epoch 97, Loss: 0.0162\n",
      "Epoch 98, Loss: 0.0175\n",
      "Epoch 99, Loss: 0.0129\n",
      "Epoch 100, Loss: 0.0146\n"
     ]
    }
   ],
   "execution_count": 3
  },
  {
   "metadata": {},
   "cell_type": "markdown",
   "source": "Test models on symmetrical demonstration grid",
   "id": "7dc7d042a6bf9c08"
  },
  {
   "metadata": {
    "ExecuteTime": {
     "end_time": "2024-12-22T11:24:04.164462Z",
     "start_time": "2024-12-22T11:24:03.869992Z"
    }
   },
   "cell_type": "code",
   "source": [
    "demo_grid_factory = GridFactory(NUM_ROWS, NUM_COLS)\n",
    "demo_grid = demo_grid_factory.generate_random_symmetrical().unsqueeze(0)\n",
    "\n",
    "grid_autoencoder_trainer_non_symmetrical.demonstrate(demo_example=demo_grid)\n",
    "grid_autoencoder_trainer_symmetrical.demonstrate(demo_example=demo_grid)"
   ],
   "id": "8a7740f80c6d9d78",
   "outputs": [
    {
     "name": "stdout",
     "output_type": "stream",
     "text": [
      "Original Grid:\n"
     ]
    },
    {
     "data": {
      "text/plain": [
       "<Figure size 640x480 with 1 Axes>"
      ],
      "image/png": "[encoded data removed]"
     },
     "metadata": {},
     "output_type": "display_data"
    },
    {
     "name": "stdout",
     "output_type": "stream",
     "text": [
      "\n",
      "Reconstructed Grid:\n"
     ]
    },
    {
     "data": {
      "text/plain": [
       "<Figure size 640x480 with 1 Axes>"
      ],
      "image/png": "[encoded data removed]"
     },
     "metadata": {},
     "output_type": "display_data"
    },
    {
     "name": "stdout",
     "output_type": "stream",
     "text": [
      "Original Grid:\n"
     ]
    },
    {
     "data": {
      "text/plain": [
       "<Figure size 640x480 with 1 Axes>"
      ],
      "image/png": "[encoded data removed]"
     },
     "metadata": {},
     "output_type": "display_data"
    },
    {
     "name": "stdout",
     "output_type": "stream",
     "text": [
      "\n",
      "Reconstructed Grid:\n"
     ]
    },
    {
     "data": {
      "text/plain": [
       "<Figure size 640x480 with 1 Axes>"
      ],
      "image/png": "[encoded data removed]"
     },
     "metadata": {},
     "output_type": "display_data"
    }
   ],
   "execution_count": 4
  }
 ],
 "metadata": {
  "kernelspec": {
   "display_name": "Python 3",
   "language": "python",
   "name": "python3"
  },
  "language_info": {
   "codemirror_mode": {
    "name": "ipython",
    "version": 2
   },
   "file_extension": ".py",
   "mimetype": "text/x-python",
   "name": "python",
   "nbconvert_exporter": "python",
   "pygments_lexer": "ipython2",
   "version": "2.7.6"
  }
 },
 "nbformat": 4,
 "nbformat_minor": 5
}
