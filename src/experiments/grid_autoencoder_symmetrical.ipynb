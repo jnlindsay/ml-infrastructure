{
 "cells": [
  {
   "metadata": {},
   "cell_type": "markdown",
   "source": "Imports and constants",
   "id": "e5785f297d49ecf0"
  },
  {
   "cell_type": "code",
   "id": "initial_id",
   "metadata": {
    "collapsed": true,
    "jupyter": {
     "is_executing": true
    }
   },
   "source": [
    "from trainers.grid_autoencoder_trainer import GridAutoencoderTrainer\n",
    "from utilities.grid import GridFactory\n",
    "from utilities.visualiser import Visualiser\n",
    "\n",
    "NUM_ROWS = 10\n",
    "NUM_COLS = 10"
   ],
   "outputs": [],
   "execution_count": null
  },
  {
   "metadata": {},
   "cell_type": "markdown",
   "source": "Set up trainers and training phases",
   "id": "73aa25d764241fe3"
  },
  {
   "metadata": {
    "ExecuteTime": {
     "end_time": "2024-12-22T05:08:09.628791Z",
     "start_time": "2024-12-22T05:08:02.986546Z"
    }
   },
   "cell_type": "code",
   "source": [
    "grid_autoencoder_trainer_non_symmetrical = GridAutoencoderTrainer(NUM_ROWS, NUM_COLS)\n",
    "grid_autoencoder_trainer_symmetrical = GridAutoencoderTrainer(NUM_ROWS, NUM_COLS)\n",
    "\n",
    "training_phases_non_symmetrical = [\n",
    "    GridAutoencoderTrainer.TrainingPhase(\"random\", 1000, 1000)\n",
    "]\n",
    "\n",
    "training_phases_symmetrical = [\n",
    "    GridAutoencoderTrainer.TrainingPhase(\"random_symmetrical\", 1000, 1000)\n",
    "]"
   ],
   "id": "a66da916c93f6964",
   "outputs": [],
   "execution_count": 2
  },
  {
   "metadata": {},
   "cell_type": "markdown",
   "source": "Train models",
   "id": "b4961fbcf2c37ec6"
  },
  {
   "metadata": {
    "ExecuteTime": {
     "end_time": "2024-12-22T05:08:09.630660Z",
     "start_time": "2024-12-22T05:08:03.086440Z"
    }
   },
   "cell_type": "code",
   "source": [
    "grid_autoencoder_trainer_non_symmetrical.train(training_phases_non_symmetrical)\n",
    "grid_autoencoder_trainer_symmetrical.train(training_phases_symmetrical)"
   ],
   "id": "3cdf8d65f53816b3",
   "outputs": [
    {
     "name": "stdout",
     "output_type": "stream",
     "text": [
      "Loading model from file '/Users/jeremylindsay/Documents/Programming/ml-infrastructure/src/trainers/saved_models/grid_autoencoder_33d77034b8e2bcfd1ef78f0095cea1da577b0848493f3c2d85ea3b6313871999.pth'...\n",
      "Loading model from file '/Users/jeremylindsay/Documents/Programming/ml-infrastructure/src/trainers/saved_models/grid_autoencoder_525c47da20583022a66731c595b68252973eec45c2fce7c139ca76f3dae5328c.pth'...\n"
     ]
    }
   ],
   "execution_count": 3
  },
  {
   "metadata": {},
   "cell_type": "markdown",
   "source": "Test models on symmetrical demonstration grid",
   "id": "7dc7d042a6bf9c08"
  },
  {
   "metadata": {
    "ExecuteTime": {
     "end_time": "2024-12-22T05:08:09.631724Z",
     "start_time": "2024-12-22T05:08:03.121381Z"
    }
   },
   "cell_type": "code",
   "source": [
    "demo_grid_factory = GridFactory(NUM_ROWS, NUM_COLS)\n",
    "demo_grid = demo_grid_factory.generate_random_symmetrical().unsqueeze(0)\n",
    "\n",
    "grid_autoencoder_trainer_non_symmetrical.demonstrate(demo_example=demo_grid)\n",
    "grid_autoencoder_trainer_symmetrical.demonstrate(demo_example=demo_grid)"
   ],
   "id": "8a7740f80c6d9d78",
   "outputs": [
    {
     "name": "stdout",
     "output_type": "stream",
     "text": [
      "Original Grid:\n",
      "['0.74', '0.05', '0.90', '0.83', '0.21', '0.21', '0.83', '0.90', '0.05', '0.74']\n",
      "['0.32', '0.92', '0.99', '0.65', '0.46', '0.46', '0.65', '0.99', '0.92', '0.32']\n",
      "['0.75', '0.88', '0.94', '0.20', '0.99', '0.99', '0.20', '0.94', '0.88', '0.75']\n",
      "['0.18', '0.44', '0.23', '0.29', '0.19', '0.19', '0.29', '0.23', '0.44', '0.18']\n",
      "['0.14', '0.16', '0.95', '0.44', '0.05', '0.05', '0.44', '0.95', '0.16', '0.14']\n",
      "['0.14', '0.12', '0.51', '0.67', '0.68', '0.68', '0.67', '0.51', '0.12', '0.14']\n",
      "['0.90', '0.40', '0.73', '0.70', '0.88', '0.88', '0.70', '0.73', '0.40', '0.90']\n",
      "['1.00', '0.77', '0.53', '0.45', '0.62', '0.62', '0.45', '0.53', '0.77', '1.00']\n",
      "['0.01', '0.12', '0.97', '0.92', '0.69', '0.69', '0.92', '0.97', '0.12', '0.01']\n",
      "['0.05', '0.90', '0.38', '0.51', '0.61', '0.61', '0.51', '0.38', '0.90', '0.05']\n",
      "\n",
      "Reconstructed Grid:\n",
      "['0.39', '0.23', '0.79', '0.77', '0.14', '0.03', '0.33', '0.03', '0.45', '0.62']\n",
      "['0.23', '0.76', '0.99', '0.01', '0.87', '0.86', '1.00', '0.93', '0.03', '0.25']\n",
      "['0.93', '0.08', '0.54', '0.29', '0.20', '0.09', '0.90', '0.58', '0.91', '0.95']\n",
      "['0.98', '0.42', '0.04', '0.48', '0.34', '0.89', '0.89', '0.19', '0.93', '0.11']\n",
      "['0.25', '0.06', '0.27', '0.72', '0.51', '0.71', '0.01', '0.15', '0.11', '0.90']\n",
      "['0.67', '0.27', '0.98', '0.30', '0.04', '0.93', '0.68', '0.24', '0.02', '0.34']\n",
      "['0.01', '0.35', '0.86', '0.39', '0.30', '0.92', '0.01', '0.11', '0.94', '0.89']\n",
      "['0.43', '0.03', '0.45', '0.45', '0.98', '0.82', '0.43', '0.56', '0.09', '0.86']\n",
      "['0.07', '0.17', '0.72', '0.68', '0.87', '0.01', '0.99', '0.29', '0.96', '0.83']\n",
      "['0.18', '0.28', '0.37', '0.46', '0.01', '0.88', '0.43', '0.46', '0.25', '0.48']\n",
      "Original Grid:\n",
      "['0.74', '0.05', '0.90', '0.83', '0.21', '0.21', '0.83', '0.90', '0.05', '0.74']\n",
      "['0.32', '0.92', '0.99', '0.65', '0.46', '0.46', '0.65', '0.99', '0.92', '0.32']\n",
      "['0.75', '0.88', '0.94', '0.20', '0.99', '0.99', '0.20', '0.94', '0.88', '0.75']\n",
      "['0.18', '0.44', '0.23', '0.29', '0.19', '0.19', '0.29', '0.23', '0.44', '0.18']\n",
      "['0.14', '0.16', '0.95', '0.44', '0.05', '0.05', '0.44', '0.95', '0.16', '0.14']\n",
      "['0.14', '0.12', '0.51', '0.67', '0.68', '0.68', '0.67', '0.51', '0.12', '0.14']\n",
      "['0.90', '0.40', '0.73', '0.70', '0.88', '0.88', '0.70', '0.73', '0.40', '0.90']\n",
      "['1.00', '0.77', '0.53', '0.45', '0.62', '0.62', '0.45', '0.53', '0.77', '1.00']\n",
      "['0.01', '0.12', '0.97', '0.92', '0.69', '0.69', '0.92', '0.97', '0.12', '0.01']\n",
      "['0.05', '0.90', '0.38', '0.51', '0.61', '0.61', '0.51', '0.38', '0.90', '0.05']\n",
      "\n",
      "Reconstructed Grid:\n",
      "['0.96', '0.50', '0.99', '0.91', '0.11', '0.28', '0.97', '0.95', '0.27', '0.98']\n",
      "['0.01', '0.97', '0.99', '0.97', '0.13', '0.26', '0.99', '0.96', '0.99', '0.08']\n",
      "['0.90', '0.89', '0.96', '0.85', '0.97', '0.98', '0.95', '0.97', '0.38', '0.86']\n",
      "['0.14', '0.15', '0.05', '0.01', '0.27', '0.13', '0.09', '0.18', '0.70', '0.27']\n",
      "['0.05', '0.06', '0.93', '0.91', '0.09', '0.17', '0.91', '0.87', '0.12', '0.03']\n",
      "['0.53', '0.27', '0.07', '0.93', '0.92', '0.55', '0.89', '0.32', '0.36', '0.24']\n",
      "['0.12', '0.04', '0.57', '0.90', '0.83', '0.30', '0.58', '0.56', '0.37', '0.84']\n",
      "['0.82', '0.12', '0.25', '0.82', '0.71', '0.80', '0.62', '0.11', '0.78', '0.92']\n",
      "['0.04', '0.07', '0.55', '0.91', '0.96', '0.98', '0.97', '0.93', '0.58', '0.03']\n",
      "['0.07', '0.84', '0.45', '0.66', '0.34', '0.09', '0.63', '0.40', '0.95', '0.07']\n"
     ]
    }
   ],
   "execution_count": 4
  },
  {
   "metadata": {
    "ExecuteTime": {
     "end_time": "2024-12-22T05:08:09.631867Z",
     "start_time": "2024-12-22T05:08:03.140504Z"
    }
   },
   "cell_type": "code",
   "source": "Visualiser.visualise(demo_grid.squeeze())",
   "id": "26924e97a273ecb8",
   "outputs": [
    {
     "data": {
      "text/plain": [
       "<Figure size 640x480 with 1 Axes>"
      ],
      "image/png": "[encoded data removed]"
     },
     "metadata": {},
     "output_type": "display_data"
    }
   ],
   "execution_count": 5
  }
 ],
 "metadata": {
  "kernelspec": {
   "display_name": "Python 3",
   "language": "python",
   "name": "python3"
  },
  "language_info": {
   "codemirror_mode": {
    "name": "ipython",
    "version": 2
   },
   "file_extension": ".py",
   "mimetype": "text/x-python",
   "name": "python",
   "nbconvert_exporter": "python",
   "pygments_lexer": "ipython2",
   "version": "2.7.6"
  }
 },
 "nbformat": 4,
 "nbformat_minor": 5
}
