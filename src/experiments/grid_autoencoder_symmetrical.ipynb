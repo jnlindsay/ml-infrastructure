{
 "cells": [
  {
   "cell_type": "code",
   "id": "initial_id",
   "metadata": {
    "collapsed": true,
    "ExecuteTime": {
     "end_time": "2024-12-22T04:36:52.508068Z",
     "start_time": "2024-12-22T04:36:51.666397Z"
    }
   },
   "source": "from trainers.grid_autoencoder_trainer import GridAutoencoderTrainer",
   "outputs": [],
   "execution_count": 1
  },
  {
   "metadata": {},
   "cell_type": "markdown",
   "source": "Set up trainers and training phases",
   "id": "73aa25d764241fe3"
  },
  {
   "metadata": {
    "ExecuteTime": {
     "end_time": "2024-12-22T04:36:53.803072Z",
     "start_time": "2024-12-22T04:36:53.794083Z"
    }
   },
   "cell_type": "code",
   "source": [
    "grid_autoencoder_trainer_non_symmetrical = GridAutoencoderTrainer(10, 10)\n",
    "grid_autoencoder_trainer_symmetrical = GridAutoencoderTrainer(10, 10)\n",
    "\n",
    "training_phases_non_symmetrical = [\n",
    "    GridAutoencoderTrainer.TrainingPhase(\"random\", 1000, 500)\n",
    "]\n",
    "\n",
    "training_phases_symmetrical = [\n",
    "    GridAutoencoderTrainer.TrainingPhase(\"random_symmetrical\", 1000, 500)\n",
    "]"
   ],
   "id": "a66da916c93f6964",
   "outputs": [],
   "execution_count": 2
  },
  {
   "metadata": {},
   "cell_type": "markdown",
   "source": "Train models",
   "id": "b4961fbcf2c37ec6"
  },
  {
   "metadata": {
    "ExecuteTime": {
     "end_time": "2024-12-22T04:36:55.958032Z",
     "start_time": "2024-12-22T04:36:55.946299Z"
    }
   },
   "cell_type": "code",
   "source": [
    "grid_autoencoder_trainer_non_symmetrical.train(training_phases_non_symmetrical)\n",
    "grid_autoencoder_trainer_symmetrical.train(training_phases_symmetrical)"
   ],
   "id": "3cdf8d65f53816b3",
   "outputs": [
    {
     "name": "stdout",
     "output_type": "stream",
     "text": [
      "Loading model from file '/Users/jeremylindsay/Documents/Programming/ml-infrastructure/src/trainers/saved_models/grid_autoencoder_61cc11760c53247483bb388d0bf04f07241ea560c6c3380adf9232953e4a329a.pth'...\n",
      "Loading model from file '/Users/jeremylindsay/Documents/Programming/ml-infrastructure/src/trainers/saved_models/grid_autoencoder_bccc91198180c64bc4c3bd9e15f3aa78f637a7cf39ec22be0965ad28995c2fd5.pth'...\n"
     ]
    }
   ],
   "execution_count": 3
  }
 ],
 "metadata": {
  "kernelspec": {
   "display_name": "Python 3",
   "language": "python",
   "name": "python3"
  },
  "language_info": {
   "codemirror_mode": {
    "name": "ipython",
    "version": 2
   },
   "file_extension": ".py",
   "mimetype": "text/x-python",
   "name": "python",
   "nbconvert_exporter": "python",
   "pygments_lexer": "ipython2",
   "version": "2.7.6"
  }
 },
 "nbformat": 4,
 "nbformat_minor": 5
}
