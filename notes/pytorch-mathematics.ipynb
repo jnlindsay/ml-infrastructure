{
 "cells": [
  {
   "cell_type": "markdown",
   "metadata": {},
   "source": [
    "General notes.\n",
    "- PyTorch sometimes (often? always?) assumes vectors are _row_ vectors."
   ]
  },
  {
   "cell_type": "markdown",
   "metadata": {},
   "source": [
    "### [Linear](https://pytorch.org/docs/stable/generated/torch.nn.Linear.html#torch.nn.Linear)\n",
    "\n",
    "\\begin{align*}\n",
    "    \\mathrm{torch.nn.Linear} : \\mathbb R^m &\\to \\mathbb R^n \\\\\n",
    "    \\mathbf x &\\mapsto W \\mathbf x + \\mathbf b\n",
    "\\end{align*}"
   ]
  }
 ],
 "metadata": {
  "language_info": {
   "name": "python"
  }
 },
 "nbformat": 4,
 "nbformat_minor": 2
}
