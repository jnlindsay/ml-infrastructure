{
 "cells": [
  {
   "cell_type": "markdown",
   "metadata": {},
   "source": [
    "Let $M$, $N$ be two modules with identity over a ring R.\n",
    "- A \"tensor product\" provides structure for \"multiplying\" any two elements $m \\in M$ and $n \\in N$."
   ]
  }
 ],
 "metadata": {
  "language_info": {
   "name": "python"
  }
 },
 "nbformat": 4,
 "nbformat_minor": 2
}
